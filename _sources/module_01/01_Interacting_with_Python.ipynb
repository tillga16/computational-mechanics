{
 "cells": [
  {
   "cell_type": "markdown",
   "id": "f677d634",
   "metadata": {},
   "source": [
    "> __Content modified under Creative Commons Attribution license CC-BY\n",
    "> 4.0, code under BSD 3-Clause License © 2020 R.C. Cooper__"
   ]
  },
  {
   "cell_type": "markdown",
   "id": "3ddb23f9",
   "metadata": {},
   "source": [
    "# 01 - Interacting with Python\n",
    "\n",
    "These notebooks are a combination of original work and modified\n",
    "notebooks from [Engineers\n",
    "Code](https://github.com/engineersCode/EngComp.git) learning modules.\n",
    "The learning modules are covered under a Creative Commons License, so\n",
    "you can modify and publish *and give credit to L.A. Barba and N.C.\n",
    "Clementi*.\n",
    "\n",
    "Your first goal is to interact with Python and handle data in Python.\n",
    "But let's also learn a little bit of background."
   ]
  },
  {
   "cell_type": "markdown",
   "id": "4e430a6d",
   "metadata": {},
   "source": [
    "## What is Python?\n",
    "\n",
    "Python was born in the late 1980s. Its creator, [Guido van\n",
    "Rossum](https://en.wikipedia.org/wiki/Guido_van_Rossum), named it after\n",
    "the British comedy \"Monty Python's Flying Circus.\" His goal was to\n",
    "create \"an easy and intuitive language just as powerful as major\n",
    "competitors,\" producing computer code \"that is as understandable as\n",
    "plain English.\"\n",
    "\n",
    "Python is a _general-purpose_ language, which means that you\n",
    "can use it for anything:  organizing data, scraping the web, creating\n",
    "websites, analyzing sounds, creating games, and of course _engineering\n",
    "computations_.\n",
    "\n",
    "Python is an _interpreted_ language. This means that you can write\n",
    "Python commands and the computer can execute those instructions\n",
    "directly. Other programming languages—like C, C++ and Fortran—require a\n",
    "previous _compilation_ step: translating the commands into machine\n",
    "language.  A neat ability of Python is to be used _interactively_.\n",
    "[Fernando\n",
    "Perez](https://en.wikipedia.org/wiki/Fernando_Pérez_(software_developer)\n",
    "famously created **IPython** as a side-project during his PhD. The \"I\"\n",
    "in IPython stands for interactive: a style of computing that is very\n",
    "powerful for developing ideas and solutions incrementally, thinking with\n",
    "the computer as a kind of collaborator."
   ]
  },
  {
   "cell_type": "markdown",
   "id": "4114f45e",
   "metadata": {},
   "source": [
    "## Why Python?\n",
    "\n",
    "\n",
    "_Because it's fun!_ With Python, the more you learn, the more you _want_\n",
    "to learn.  You can find lots of resources online and, since Python is an\n",
    "open-source project, you'll also find a friendly community of people\n",
    "sharing their knowledge.  _And it's free!_\n",
    "\n",
    "Python is a _high-productivity language_. As a programmer,\n",
    "you'll need less time to develop a solution with Python than with most\n",
    "other languages.  This is important to always bring up whenever someone\n",
    "complains that \"Python is slow.\" Your time is more valuable than a\n",
    "machine's!  (See the Recommended Readings section at the end of this\n",
    "lesson.) And if you really need to speed up our program, you can re-write\n",
    "the slow parts in a compiled language afterwards.  Because Python plays\n",
    "well with other languages :–)\n",
    "\n",
    "The top technology companies use Python: Google, Facebook, Dropbox,\n",
    "Wikipedia, Yahoo!, YouTube... Python took the No. 1 spot in the\n",
    "interactive list of [The 2017 Top Programming\n",
    "Languages](http://spectrum.ieee.org/computing/software/the-2017-top-programming-languages),\n",
    "by _IEEE Spectrum_ ([IEEE](http://www.ieee.org/about/index.html) is the\n",
    "world's largest technical professional society).  <!-- #endregion -->\n",
    "\n",
    "> _Python is a versatile language, you can analyze data, build\n",
    "> websites (e.g., Instagram, Mozilla, Pinterest), make art or music, etc.\n",
    "> Because it is a versatile language, employers love Python: if you know\n",
    "> Python they will want to hire you._ \n",
    "> \n",
    "> — Jessica McKellar, ex Director of the Python Software Foundation, in a\n",
    "> [2014 tutorial](https://youtu.be/rkx5_MRAV3A).\n",
    "\n",
    "\n",
    "## Let's get started\n",
    "\n",
    "You could follow this first lesson using IPython. If you have it\n",
    "installed in the computer you're using, you enter the program by typing\n",
    "`ipython` on the command-line interface (the **Terminal** app on Mac\n",
    "OSX, and on Windows the **PowerShell** or a similar app).  A free\n",
    "service to try IPython online, right from your browser, is [Python\n",
    "Anywhere](https://www.pythonanywhere.com/try-ipython/). You can execute\n",
    "all the examples of this lesson in IPython using this service. \n",
    "\n",
    "You can also use Jupyter: an environment that combines programming with\n",
    "other content, like text and images, to form a \"computational\n",
    "narrative.\" All of these lessons are written in Jupyter notebooks. \n",
    "\n",
    "For this lesson, you should open a blank\n",
    "Jupyter notebook, or are working interactively with this lesson.  On a\n",
    "blank Jupyter notebook, you should have in front of you the input line\n",
    "counter:\n",
    "\n",
    "`In[1]:`\n",
    "\n",
    "That input line is ready to receive any Python code to be executed\n",
    "interactively. The output of the code will be shown to you next to\n",
    "`Out[1]`, and so on for successive input/output lines in IPython, or\n",
    "code cells in Jupyter.\n",
    "\n",
    "\n",
    "### Your first program\n",
    "\n",
    "In every programming class ever, your first program consists of printing\n",
    "a _\"Hello\"_ message. In Python, use the `print()` function, with your\n",
    "message inside quotation marks."
   ]
  },
  {
   "cell_type": "code",
   "execution_count": 1,
   "id": "051c641c",
   "metadata": {},
   "outputs": [
    {
     "name": "stdout",
     "output_type": "stream",
     "text": [
      "Hello world!!\n"
     ]
    }
   ],
   "source": [
    "print(\"Hello world!!\")"
   ]
  },
  {
   "cell_type": "markdown",
   "id": "a0b51fb4",
   "metadata": {},
   "source": [
    "You just wrote your first program and you learned how to use the\n",
    "`print()` function. Yes, `print()` is a function: we pass the _argument_\n",
    "you want the function to act on, inside the parentheses. In the case\n",
    "above, you passed a _string_, which is a series of characters between\n",
    "quotation marks. Strings will come back later in this lesson.  \n",
    "\n",
    "\n",
    "##### Key concept: function\n",
    "\n",
    "A function is a compact collection of code that executes some action on\n",
    "its _arguments_.  Every Python function has a _name_, used to call it,\n",
    "and takes its arguments inside round brackets. Some arguments may be\n",
    "optional (which means they have a default value defined inside the\n",
    "function), others are required. For example, the `print()` function has\n",
    "one required argument: the string of characters it should print out for\n",
    "you.\n",
    "\n",
    "Python comes with many _built-in_ functions, but you can also build your\n",
    "own. Chunking blocks of code into functions is one of the best\n",
    "strategies to deal with complex programs. It makes you more efficient,\n",
    "because you can reuse the code that you wrote into a function.\n",
    "Modularity and reuse are every programmer's friends.\n",
    "\n",
    "<!-- #region -->\n",
    "### Python as a calculator\n",
    "\n",
    "Try any arithmetic operation in IPython or a Jupyter code cell. The\n",
    "symbols are what you would expect, except for the\n",
    "\"raise-to-the-power-of\" operator, which you obtain with two asterisks:\n",
    "`**`. Try all of these:\n",
    "\n",
    "```python\n",
    "+   -   *   /   **   %   //\n",
    "```\n",
    "\n",
    "The `%` symbol is the _modulo_ operator (divide and return the remainder), and the double-slash is _floor division_."
   ]
  },
  {
   "cell_type": "code",
   "execution_count": 2,
   "id": "c5b9185d",
   "metadata": {},
   "outputs": [
    {
     "data": {
      "text/plain": [
       "4"
      ]
     },
     "execution_count": 2,
     "metadata": {},
     "output_type": "execute_result"
    }
   ],
   "source": [
    "2 + 2"
   ]
  },
  {
   "cell_type": "code",
   "execution_count": 3,
   "id": "56098a22",
   "metadata": {},
   "outputs": [
    {
     "data": {
      "text/plain": [
       "4.9"
      ]
     },
     "execution_count": 3,
     "metadata": {},
     "output_type": "execute_result"
    }
   ],
   "source": [
    "1.25 + 3.65"
   ]
  },
  {
   "cell_type": "code",
   "execution_count": 4,
   "id": "46b263c9",
   "metadata": {},
   "outputs": [
    {
     "data": {
      "text/plain": [
       "2"
      ]
     },
     "execution_count": 4,
     "metadata": {},
     "output_type": "execute_result"
    }
   ],
   "source": [
    "5 - 3"
   ]
  },
  {
   "cell_type": "code",
   "execution_count": 5,
   "id": "bda15ece",
   "metadata": {},
   "outputs": [
    {
     "data": {
      "text/plain": [
       "8"
      ]
     },
     "execution_count": 5,
     "metadata": {},
     "output_type": "execute_result"
    }
   ],
   "source": [
    "2 * 4"
   ]
  },
  {
   "cell_type": "code",
   "execution_count": 6,
   "id": "72471d13",
   "metadata": {},
   "outputs": [
    {
     "data": {
      "text/plain": [
       "3.5"
      ]
     },
     "execution_count": 6,
     "metadata": {},
     "output_type": "execute_result"
    }
   ],
   "source": [
    "7 / 2"
   ]
  },
  {
   "cell_type": "code",
   "execution_count": 7,
   "id": "efaf6a43",
   "metadata": {},
   "outputs": [
    {
     "data": {
      "text/plain": [
       "8"
      ]
     },
     "execution_count": 7,
     "metadata": {},
     "output_type": "execute_result"
    }
   ],
   "source": [
    "2**3"
   ]
  },
  {
   "cell_type": "markdown",
   "id": "a5abb329",
   "metadata": {},
   "source": [
    "Here's an interesting case:"
   ]
  },
  {
   "cell_type": "code",
   "execution_count": 8,
   "id": "af4e1b20",
   "metadata": {},
   "outputs": [
    {
     "data": {
      "text/plain": [
       "4.5"
      ]
     },
     "execution_count": 8,
     "metadata": {},
     "output_type": "execute_result"
    }
   ],
   "source": [
    "9**1/2"
   ]
  },
  {
   "cell_type": "markdown",
   "id": "0bac6a41",
   "metadata": {},
   "source": [
    "##### Discussion point:\n",
    "_What happened?_ Isn't $9^{1/2} = 3$? (Raising to the power $1/2$ is the same as taking the square root.) Did Python get this wrong?\n",
    "\n",
    "Compare with this:"
   ]
  },
  {
   "cell_type": "code",
   "execution_count": 9,
   "id": "e1cd73b6",
   "metadata": {},
   "outputs": [
    {
     "data": {
      "text/plain": [
       "3.0"
      ]
     },
     "execution_count": 9,
     "metadata": {},
     "output_type": "execute_result"
    }
   ],
   "source": [
    "9**(1/2)"
   ]
  },
  {
   "cell_type": "markdown",
   "id": "638a1756",
   "metadata": {},
   "source": [
    "Yes! The order of operations matters! \n",
    "\n",
    "To review orders of operations look at [Arithmetics/Order of\n",
    "operations](https://en.wikibooks.org/wiki/Arithmetic/Order_of_Operations).\n",
    "\n",
    "Once in a while, the internet [argues over order of\n",
    "operations](https://twitter.com/pjmdolI/status/1155598050959745026?s=20)\n",
    "\n",
    "<img src=\"https://pbs.twimg.com/media/EAmCTOJXsAYqL4r?format=jpg&name=medium\" alt=\"Order of operations Twitter argument\" style=\"width: 400px;\"/> \n",
    "\n",
    "__Group 1 argued that__:"
   ]
  },
  {
   "cell_type": "code",
   "execution_count": 10,
   "id": "6056d535",
   "metadata": {},
   "outputs": [
    {
     "data": {
      "text/plain": [
       "1.0"
      ]
     },
     "execution_count": 10,
     "metadata": {},
     "output_type": "execute_result"
    }
   ],
   "source": [
    "8 / (2 * (2 + 2))"
   ]
  },
  {
   "cell_type": "markdown",
   "id": "e28b1979",
   "metadata": {},
   "source": [
    "__Group 2 argued that__:"
   ]
  },
  {
   "cell_type": "code",
   "execution_count": 11,
   "id": "2b761807",
   "metadata": {},
   "outputs": [
    {
     "data": {
      "text/plain": [
       "16.0"
      ]
     },
     "execution_count": 11,
     "metadata": {},
     "output_type": "execute_result"
    }
   ],
   "source": [
    "8 / 2 * (2 + 2)"
   ]
  },
  {
   "cell_type": "markdown",
   "id": "534a2531",
   "metadata": {},
   "source": [
    "The blackboard problem is vague in its order of operations, _prompting\n",
    "furious opinions on social media_. Its not clear if the divisor is meant\n",
    "to be the result of $\\frac{8}{2(2+2)}$ or $\\frac{8}{2}(2+2)$. When you\n",
    "translate an equation to code, be deliberate and question the result."
   ]
  },
  {
   "cell_type": "markdown",
   "id": "0df65228",
   "metadata": {},
   "source": [
    "##### Exercises:\n",
    "Use Python (as a calculator) to solve the following two problems:\n",
    "\n",
    "1. The volume of a sphere with radius $r$ is $\\frac{4}{3}\\pi r^3$. What is the volume of a sphere with diameter 6.65 cm?\n",
    "\n",
    "    For the value of $\\pi$ use 3.14159 (for now). Compare your answer with the solution up to 4 decimal numbers.\n",
    "\n",
    "    Hint: 523.5983 is wrong and 615.9184 is also wrong.\n",
    "    \n",
    "2. Suppose the cover price of a book is $\\$ 24.95$, but bookstores get a $40\\%$ discount. Shipping costs $\\$3$ for the first copy and $75$ cents for each additional copy. What is the total wholesale cost for $60$ copies? Compare your answer with the solution up to 2 decimal numbers."
   ]
  },
  {
   "cell_type": "code",
   "execution_count": 12,
   "id": "98ed6e55",
   "metadata": {},
   "outputs": [
    {
     "name": "stdout",
     "output_type": "stream",
     "text": [
      "153.97960151729166\n"
     ]
    }
   ],
   "source": [
    "def sphere_radius(diameter):\n",
    "    radius = diameter / 2\n",
    "    volume = (4/3) * (3.14159) * (radius ** 3)\n",
    "    print (volume)\n",
    "    \n",
    "sphere_radius(6.65)"
   ]
  },
  {
   "cell_type": "code",
   "execution_count": 13,
   "id": "6e3bb2e4",
   "metadata": {},
   "outputs": [
    {
     "name": "stdout",
     "output_type": "stream",
     "text": [
      "945.4499999999999\n"
     ]
    }
   ],
   "source": [
    "def wholesale_cost(copies):\n",
    "    cover_price = 0.60 * 24.95 * copies\n",
    "    shipping_cost = 3 + 0.75 * (copies - 1)\n",
    "    print (cover_price + shipping_cost)\n",
    "    \n",
    "wholesale_cost(60)"
   ]
  },
  {
   "cell_type": "markdown",
   "id": "bd42e243",
   "metadata": {},
   "source": [
    "To reveal the answers, highlight the following line of text using the mouse:"
   ]
  },
  {
   "cell_type": "markdown",
   "id": "c0e472cf",
   "metadata": {},
   "source": [
    "Answer exercise 1: <span style=\"color:white\"> 153.9796 </span> Answer exercise 2: <span style=\"color:white\"> 945.45 </span>"
   ]
  },
  {
   "cell_type": "markdown",
   "id": "7e0ef8b7",
   "metadata": {},
   "source": [
    "### Variables and their type\n",
    "\n",
    "Variables consist of two parts: a **name** and a **value**. When we want\n",
    "to give a variable its name and value, we use the equal sign: `name =\n",
    "value`. This is called an _assignment_. The name of the variable goes on\n",
    "the left and the value on the right. \n",
    "\n",
    "The first thing to get used to is that the equal sign in a variable\n",
    "assignment has a different meaning than it has in Algebra! Think of it\n",
    "as an arrow pointing from `name` to `value`.\n",
    "\n",
    "\n",
    "<img src=\"../images/variables.png\" style=\"width: 400px;\"/> \n",
    "\n",
    "You have many possibilities for variable names: they can be made up of\n",
    "upper and lowercase letters, underscores and digits… although digits\n",
    "cannot go on the front of the name. For example, valid variable names\n",
    "are:\n",
    "\n",
    "```python\n",
    "    x\n",
    "    x1\n",
    "    X_2\n",
    "    name_3\n",
    "    NameLastname\n",
    "```\n",
    "Keep in mind, there are reserved words that you can't use; they are the special Python [keywords](https://docs.python.org/3/reference/lexical_analysis.html#keywords).\n",
    "  \n",
    "OK. Let's assign some values to variables and do some operations with them:"
   ]
  },
  {
   "cell_type": "code",
   "execution_count": 14,
   "id": "8bcb399a",
   "metadata": {},
   "outputs": [],
   "source": [
    "x = 3 "
   ]
  },
  {
   "cell_type": "code",
   "execution_count": 15,
   "id": "b1de0c07",
   "metadata": {},
   "outputs": [],
   "source": [
    "y = 4.5"
   ]
  },
  {
   "cell_type": "markdown",
   "id": "8168d87e",
   "metadata": {},
   "source": [
    "##### Exercise:\n",
    "Print the values of the variables `x` and `y`."
   ]
  },
  {
   "cell_type": "code",
   "execution_count": 16,
   "id": "b3357a2b",
   "metadata": {},
   "outputs": [
    {
     "name": "stdout",
     "output_type": "stream",
     "text": [
      "x = 3 and y = 4.5\n"
     ]
    }
   ],
   "source": [
    "print(\"x =\", x, \"and y =\", y)"
   ]
  },
  {
   "cell_type": "markdown",
   "id": "fab323df",
   "metadata": {},
   "source": [
    "Let's do some arithmetic operations with our new variables:"
   ]
  },
  {
   "cell_type": "code",
   "execution_count": 17,
   "id": "7ca1d215",
   "metadata": {},
   "outputs": [
    {
     "data": {
      "text/plain": [
       "7.5"
      ]
     },
     "execution_count": 17,
     "metadata": {},
     "output_type": "execute_result"
    }
   ],
   "source": [
    "x + y"
   ]
  },
  {
   "cell_type": "code",
   "execution_count": 18,
   "id": "0d9f2095",
   "metadata": {},
   "outputs": [
    {
     "data": {
      "text/plain": [
       "8"
      ]
     },
     "execution_count": 18,
     "metadata": {},
     "output_type": "execute_result"
    }
   ],
   "source": [
    "2**x"
   ]
  },
  {
   "cell_type": "code",
   "execution_count": 19,
   "id": "a9b23f55",
   "metadata": {},
   "outputs": [
    {
     "data": {
      "text/plain": [
       "1.5"
      ]
     },
     "execution_count": 19,
     "metadata": {},
     "output_type": "execute_result"
    }
   ],
   "source": [
    "y - 3"
   ]
  },
  {
   "cell_type": "markdown",
   "id": "5b8efeb7",
   "metadata": {},
   "source": [
    "And now, let's check the values of `x` and `y`. Are they still the same as they were when you assigned them?"
   ]
  },
  {
   "cell_type": "code",
   "execution_count": 20,
   "id": "ba0ec749",
   "metadata": {},
   "outputs": [
    {
     "name": "stdout",
     "output_type": "stream",
     "text": [
      "3\n"
     ]
    }
   ],
   "source": [
    "print(x)"
   ]
  },
  {
   "cell_type": "code",
   "execution_count": 21,
   "id": "7f3e0241",
   "metadata": {},
   "outputs": [
    {
     "name": "stdout",
     "output_type": "stream",
     "text": [
      "4.5\n"
     ]
    }
   ],
   "source": [
    "print(y)"
   ]
  },
  {
   "cell_type": "markdown",
   "id": "a860ccb9",
   "metadata": {},
   "source": [
    "### String variables\n",
    "\n",
    "In addition to name and value, Python variables have a _type_: the type of the value it refers to. For example, an integer value has type `int`, and a real number has type `float`. A string is a variable consisting of a sequence of characters marked by two quotes, and it has type `str`."
   ]
  },
  {
   "cell_type": "code",
   "execution_count": 22,
   "id": "5119920b",
   "metadata": {},
   "outputs": [],
   "source": [
    "z = 'this is a string'"
   ]
  },
  {
   "cell_type": "code",
   "execution_count": 23,
   "id": "88178104",
   "metadata": {},
   "outputs": [],
   "source": [
    "w = '1'"
   ]
  },
  {
   "cell_type": "markdown",
   "id": "0db21ef7",
   "metadata": {},
   "source": [
    " What if you try to \"add\" two strings?"
   ]
  },
  {
   "cell_type": "code",
   "execution_count": 24,
   "id": "a8ccbb6c",
   "metadata": {},
   "outputs": [
    {
     "data": {
      "text/plain": [
       "'this is a string1'"
      ]
     },
     "execution_count": 24,
     "metadata": {},
     "output_type": "execute_result"
    }
   ],
   "source": [
    "z + w"
   ]
  },
  {
   "cell_type": "markdown",
   "id": "da7d64a9",
   "metadata": {},
   "source": [
    "The operation above is called _concatenation_: chaining two strings together into one. Insteresting, eh? But look at this:  \n",
    "\n",
    "```python\n",
    ">>> x + w\n",
    "---------------------------------------------------------------------------\n",
    "TypeError                                 Traceback (most recent call last)\n",
    "<ipython-input-2-13c8da8dc575> in <module>\n",
    "----> 1 x+w\n",
    "\n",
    "TypeError: unsupported operand type(s) for +: 'int' and 'str'\n",
    "```\n",
    "\n",
    "<!-- #region -->\n",
    "_Error!_ Why? Let's inspect what Python has to say and explore what is\n",
    "happening. It helps to read the Error message from bottom, `TypeError:\n",
    "unsupported operand type(s) for +: 'int' and 'str'` to top, `1 x+w`. The\n",
    "bottom, `TypeError`, specifies what kind of error you experienced. The top\n",
    "line, `1 x + w`, tells you where the error occurred, line `1`. \n",
    "\n",
    "Python is a _dynamic language_, which means that you don't _need_ to\n",
    "specify a type to invoke an existing object. The humorous nickname for\n",
    "this is \"duck typing\":\n",
    "\n",
    "#### \"If it looks like a duck, and quacks like a duck, then it's probably a duck.\"\n",
    "\n",
    "In other words, a variable has a type, but you don't need to specify it.\n",
    "It will just behave like it's supposed to when you operate with it\n",
    "(it'll quack and walk like nature intended it to).\n",
    "\n",
    "But sometimes you need to make sure you know the type of a variable. Thankfully, Python offers a function to find out the type of a variable: `type()`."
   ]
  },
  {
   "cell_type": "code",
   "execution_count": 25,
   "id": "a518996e",
   "metadata": {},
   "outputs": [
    {
     "data": {
      "text/plain": [
       "int"
      ]
     },
     "execution_count": 25,
     "metadata": {},
     "output_type": "execute_result"
    }
   ],
   "source": [
    "type(x)"
   ]
  },
  {
   "cell_type": "code",
   "execution_count": 26,
   "id": "dcf07ce6",
   "metadata": {},
   "outputs": [
    {
     "data": {
      "text/plain": [
       "str"
      ]
     },
     "execution_count": 26,
     "metadata": {},
     "output_type": "execute_result"
    }
   ],
   "source": [
    "type(w)"
   ]
  },
  {
   "cell_type": "code",
   "execution_count": 27,
   "id": "5cf061f6",
   "metadata": {},
   "outputs": [
    {
     "data": {
      "text/plain": [
       "float"
      ]
     },
     "execution_count": 27,
     "metadata": {},
     "output_type": "execute_result"
    }
   ],
   "source": [
    "type(y)"
   ]
  },
  {
   "cell_type": "markdown",
   "id": "040e7e49",
   "metadata": {},
   "source": [
    "### More assignments\n",
    "\n",
    "Here you assign a new variable to the result of an operation that involves other variables."
   ]
  },
  {
   "cell_type": "code",
   "execution_count": 28,
   "id": "72f83d28",
   "metadata": {},
   "outputs": [],
   "source": [
    "sum_xy = x + y\n",
    "diff_xy = x - y"
   ]
  },
  {
   "cell_type": "code",
   "execution_count": 29,
   "id": "f7d38606",
   "metadata": {},
   "outputs": [
    {
     "name": "stdout",
     "output_type": "stream",
     "text": [
      "The sum of x and y is: 7.5\n",
      "The difference between x and y is: -1.5\n"
     ]
    }
   ],
   "source": [
    "print('The sum of x and y is:', sum_xy)\n",
    "print('The difference between x and y is:', diff_xy)"
   ]
  },
  {
   "cell_type": "markdown",
   "id": "bd817477",
   "metadata": {},
   "source": [
    "Notice what you did above: you used the `print()` function with a string\n",
    "message, followed by a variable, and Python printed a useful combination\n",
    "of the message and the variable value. This is a pro tip! You want to\n",
    "print for humans. Let's now check the type of the new variables you just created above:"
   ]
  },
  {
   "cell_type": "code",
   "execution_count": 30,
   "id": "27073b55",
   "metadata": {},
   "outputs": [
    {
     "data": {
      "text/plain": [
       "float"
      ]
     },
     "execution_count": 30,
     "metadata": {},
     "output_type": "execute_result"
    }
   ],
   "source": [
    "type(sum_xy)"
   ]
  },
  {
   "cell_type": "code",
   "execution_count": 31,
   "id": "ee62b1a1",
   "metadata": {},
   "outputs": [
    {
     "data": {
      "text/plain": [
       "float"
      ]
     },
     "execution_count": 31,
     "metadata": {},
     "output_type": "execute_result"
    }
   ],
   "source": [
    "type(diff_xy)"
   ]
  },
  {
   "cell_type": "markdown",
   "id": "576bec75",
   "metadata": {},
   "source": [
    "### Reflection point\n",
    "When you created `sum_xy` and `diff_xy` two new variables were created\n",
    "that depended upon previously created variables `x` and `y`.  How else\n",
    "can you accomplish this? Could you make a function? Could you combine\n",
    "the commands in one block as a script?\n",
    "\n",
    "\n",
    "### Special variables\n",
    "\n",
    "Python has special variables that are built into the language. These are: \n",
    "`True`, `False`, `None` and `NotImplemented`. \n",
    "For now, you will look at just the first three of these.\n",
    "\n",
    "**Boolean variables** are used to represent truth values, and they can take one of two possible values: `True` and `False`.\n",
    "_Logical expressions_ return a boolean. Here is the simplest logical expression, using the keyword `not`:"
   ]
  },
  {
   "cell_type": "code",
   "execution_count": 32,
   "id": "e181353e",
   "metadata": {},
   "outputs": [
    {
     "data": {
      "text/plain": [
       "False"
      ]
     },
     "execution_count": 32,
     "metadata": {},
     "output_type": "execute_result"
    }
   ],
   "source": [
    "  not True"
   ]
  },
  {
   "cell_type": "markdown",
   "id": "084b0425",
   "metadata": {},
   "source": [
    "It returns… you guessed it… `False`.\n",
    "\n",
    "The Python function `bool()` returns a truth value assigned to any argument. Any number other than zero has a truth value of `True`, as well as any nonempty string or list. The number zero and any empty string or list will have a truth value of `False`. Explore the `bool()` function with various arguments."
   ]
  },
  {
   "cell_type": "code",
   "execution_count": 33,
   "id": "73981d45",
   "metadata": {},
   "outputs": [
    {
     "data": {
      "text/plain": [
       "False"
      ]
     },
     "execution_count": 33,
     "metadata": {},
     "output_type": "execute_result"
    }
   ],
   "source": [
    "bool(0)"
   ]
  },
  {
   "cell_type": "code",
   "execution_count": 34,
   "id": "3ace1eb6",
   "metadata": {},
   "outputs": [
    {
     "data": {
      "text/plain": [
       "True"
      ]
     },
     "execution_count": 34,
     "metadata": {},
     "output_type": "execute_result"
    }
   ],
   "source": [
    "bool('Do we need oxygen?')"
   ]
  },
  {
   "cell_type": "code",
   "execution_count": 35,
   "id": "a8ff1fbf",
   "metadata": {},
   "outputs": [
    {
     "data": {
      "text/plain": [
       "True"
      ]
     },
     "execution_count": 35,
     "metadata": {},
     "output_type": "execute_result"
    }
   ],
   "source": [
    "bool('We do need oxygen')"
   ]
  },
  {
   "cell_type": "markdown",
   "id": "429cfb95",
   "metadata": {},
   "source": [
    "**None is not Zero**: `None` is a special variable indicating that no value was assigned or that a behavior is undefined. It is different than the value zero, an empty string, or some other nil value. \n",
    "\n",
    "You can check that it is not zero by trying to add it to a number. Let's\n",
    "see what happens when you try that:"
   ]
  },
  {
   "cell_type": "code",
   "execution_count": 36,
   "id": "135c2458",
   "metadata": {},
   "outputs": [],
   "source": [
    "a = None\n",
    "\n",
    "b = 3"
   ]
  },
  {
   "cell_type": "markdown",
   "id": "a71b0279",
   "metadata": {},
   "source": [
    "```python\n",
    ">>> a + b\n",
    "---------------------------------------------------------------------------\n",
    "TypeError                                 Traceback (most recent call\n",
    "last)\n",
    "<ipython-input-5-bd58363a63fc> in <module>\n",
    "----> 1 a + b\n",
    "\n",
    "TypeError: unsupported operand type(s) for +: 'NoneType' and 'int'\n",
    "```\n",
    "\n",
    "### Logical and comparison operators\n",
    "\n",
    "The Python comparison operators are: `<`, `<=`, `>`, `>=`, `==`, `!=`. They compare two objects and return either `True` or `False`: smaller than, smaller or equal, greater than, greater or equal, equal, not equal. Try it!"
   ]
  },
  {
   "cell_type": "code",
   "execution_count": 37,
   "id": "6898db6d",
   "metadata": {},
   "outputs": [],
   "source": [
    "x = 3\n",
    "y = 5"
   ]
  },
  {
   "cell_type": "code",
   "execution_count": 38,
   "id": "5ea1975d",
   "metadata": {},
   "outputs": [
    {
     "data": {
      "text/plain": [
       "False"
      ]
     },
     "execution_count": 38,
     "metadata": {},
     "output_type": "execute_result"
    }
   ],
   "source": [
    "x > y"
   ]
  },
  {
   "cell_type": "markdown",
   "id": "0026e41d",
   "metadata": {},
   "source": [
    "You can assign the truth value of a comparison operation to a new variable name:"
   ]
  },
  {
   "cell_type": "code",
   "execution_count": 39,
   "id": "cf09718b",
   "metadata": {},
   "outputs": [],
   "source": [
    "z = x > y"
   ]
  },
  {
   "cell_type": "code",
   "execution_count": 40,
   "id": "af972e2d",
   "metadata": {},
   "outputs": [
    {
     "data": {
      "text/plain": [
       "False"
      ]
     },
     "execution_count": 40,
     "metadata": {},
     "output_type": "execute_result"
    }
   ],
   "source": [
    "z"
   ]
  },
  {
   "cell_type": "code",
   "execution_count": 41,
   "id": "ede39768",
   "metadata": {},
   "outputs": [
    {
     "data": {
      "text/plain": [
       "bool"
      ]
     },
     "execution_count": 41,
     "metadata": {},
     "output_type": "execute_result"
    }
   ],
   "source": [
    "type(z)"
   ]
  },
  {
   "cell_type": "markdown",
   "id": "e2147163",
   "metadata": {},
   "source": [
    "Logical operators are the following: `and`, `or`, and `not`. They work just like English (with the added bonus of being always consistent, not like English speakers!).  A logical expression with `and` is `True` if both operands are true, and one with `or` is `True` when either operand is true. And the keyword `not` always negates the expression that follows.\n",
    "\n",
    "Let's do some examples:"
   ]
  },
  {
   "cell_type": "code",
   "execution_count": 42,
   "id": "de6b2ed4",
   "metadata": {},
   "outputs": [],
   "source": [
    "a = 5\n",
    "b = 3\n",
    "c = 10"
   ]
  },
  {
   "cell_type": "code",
   "execution_count": 43,
   "id": "ce318cfe",
   "metadata": {},
   "outputs": [
    {
     "data": {
      "text/plain": [
       "False"
      ]
     },
     "execution_count": 43,
     "metadata": {},
     "output_type": "execute_result"
    }
   ],
   "source": [
    "a > b and b > c"
   ]
  },
  {
   "cell_type": "markdown",
   "id": "bf3c9ee7",
   "metadata": {},
   "source": [
    "Remember that the logical operator `and` is `True` only when both operands are `True`. In the case above the first operand is `True` but the second one is `False`. \n",
    "\n",
    "If you try the `or` operation using the same operands you should get a `True`."
   ]
  },
  {
   "cell_type": "code",
   "execution_count": 44,
   "id": "a9926b71",
   "metadata": {},
   "outputs": [
    {
     "data": {
      "text/plain": [
       "True"
      ]
     },
     "execution_count": 44,
     "metadata": {},
     "output_type": "execute_result"
    }
   ],
   "source": [
    "a > b or b > c"
   ]
  },
  {
   "cell_type": "markdown",
   "id": "2f0ef81e",
   "metadata": {},
   "source": [
    "And the negation of the second operand results in …"
   ]
  },
  {
   "cell_type": "code",
   "execution_count": 45,
   "id": "5f3b2f91",
   "metadata": {},
   "outputs": [
    {
     "data": {
      "text/plain": [
       "True"
      ]
     },
     "execution_count": 45,
     "metadata": {},
     "output_type": "execute_result"
    }
   ],
   "source": [
    "not b > c"
   ]
  },
  {
   "cell_type": "code",
   "execution_count": null,
   "id": "c69e554a",
   "metadata": {},
   "outputs": [],
   "source": []
  },
  {
   "cell_type": "code",
   "execution_count": null,
   "id": "ed621734",
   "metadata": {},
   "outputs": [],
   "source": []
  },
  {
   "cell_type": "code",
   "execution_count": null,
   "id": "899213a8",
   "metadata": {},
   "outputs": [],
   "source": []
  },
  {
   "cell_type": "code",
   "execution_count": null,
   "id": "6341f236",
   "metadata": {},
   "outputs": [],
   "source": []
  },
  {
   "cell_type": "markdown",
   "id": "f796b064",
   "metadata": {},
   "source": [
    "What if you negate the second operand in the `and` operation above?\n",
    "\n",
    "##### Note: \n",
    "\n",
    "Be careful with the order of logical operations. The order of precedence in logic is:\n",
    "\n",
    "1. Negation\n",
    "2. And\n",
    "3. Or\n",
    "\n",
    "If you don't rememeber this, make sure to use parentheses to indicate the order you want. \n",
    "\n",
    "\n",
    "##### Exercise:\n",
    "\n",
    "What is happening in the case below? Play around with logical operators and try some examples."
   ]
  },
  {
   "cell_type": "code",
   "execution_count": 46,
   "id": "5993bc62",
   "metadata": {},
   "outputs": [
    {
     "data": {
      "text/plain": [
       "True"
      ]
     },
     "execution_count": 46,
     "metadata": {},
     "output_type": "execute_result"
    }
   ],
   "source": [
    "a > b and not b > c"
   ]
  },
  {
   "cell_type": "markdown",
   "id": "7cad08f2",
   "metadata": {},
   "source": [
    "## What you've learned\n",
    "\n",
    "* Using the `print()` function. The concept of _function_.\n",
    "* Using Python as a calculator.\n",
    "* Concepts of variable, type, assignment.\n",
    "* Special variables: `True`, `False`, `None`.\n",
    "* Supported operations, logical operations. \n",
    "* Reading error messages.\n",
    "\n",
    "\n",
    "## References\n",
    "\n",
    "Throughout this course module, you will be drawing from the following references:\n",
    "\n",
    "1. _Effective Computation in Physics: Field Guide to Research with Python_ (2015). Anthony Scopatz & Kathryn D. Huff. O'Reilly Media, Inc.\n",
    "2. _Python for Everybody: Exploring Data Using Python 3_ (2016). Charles R. Severance. [PDF available](http://do1.dr-chuck.com/pythonlearn/EN_us/pythonlearn.pdf)\n",
    "3. _Think Python: How to Think Like a Computer Scientist_ (2012). Allen Downey. Green Tea Press.  [PDF available](http://greenteapress.com/thinkpython/thinkpython.pdf)\n",
    "\n",
    "\n",
    "# Module 01 - 01 Problems\n",
    "\n",
    "1. Calculate some properties of a rectangular box that is 12.5\"$\\times$11\"$\\times$14\" and weighs 31 lbs\n",
    "\n",
    "    a. What is the volume of the box?\n",
    "    \n",
    "    b. What is the average density of the box?\n",
    "    \n",
    "    c. What is the result of the following logical operation, `volume>1000` (in inches^3)"
   ]
  },
  {
   "cell_type": "code",
   "execution_count": 47,
   "id": "aaafe52f",
   "metadata": {},
   "outputs": [
    {
     "name": "stdout",
     "output_type": "stream",
     "text": [
      "(1.a) The volume of the box is: 1925.00 in^3 \n",
      "\n",
      "(1.b) The average density of the box is: 0.0161 lb/in^3 \n",
      "\n",
      "(1.c) Is the volume of the box larger than 1000 in^3? \n",
      " \t True\n"
     ]
    }
   ],
   "source": [
    "box_dim1 = 12.5\n",
    "box_dim2 = 11\n",
    "box_dim3 = 14\n",
    "box_weight = 31\n",
    "\n",
    "box_volume = box_dim1 * box_dim2 * box_dim3\n",
    "print('(1.a) The volume of the box is: {:0.2f} in^3'.format(box_volume), '\\n')\n",
    "      \n",
    "box_density = box_weight / box_volume\n",
    "print('(1.b) The average density of the box is: {:0.4f} lb/in^3'.format(box_density), '\\n')\n",
    "\n",
    "check = box_volume > 1000\n",
    "print('(1.c) Is the volume of the box larger than 1000 in^3? \\n \\t', check)"
   ]
  },
  {
   "cell_type": "markdown",
   "id": "4207f79b",
   "metadata": {},
   "source": [
    "2. Use the variables given below, `str1` and `str2`, and check the following \n",
    "\n",
    "    a. `str1<str2`\n",
    "    \n",
    "    b. `str1==str2`\n",
    "    \n",
    "    c. `str1>str2`\n",
    "    \n",
    "    d. How could you force (b) to be true? [Hint](https://docs.python.org/3/library/stdtypes.html?highlight=str.lower#str.lower) or [Hint](https://docs.python.org/3/library/stdtypes.html?highlight=str.lower#str.upper)"
   ]
  },
  {
   "cell_type": "code",
   "execution_count": 48,
   "id": "768e2cbf",
   "metadata": {},
   "outputs": [
    {
     "name": "stdout",
     "output_type": "stream",
     "text": [
      "(2.a) The result of str1<str2 is: True \n",
      "\n",
      "(2.b) The result of str1==str2 is: False \n",
      "\n",
      "(2.c) The result of str1>str2 is: False \n",
      "\n",
      "(2.d) Now... the result of str1==str2 is: True\n"
     ]
    }
   ],
   "source": [
    "str1 = 'Python'\n",
    "str2 = 'python'\n",
    "\n",
    "print('(2.a) The result of str1<str2 is:', str1 < str2, '\\n')\n",
    "\n",
    "print('(2.b) The result of str1==str2 is:', str1 == str2, '\\n')\n",
    "\n",
    "print('(2.c) The result of str1>str2 is:', str1 > str2, '\\n')\n",
    "\n",
    "str1 = str1.lower()\n",
    "print('(2.d) Now... the result of str1==str2 is:', str1 == str2)"
   ]
  },
  {
   "cell_type": "markdown",
   "id": "4bf1f9e5",
   "metadata": {},
   "source": [
    "3. The following code has an error, fix the error so that the correct result is returned:\n",
    "\n",
    "```y is 20 and x is less than y```\n",
    "\n",
    "```python\n",
    "x=\"1\"\n",
    "y=20\n",
    "\n",
    "if x<y and y==20:\n",
    "    print('y is 20 and x is less than y')\n",
    "else:\n",
    "    print('x is not less than y')\n",
    "```"
   ]
  },
  {
   "cell_type": "code",
   "execution_count": 49,
   "id": "610db905",
   "metadata": {},
   "outputs": [
    {
     "name": "stdout",
     "output_type": "stream",
     "text": [
      "y is 20 and x is less than y\n"
     ]
    }
   ],
   "source": [
    "x=\"1\"\n",
    "x=int(x) #correction made here by changing the variable type from string to integer\n",
    "y=20\n",
    "\n",
    "if x<y and y==20:\n",
    "    print('y is 20 and x is less than y')\n",
    "else:\n",
    "    print('x is not less than y')"
   ]
  },
  {
   "cell_type": "markdown",
   "id": "dcd7d199",
   "metadata": {},
   "source": [
    "4. Create a script that takes the clock hour in 24 hours and prints the clock hour with am or pm. \n",
    "\n",
    "    Hint: Use an if-else statement with `print` commands"
   ]
  },
  {
   "cell_type": "code",
   "execution_count": 50,
   "id": "07d71d29",
   "metadata": {},
   "outputs": [
    {
     "name": "stdout",
     "output_type": "stream",
     "text": [
      "10 AM"
     ]
    },
    {
     "name": "stdout",
     "output_type": "stream",
     "text": [
      "\n",
      "10 PM\n",
      "12 AM\n",
      "Error: Please input a valid 24-hour time\n"
     ]
    }
   ],
   "source": [
    "def time12hr(time24hr): \n",
    "    if time24hr > 24:\n",
    "        print('Error: Please input a valid 24-hour time')\n",
    "    if time24hr == 24 or time24hr == 0:\n",
    "        print('12 AM')\n",
    "    if time24hr > 12 and time24hr < 24:\n",
    "        print(time24hr - 12, 'PM')\n",
    "    elif time24hr < 12 and time24hr > 0:\n",
    "        print(time24hr, 'AM')\n",
    "    \n",
    "time12hr(10)\n",
    "time12hr(22)\n",
    "time12hr(24)\n",
    "time12hr(500)"
   ]
  }
 ],
 "metadata": {
  "jupytext": {
   "formats": "notebooks//ipynb,md:myst",
   "text_representation": {
    "extension": ".md",
    "format_name": "myst",
    "format_version": 0.13,
    "jupytext_version": "1.11.4"
   }
  },
  "kernelspec": {
   "display_name": "Python 3 (ipykernel)",
   "language": "python",
   "name": "python3"
  },
  "language_info": {
   "codemirror_mode": {
    "name": "ipython",
    "version": 3
   },
   "file_extension": ".py",
   "mimetype": "text/x-python",
   "name": "python",
   "nbconvert_exporter": "python",
   "pygments_lexer": "ipython3",
   "version": "3.9.7"
  },
  "source_map": [
   13,
   18,
   32,
   60,
   128,
   130,
   169,
   173,
   177,
   181,
   185,
   189,
   191,
   195,
   197,
   204,
   206,
   220,
   222,
   226,
   228,
   235,
   248,
   257,
   264,
   268,
   272,
   304,
   308,
   310,
   315,
   317,
   321,
   325,
   329,
   331,
   335,
   339,
   341,
   347,
   351,
   353,
   357,
   359,
   392,
   396,
   400,
   402,
   408,
   413,
   416,
   423,
   427,
   429,
   447,
   449,
   455,
   459,
   463,
   465,
   472,
   476,
   493,
   498,
   500,
   504,
   508,
   512,
   514,
   520,
   526,
   528,
   534,
   536,
   540,
   544,
   548,
   552,
   556,
   558,
   577,
   579,
   610,
   624,
   636,
   648,
   664,
   673,
   679
  ]
 },
 "nbformat": 4,
 "nbformat_minor": 5
}