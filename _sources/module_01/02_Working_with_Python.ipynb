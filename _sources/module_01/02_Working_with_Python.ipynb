{
 "cells": [
  {
   "cell_type": "markdown",
   "id": "7a9232b8",
   "metadata": {},
   "source": [
    "> __Content modified under Creative Commons Attribution license CC-BY\n",
    "> 4.0, code under BSD 3-Clause License © 2020 R.C. Cooper__"
   ]
  },
  {
   "cell_type": "markdown",
   "id": "efb31592",
   "metadata": {},
   "source": [
    "# 02 - Working with Python"
   ]
  },
  {
   "cell_type": "markdown",
   "id": "bd326ab7",
   "metadata": {},
   "source": [
    "## Good coding habits\n",
    "### naming folders and files"
   ]
  },
  {
   "cell_type": "markdown",
   "id": "dddbdfb3",
   "metadata": {},
   "source": [
    "## [Stanford file naming best practices](https://library.stanford.edu/research/data-management-services/data-best-practices/best-practices-file-naming)\n",
    "\n",
    "1. Include information to distinguish file name e.g. project name, objective of function, name/initials, type of data, conditions, version of file, \n",
    "2. if using dates, use YYYYMMDD, so the computer organizes by year, then month, then day\n",
    "3. avoid special characters e.g. !, #, \\$, ...\n",
    "4. avoid using spaces if not necessary, some programs consider a space as a break in code use dashes `-` or underscores `_` or CamelCase"
   ]
  },
  {
   "cell_type": "markdown",
   "id": "49e82d42",
   "metadata": {},
   "source": [
    "## Commenting your code\n",
    "\n",
    "Its important to comment your code \n",
    "\n",
    "- what are variable's units,\n",
    "\n",
    "- what the is the function supposed to do, \n",
    "\n",
    "- etc."
   ]
  },
  {
   "cell_type": "code",
   "execution_count": 1,
   "id": "0892b5d8",
   "metadata": {},
   "outputs": [],
   "source": [
    "def code(i):\n",
    "    '''Example of bad variable names and bad function name'''\n",
    "    m=1\n",
    "    for j in range(1,i+1):\n",
    "        m*=j;\n",
    "    return m"
   ]
  },
  {
   "cell_type": "code",
   "execution_count": 2,
   "id": "dcf4b395",
   "metadata": {},
   "outputs": [
    {
     "data": {
      "text/plain": [
       "3628800"
      ]
     },
     "execution_count": 2,
     "metadata": {},
     "output_type": "execute_result"
    }
   ],
   "source": [
    "code(10)"
   ]
  },
  {
   "cell_type": "markdown",
   "id": "e0c3a9ca",
   "metadata": {},
   "source": [
    "## Choose variable names that describe the variable\n",
    "\n",
    "You might not have recognized that `code(i)` is meant to calculate the [factorial of a number](https://en.wikipedia.org/wiki/Factorial), \n",
    "\n",
    "$N!= N*(N-1)*(N-2)*(N-3)*...3*2*1$. \n",
    "\n",
    "For example, \n",
    "\n",
    "- 4! = 24\n",
    "\n",
    "- 5! = 120\n",
    "\n",
    "- 10! = 3,628,800\n",
    "\n",
    "In the next block, `code` is rewritten and the output is unchanged,\n",
    "but another user can read the code *and* help debug if there is an\n",
    "issue. \n",
    "\n",
    "A function is a compact collection of code that executes some action on its arguments. \n",
    "\n",
    "Once *defined*, you can *call* a function as many times as you want.\n",
    "When you *call* a function, you execute all the code inside the function.\n",
    "The result of the execution depends on the *definition* of the function\n",
    "and on the values that are *passed* into it as *arguments*. Functions\n",
    "might or might not *return* values in their last operation.   \n",
    "\n",
    "The syntax for defining custom Python functions is:\n",
    "\n",
    "```python\n",
    "def function_name(arg_1, arg_2, ...):\n",
    "    '''\n",
    "    docstring: description of the function\n",
    "    '''\n",
    "    <body of the function>\n",
    "```\n",
    "\n",
    "The **docstring** of a function is a message from the programmer\n",
    "documenting what he or she built. Docstrings should be descriptive and\n",
    "concise. They are important because they explain (or remind) the\n",
    "intended use of the function to the users. You can later access the\n",
    "docstring of a function using the function `help()` and passing the name\n",
    "of the function. If you are in a notebook, you can also prepend a\n",
    "question mark `'?'` before the name of the function and run the cell to\n",
    "display the information of a function. \n",
    "\n",
    "Try it!"
   ]
  },
  {
   "cell_type": "code",
   "execution_count": 3,
   "id": "60351fc8",
   "metadata": {},
   "outputs": [],
   "source": [
    "def factorial_function(input_value):\n",
    "    '''Good variable names and better help documentation\n",
    "     \n",
    "    factorial_function(input_number): calculates the factorial of the input_number\n",
    "    where the factorial is defined as N*(N-1)*(N-2)*...*3*2*1\n",
    "    \n",
    "    Arguments\n",
    "    ---------\n",
    "    input_value: an integer >= 0\n",
    "    \n",
    "    Returns\n",
    "    -------\n",
    "    factorial_output: the factorial of input_value'''\n",
    "    \n",
    "    factorial_output=1 # define 0! = 1\n",
    "    for factor in range(1,input_value+1):\n",
    "        factorial_output*=factor; # mutliply factorial_output by 1*2*3*...*N (factor)\n",
    "    return factorial_output\n",
    "         "
   ]
  },
  {
   "cell_type": "code",
   "execution_count": 4,
   "id": "b5a42135",
   "metadata": {},
   "outputs": [
    {
     "data": {
      "text/plain": [
       "24"
      ]
     },
     "execution_count": 4,
     "metadata": {},
     "output_type": "execute_result"
    }
   ],
   "source": [
    "factorial_function(4)"
   ]
  },
  {
   "cell_type": "markdown",
   "id": "d2d06fd1",
   "metadata": {},
   "source": [
    "Defining the function with descriptive variable names and inputs helps to make the function much more useable. \n",
    "\n",
    "Consider the structure of a Python function:\n",
    "\n",
    "```python\n",
    "def factorial_function(input_value):\n",
    "```\n",
    "This first line declares that you are `def`-ining a function that is\n",
    "named `factorial_function`. The inputs to the line are given inside the\n",
    "parantheses, `(input_value)`. You can define as many inputs as we want\n",
    "and even assign default values. \n",
    "\n",
    "```python\n",
    "    '''Good variable names and better help documentation\n",
    "     \n",
    "    factorial_function(input_number): calculates the factorial of the input_number\n",
    "    where the factorial is defined as N*(N-1)*(N-2)*...*3*2*1'''\n",
    "```\n",
    "The next 4 lines define a help documentation that can be accessed with in a couple ways:\n",
    "\n",
    "1. `?factorial_function`\n",
    "\n",
    "2. `factorial_function?`\n",
    "\n",
    "3. `help(factorial_function)`"
   ]
  },
  {
   "cell_type": "code",
   "execution_count": 5,
   "id": "608b69f6",
   "metadata": {},
   "outputs": [],
   "source": [
    "factorial_function?"
   ]
  },
  {
   "cell_type": "markdown",
   "id": "9f8c943d",
   "metadata": {},
   "source": [
    "```python\n",
    "    factorial_output=1 # define 0! = 1\n",
    "```\n",
    "\n",
    "This line sets the variable `factorial_output` to 1. In the next 2 lines\n",
    "update this value based upon the mathematical formula we want to use. In\n",
    "this case, its $1*1*2*3*...*(N-1)*N$\n",
    "\n",
    "```python\n",
    "    for factor in range(1,input_value+1):\n",
    "        factorial_output*=factor; # mutliply m by 1*2*3*...*N (factor)\n",
    "```        \n",
    "\n",
    "These two lines perform the computation that you set out to do. The\n",
    "`for`-loop is going to start at 1 and end at our input value. For each\n",
    "step in the `for`-loop, we will mulitply the `factorial_output` by the\n",
    "`factor`. So when you calculate $4!$, the loop updates\n",
    "`factorial_output` 4 times:\n",
    "\n",
    "1. i=1: factorial_output = $1*1=1$\n",
    "\n",
    "2. i=2: factorial_output = $1*1*2=2$\n",
    "\n",
    "3. i=3: factorial_output = $1*1*2*3=6$\n",
    "\n",
    "4. i=4: factorial_output = $1*1*2*3*4=24$\n",
    "\n",
    "\n",
    "\n",
    "```python\n",
    "    return factorial_output\n",
    "```\n",
    "\n",
    "This final line in our function returns the calculated value,\n",
    "`factorial_output`. You can also return as many values as necessary on this line, \n",
    "\n",
    "for example, if you had variables: `value_1`, `value_2`, and `value_3`\n",
    "you could return all three as such,\n",
    "\n",
    "```python\n",
    "    return value_1,value_2,value_3\n",
    "```"
   ]
  },
  {
   "cell_type": "markdown",
   "id": "e1ee1d5d",
   "metadata": {},
   "source": [
    "## Play with NumPy Arrays\n",
    "\n",
    "\n",
    "In engineering applications, most computing situations benefit from using *arrays*: they are sequences of data all of the _same type_. They behave a lot like lists, except for the constraint in the type of their elements. There is a huge efficiency advantage when you know that all elements of a sequence are of the same type—so equivalent methods for arrays execute a lot faster than those for lists.\n",
    "\n",
    "The Python language is expanded for special applications, like scientific computing, with **libraries**. The most important library in science and engineering is **NumPy**, providing the _n-dimensional array_ data structure (a.k.a, `ndarray`) and a wealth of functions, operations and algorithms for efficient linear-algebra computations.\n",
    "\n",
    "In this lesson, you'll start playing with NumPy arrays and discover their power. You'll also meet another widely loved library: **Matplotlib**, for creating two-dimensional plots of data."
   ]
  },
  {
   "cell_type": "markdown",
   "id": "480ef989",
   "metadata": {},
   "source": [
    "## Importing libraries\n",
    "\n",
    "First, a word on importing libraries to expand your running Python\n",
    "session. Because libraries are large collections of code and are for\n",
    "special purposes, they are not loaded automatically when you launch\n",
    "Python (or IPython, or Jupyter). You have to import a library using the\n",
    "`import` command. For example, to import **NumPy**, with all its\n",
    "linear-algebra goodness, you enter:\n",
    "\n",
    "```python\n",
    "import numpy as np\n",
    "```\n",
    "\n",
    "Once you execute that command in a code cell, you can call any NumPy function using the dot notation, prepending the library name. For example, some commonly used functions are:\n",
    "\n",
    "* [`np.linspace()`](https://docs.scipy.org/doc/numpy/reference/generated/np.linspace.html)\n",
    "* [`np.ones()`](https://docs.scipy.org/doc/numpy/reference/generated/np.ones.html#np.ones)\n",
    "* [`np.zeros()`](https://docs.scipy.org/doc/numpy/reference/generated/np.zeros.html#np.zeros)\n",
    "* [`np.empty()`](https://docs.scipy.org/doc/numpy/reference/generated/np.empty.html#np.empty)\n",
    "* [`np.copy()`](https://docs.scipy.org/doc/numpy/reference/generated/np.copy.html#np.copy)\n",
    "\n",
    "Follow the links to explore the documentation for these very useful NumPy functions!"
   ]
  },
  {
   "cell_type": "code",
   "execution_count": 6,
   "id": "1e144f10",
   "metadata": {},
   "outputs": [],
   "source": [
    "import numpy as np"
   ]
  },
  {
   "cell_type": "markdown",
   "id": "084e3192",
   "metadata": {},
   "source": [
    "## Creating arrays\n",
    "\n",
    "To create a NumPy array from an existing list of (homogeneous) numbers,\n",
    "you call **`np.array()`**, like this:"
   ]
  },
  {
   "cell_type": "code",
   "execution_count": 7,
   "id": "b90bd184",
   "metadata": {},
   "outputs": [
    {
     "data": {
      "text/plain": [
       "array([ 3,  5,  8, 17])"
      ]
     },
     "execution_count": 7,
     "metadata": {},
     "output_type": "execute_result"
    }
   ],
   "source": [
    "np.array([3, 5, 8, 17])"
   ]
  },
  {
   "cell_type": "markdown",
   "id": "80945aa0",
   "metadata": {},
   "source": [
    "NumPy offers many [ways to create\n",
    "arrays](https://docs.scipy.org/doc/numpy/reference/routines.array-creation.html#routines-array-creation)\n",
    "in addition to this. Some of them above. \n",
    "\n",
    "Play with `np.ones()` and `np.zeros()`: they create arrays full of ones\n",
    "and zeros, respectively. You pass as an argument the number of array\n",
    "elements we want."
   ]
  },
  {
   "cell_type": "code",
   "execution_count": 8,
   "id": "dfdff0f4",
   "metadata": {},
   "outputs": [
    {
     "data": {
      "text/plain": [
       "array([1., 1., 1., 1., 1.])"
      ]
     },
     "execution_count": 8,
     "metadata": {},
     "output_type": "execute_result"
    }
   ],
   "source": [
    "np.ones(5)"
   ]
  },
  {
   "cell_type": "code",
   "execution_count": 9,
   "id": "3965624f",
   "metadata": {},
   "outputs": [
    {
     "data": {
      "text/plain": [
       "array([0., 0., 0.])"
      ]
     },
     "execution_count": 9,
     "metadata": {},
     "output_type": "execute_result"
    }
   ],
   "source": [
    "np.zeros(3)"
   ]
  },
  {
   "cell_type": "markdown",
   "id": "99222f16",
   "metadata": {},
   "source": [
    "Another useful one: `np.arange()` gives an array of evenly spaced values in a defined interval. \n",
    "\n",
    "*Syntax:*\n",
    "\n",
    "`np.arange(start, stop, step)`\n",
    "\n",
    "where `start` by default is zero, `stop` is not inclusive, and the default\n",
    "for `step` is one.  Play with it!"
   ]
  },
  {
   "cell_type": "code",
   "execution_count": 10,
   "id": "c518945b",
   "metadata": {},
   "outputs": [
    {
     "data": {
      "text/plain": [
       "array([0, 1, 2, 3])"
      ]
     },
     "execution_count": 10,
     "metadata": {},
     "output_type": "execute_result"
    }
   ],
   "source": [
    "np.arange(4)"
   ]
  },
  {
   "cell_type": "code",
   "execution_count": 11,
   "id": "2c984f82",
   "metadata": {},
   "outputs": [
    {
     "data": {
      "text/plain": [
       "array([2, 3, 4, 5])"
      ]
     },
     "execution_count": 11,
     "metadata": {},
     "output_type": "execute_result"
    }
   ],
   "source": [
    "np.arange(2, 6)"
   ]
  },
  {
   "cell_type": "code",
   "execution_count": 12,
   "id": "57ee6beb",
   "metadata": {},
   "outputs": [
    {
     "data": {
      "text/plain": [
       "array([2, 4])"
      ]
     },
     "execution_count": 12,
     "metadata": {},
     "output_type": "execute_result"
    }
   ],
   "source": [
    "np.arange(2, 6, 2)"
   ]
  },
  {
   "cell_type": "code",
   "execution_count": 13,
   "id": "2bfa92d2",
   "metadata": {},
   "outputs": [
    {
     "data": {
      "text/plain": [
       "array([2. , 2.5, 3. , 3.5, 4. , 4.5, 5. , 5.5])"
      ]
     },
     "execution_count": 13,
     "metadata": {},
     "output_type": "execute_result"
    }
   ],
   "source": [
    "np.arange(2, 6, 0.5)"
   ]
  },
  {
   "cell_type": "markdown",
   "id": "92dd5a68",
   "metadata": {},
   "source": [
    "`np.linspace()` is similar to `np.arange()`, but uses number of samples instead of a step size. It returns an array with evenly spaced numbers over the specified interval.  \n",
    "\n",
    "*Syntax:*\n",
    "\n",
    "`np.linspace(start, stop, num)`\n",
    "\n",
    "`stop` is included by default (it can be removed, read the docs), and `num` by default is 50."
   ]
  },
  {
   "cell_type": "code",
   "execution_count": 14,
   "id": "aac3f774",
   "metadata": {},
   "outputs": [
    {
     "data": {
      "text/plain": [
       "array([2.        , 2.02040816, 2.04081633, 2.06122449, 2.08163265,\n",
       "       2.10204082, 2.12244898, 2.14285714, 2.16326531, 2.18367347,\n",
       "       2.20408163, 2.2244898 , 2.24489796, 2.26530612, 2.28571429,\n",
       "       2.30612245, 2.32653061, 2.34693878, 2.36734694, 2.3877551 ,\n",
       "       2.40816327, 2.42857143, 2.44897959, 2.46938776, 2.48979592,\n",
       "       2.51020408, 2.53061224, 2.55102041, 2.57142857, 2.59183673,\n",
       "       2.6122449 , 2.63265306, 2.65306122, 2.67346939, 2.69387755,\n",
       "       2.71428571, 2.73469388, 2.75510204, 2.7755102 , 2.79591837,\n",
       "       2.81632653, 2.83673469, 2.85714286, 2.87755102, 2.89795918,\n",
       "       2.91836735, 2.93877551, 2.95918367, 2.97959184, 3.        ])"
      ]
     },
     "execution_count": 14,
     "metadata": {},
     "output_type": "execute_result"
    }
   ],
   "source": [
    "np.linspace(2.0, 3.0)"
   ]
  },
  {
   "cell_type": "code",
   "execution_count": 15,
   "id": "aad5cca4",
   "metadata": {},
   "outputs": [
    {
     "data": {
      "text/plain": [
       "50"
      ]
     },
     "execution_count": 15,
     "metadata": {},
     "output_type": "execute_result"
    }
   ],
   "source": [
    "len(np.linspace(2.0, 3.0))"
   ]
  },
  {
   "cell_type": "code",
   "execution_count": 16,
   "id": "2c8b9f4e",
   "metadata": {},
   "outputs": [
    {
     "data": {
      "text/plain": [
       "array([2. , 2.2, 2.4, 2.6, 2.8, 3. ])"
      ]
     },
     "execution_count": 16,
     "metadata": {},
     "output_type": "execute_result"
    }
   ],
   "source": [
    "np.linspace(2.0, 3.0, 6)"
   ]
  },
  {
   "cell_type": "code",
   "execution_count": 17,
   "id": "0db219be",
   "metadata": {},
   "outputs": [
    {
     "data": {
      "text/plain": [
       "array([-1.  , -0.75, -0.5 , -0.25,  0.  ,  0.25,  0.5 ,  0.75,  1.  ])"
      ]
     },
     "execution_count": 17,
     "metadata": {},
     "output_type": "execute_result"
    }
   ],
   "source": [
    "np.linspace(-1, 1, 9)"
   ]
  },
  {
   "cell_type": "markdown",
   "id": "2843a607",
   "metadata": {},
   "source": [
    "## Array operations\n",
    "\n",
    "Let's assign some arrays to variable names and perform some operations with them."
   ]
  },
  {
   "cell_type": "code",
   "execution_count": 18,
   "id": "60e6d92f",
   "metadata": {},
   "outputs": [],
   "source": [
    "x_array = np.linspace(-1, 1, 9)"
   ]
  },
  {
   "cell_type": "markdown",
   "id": "e10aa7cb",
   "metadata": {},
   "source": [
    "Now that you've saved it with a variable name, you can do some\n",
    "computations with the array. For example, take the square of every\n",
    "element of the array, in one go:"
   ]
  },
  {
   "cell_type": "code",
   "execution_count": 19,
   "id": "6726dd58",
   "metadata": {},
   "outputs": [
    {
     "name": "stdout",
     "output_type": "stream",
     "text": [
      "[1.     0.5625 0.25   0.0625 0.     0.0625 0.25   0.5625 1.    ]\n"
     ]
    }
   ],
   "source": [
    "y_array = x_array**2\n",
    "print(y_array)"
   ]
  },
  {
   "cell_type": "markdown",
   "id": "24ca8c16",
   "metadata": {},
   "source": [
    "You can also take the square root of a positive array, using the `np.sqrt()` function:"
   ]
  },
  {
   "cell_type": "code",
   "execution_count": 20,
   "id": "91cdbab9",
   "metadata": {},
   "outputs": [
    {
     "name": "stdout",
     "output_type": "stream",
     "text": [
      "[1.   0.75 0.5  0.25 0.   0.25 0.5  0.75 1.  ]\n"
     ]
    }
   ],
   "source": [
    "z_array = np.sqrt(y_array)\n",
    "print(z_array)"
   ]
  },
  {
   "cell_type": "markdown",
   "id": "ee35fb14",
   "metadata": {},
   "source": [
    "Now that you have different arrays `x_array`, `y_array` and `z_array`,\n",
    "you can do more computations, like add or multiply them. For example:"
   ]
  },
  {
   "cell_type": "code",
   "execution_count": 21,
   "id": "27e8f065",
   "metadata": {},
   "outputs": [
    {
     "name": "stdout",
     "output_type": "stream",
     "text": [
      "[ 0.     -0.1875 -0.25   -0.1875  0.      0.3125  0.75    1.3125  2.    ]\n"
     ]
    }
   ],
   "source": [
    "add_array = x_array + y_array \n",
    "print(add_array)"
   ]
  },
  {
   "cell_type": "markdown",
   "id": "3bba70ce",
   "metadata": {},
   "source": [
    "Array addition is defined element-wise, like when adding two vectors (or matrices). Array multiplication is also element-wise:"
   ]
  },
  {
   "cell_type": "code",
   "execution_count": 22,
   "id": "82b046ba",
   "metadata": {},
   "outputs": [
    {
     "name": "stdout",
     "output_type": "stream",
     "text": [
      "[-1.     -0.5625 -0.25   -0.0625  0.      0.0625  0.25    0.5625  1.    ]\n"
     ]
    }
   ],
   "source": [
    "mult_array = x_array * z_array\n",
    "print(mult_array)"
   ]
  },
  {
   "cell_type": "markdown",
   "id": "1eaad538",
   "metadata": {},
   "source": [
    "You can also divide arrays, but you have to be careful not to divide by zero. This operation will result in a **`nan`** which stands for *Not a Number*. Python will still perform the division, but will tell us about the problem.  \n",
    "\n",
    "Let's see how this might look:"
   ]
  },
  {
   "cell_type": "code",
   "execution_count": 23,
   "id": "a8e3b50c",
   "metadata": {},
   "outputs": [
    {
     "name": "stderr",
     "output_type": "stream",
     "text": [
      "/tmp/ipykernel_1848/2664324349.py:1: RuntimeWarning: invalid value encountered in true_divide\n",
      "  x_array / y_array\n"
     ]
    },
    {
     "data": {
      "text/plain": [
       "array([-1.        , -1.33333333, -2.        , -4.        ,         nan,\n",
       "        4.        ,  2.        ,  1.33333333,  1.        ])"
      ]
     },
     "execution_count": 23,
     "metadata": {},
     "output_type": "execute_result"
    }
   ],
   "source": [
    "x_array / y_array"
   ]
  },
  {
   "cell_type": "markdown",
   "id": "3c0cf4c5",
   "metadata": {},
   "source": [
    "## Multidimensional arrays\n",
    "\n",
    "### 2D arrays \n",
    "\n",
    "NumPy can create arrays of N dimensions.  For example, a 2D array is like a matrix, and is created from a nested list as follows:"
   ]
  },
  {
   "cell_type": "code",
   "execution_count": 24,
   "id": "92615c5d",
   "metadata": {},
   "outputs": [
    {
     "name": "stdout",
     "output_type": "stream",
     "text": [
      "[[1 2]\n",
      " [3 4]]\n"
     ]
    }
   ],
   "source": [
    "array_2d = np.array([[1, 2], [3, 4]])\n",
    "print(array_2d)"
   ]
  },
  {
   "cell_type": "markdown",
   "id": "1ffe7aa9",
   "metadata": {},
   "source": [
    "2D arrays can be added, subtracted, and multiplied:"
   ]
  },
  {
   "cell_type": "code",
   "execution_count": 25,
   "id": "3e7c49e1",
   "metadata": {},
   "outputs": [],
   "source": [
    "X = np.array([[1, 2], [3, 4]])\n",
    "Y = np.array([[1, -1], [0, 1]])"
   ]
  },
  {
   "cell_type": "markdown",
   "id": "dab7a0cf",
   "metadata": {},
   "source": [
    "The addition of these two matrices works exactly as you would expect:"
   ]
  },
  {
   "cell_type": "code",
   "execution_count": 26,
   "id": "ec2e9f5e",
   "metadata": {},
   "outputs": [
    {
     "data": {
      "text/plain": [
       "array([[2, 1],\n",
       "       [3, 5]])"
      ]
     },
     "execution_count": 26,
     "metadata": {},
     "output_type": "execute_result"
    }
   ],
   "source": [
    "X + Y"
   ]
  },
  {
   "cell_type": "markdown",
   "id": "4e94ae2b",
   "metadata": {},
   "source": [
    "What if you try to multiply arrays using the `'*'`operator?"
   ]
  },
  {
   "cell_type": "code",
   "execution_count": 27,
   "id": "7b94dcf4",
   "metadata": {},
   "outputs": [
    {
     "data": {
      "text/plain": [
       "array([[ 1, -2],\n",
       "       [ 0,  4]])"
      ]
     },
     "execution_count": 27,
     "metadata": {},
     "output_type": "execute_result"
    }
   ],
   "source": [
    "X * Y"
   ]
  },
  {
   "cell_type": "markdown",
   "id": "723dc9d3",
   "metadata": {},
   "source": [
    "The multiplication using the `'*'` operator is element-wise. If you want to do matrix multiplication use the `'@'` operator:"
   ]
  },
  {
   "cell_type": "code",
   "execution_count": 28,
   "id": "80a1a337",
   "metadata": {},
   "outputs": [
    {
     "data": {
      "text/plain": [
       "array([[1, 1],\n",
       "       [3, 1]])"
      ]
     },
     "execution_count": 28,
     "metadata": {},
     "output_type": "execute_result"
    }
   ],
   "source": [
    "X @ Y"
   ]
  },
  {
   "cell_type": "markdown",
   "id": "c1c3b34d",
   "metadata": {},
   "source": [
    "Or equivalently use `np.dot()`:"
   ]
  },
  {
   "cell_type": "code",
   "execution_count": 29,
   "id": "3096e767",
   "metadata": {},
   "outputs": [
    {
     "data": {
      "text/plain": [
       "array([[1, 1],\n",
       "       [3, 1]])"
      ]
     },
     "execution_count": 29,
     "metadata": {},
     "output_type": "execute_result"
    }
   ],
   "source": [
    "np.dot(X, Y)"
   ]
  },
  {
   "cell_type": "markdown",
   "id": "f65c0662",
   "metadata": {},
   "source": [
    "### 3D arrays\n",
    "\n",
    "Let's create a 3D array by reshaping a 1D array. You can use\n",
    "[`np.reshape()`](https://docs.scipy.org/doc/numpy/reference/generated/np.reshape.html),\n",
    "where you pass the array we want to reshape and the shape we want to\n",
    "give it, i.e., the number of elements in each dimension. \n",
    "\n",
    "*Syntax*\n",
    " \n",
    "`np.reshape(array, newshape)`\n",
    "\n",
    "For example:"
   ]
  },
  {
   "cell_type": "code",
   "execution_count": 30,
   "id": "148751a7",
   "metadata": {},
   "outputs": [],
   "source": [
    "a = np.arange(24)"
   ]
  },
  {
   "cell_type": "code",
   "execution_count": 31,
   "id": "3c959b8d",
   "metadata": {},
   "outputs": [
    {
     "name": "stdout",
     "output_type": "stream",
     "text": [
      "[[[ 0  1  2  3]\n",
      "  [ 4  5  6  7]\n",
      "  [ 8  9 10 11]]\n",
      "\n",
      " [[12 13 14 15]\n",
      "  [16 17 18 19]\n",
      "  [20 21 22 23]]]\n"
     ]
    }
   ],
   "source": [
    "a_3D = np.reshape(a, (2, 3, 4))\n",
    "print(a_3D)"
   ]
  },
  {
   "cell_type": "markdown",
   "id": "508b7196",
   "metadata": {},
   "source": [
    "You can check for the shape of a NumPy array using the function `np.shape()`:"
   ]
  },
  {
   "cell_type": "code",
   "execution_count": 32,
   "id": "42673a29",
   "metadata": {},
   "outputs": [
    {
     "data": {
      "text/plain": [
       "(2, 3, 4)"
      ]
     },
     "execution_count": 32,
     "metadata": {},
     "output_type": "execute_result"
    }
   ],
   "source": [
    "np.shape(a_3D)"
   ]
  },
  {
   "cell_type": "markdown",
   "id": "7289a2ff",
   "metadata": {},
   "source": [
    "Visualizing the dimensions of the `a_3D` array can be tricky, so here is\n",
    "a diagram that will help you to understand how the dimensions are\n",
    "assigned: each dimension is shown as  a coordinate axis. For a 3D array,\n",
    "on the \"x axis\", you have the sub-arrays that themselves are\n",
    "two-dimensional (matrices). Two of these 2D sub-arrays, in this\n",
    "case; each one has 3 rows and 4 columns. Study this sketch carefully,\n",
    "while comparing with how the array `a_3D` is printed out above. \n",
    "\n",
    "<img src=\"../images/3d_array_sketch.png\" style=\"width: 400px;\"/>"
   ]
  },
  {
   "cell_type": "markdown",
   "id": "1f9f8969",
   "metadata": {},
   "source": [
    "When you have multidimensional arrays, you can access slices of their\n",
    "elements by slicing on each dimension. This is one of the advantages of\n",
    "using arrays: you cannot do this with lists. \n",
    "\n",
    "Let's access some elements of our 2D array called `X`."
   ]
  },
  {
   "cell_type": "code",
   "execution_count": 33,
   "id": "9db4842e",
   "metadata": {},
   "outputs": [
    {
     "data": {
      "text/plain": [
       "array([[1, 2],\n",
       "       [3, 4]])"
      ]
     },
     "execution_count": 33,
     "metadata": {},
     "output_type": "execute_result"
    }
   ],
   "source": [
    "X"
   ]
  },
  {
   "cell_type": "code",
   "execution_count": 34,
   "id": "a0e5e59e",
   "metadata": {},
   "outputs": [
    {
     "data": {
      "text/plain": [
       "1"
      ]
     },
     "execution_count": 34,
     "metadata": {},
     "output_type": "execute_result"
    }
   ],
   "source": [
    "# Grab the element in the 1st row and 1st column \n",
    "X[0, 0]"
   ]
  },
  {
   "cell_type": "code",
   "execution_count": 35,
   "id": "2eab0787",
   "metadata": {},
   "outputs": [
    {
     "data": {
      "text/plain": [
       "2"
      ]
     },
     "execution_count": 35,
     "metadata": {},
     "output_type": "execute_result"
    }
   ],
   "source": [
    "# Grab the element in the 1st row and 2nd column \n",
    "X[0, 1]"
   ]
  },
  {
   "cell_type": "markdown",
   "id": "c10a8990",
   "metadata": {},
   "source": [
    "##### Exercises:\n",
    "\n",
    "From the X array:\n",
    "\n",
    "1. Grab the 2nd element in the 1st column.\n",
    "2. Grab the 2nd element in the 2nd column."
   ]
  },
  {
   "cell_type": "markdown",
   "id": "a4ed4056",
   "metadata": {},
   "source": [
    "Play with slicing on this array:"
   ]
  },
  {
   "cell_type": "code",
   "execution_count": 36,
   "id": "cd0cea44",
   "metadata": {},
   "outputs": [
    {
     "data": {
      "text/plain": [
       "array([1, 3])"
      ]
     },
     "execution_count": 36,
     "metadata": {},
     "output_type": "execute_result"
    }
   ],
   "source": [
    "# Grab the 1st column\n",
    "X[:, 0]"
   ]
  },
  {
   "cell_type": "markdown",
   "id": "fd3be55f",
   "metadata": {},
   "source": [
    "When you don't specify the start and/or end point in the slicing, the\n",
    "symbol `':'` means \"all\". In the example above, you are telling NumPy\n",
    "that we want all the elements from the 0-th index in the second\n",
    "dimension (the first column)."
   ]
  },
  {
   "cell_type": "code",
   "execution_count": 37,
   "id": "d24c0b5d",
   "metadata": {},
   "outputs": [
    {
     "data": {
      "text/plain": [
       "array([1, 2])"
      ]
     },
     "execution_count": 37,
     "metadata": {},
     "output_type": "execute_result"
    }
   ],
   "source": [
    "# Grab the 1st row\n",
    "X[0, :]"
   ]
  },
  {
   "cell_type": "markdown",
   "id": "687d4cde",
   "metadata": {},
   "source": [
    "##### Exercises:\n",
    "\n",
    "From the X array:\n",
    "\n",
    "1. Grab the 2nd column.\n",
    "2. Grab the 2nd row."
   ]
  },
  {
   "cell_type": "markdown",
   "id": "d7deb14d",
   "metadata": {},
   "source": [
    "Let's practice with a 3D array."
   ]
  },
  {
   "cell_type": "code",
   "execution_count": 38,
   "id": "b6aab8e9",
   "metadata": {},
   "outputs": [
    {
     "data": {
      "text/plain": [
       "array([[[ 0,  1,  2,  3],\n",
       "        [ 4,  5,  6,  7],\n",
       "        [ 8,  9, 10, 11]],\n",
       "\n",
       "       [[12, 13, 14, 15],\n",
       "        [16, 17, 18, 19],\n",
       "        [20, 21, 22, 23]]])"
      ]
     },
     "execution_count": 38,
     "metadata": {},
     "output_type": "execute_result"
    }
   ],
   "source": [
    "a_3D"
   ]
  },
  {
   "cell_type": "markdown",
   "id": "a6715ad0",
   "metadata": {},
   "source": [
    "If you want to grab the first column of both matrices in our `a_3D` array, do:"
   ]
  },
  {
   "cell_type": "code",
   "execution_count": 39,
   "id": "95d42650",
   "metadata": {},
   "outputs": [
    {
     "data": {
      "text/plain": [
       "array([[ 0,  4,  8],\n",
       "       [12, 16, 20]])"
      ]
     },
     "execution_count": 39,
     "metadata": {},
     "output_type": "execute_result"
    }
   ],
   "source": [
    "a_3D[:, :, 0]"
   ]
  },
  {
   "cell_type": "markdown",
   "id": "6454415d",
   "metadata": {},
   "source": [
    "The line above is telling NumPy that you want:\n",
    "\n",
    "* first `':'` : from the first dimension, grab all the elements (2 matrices).\n",
    "* second `':'`: from the second dimension, grab all the elements (all the rows).\n",
    "* `'0'`       : from the third dimension, grab the first element (first column).\n",
    "\n",
    "If you want the first 2 elements of the first column of both matrices:"
   ]
  },
  {
   "cell_type": "code",
   "execution_count": 40,
   "id": "5c1fe7ac",
   "metadata": {},
   "outputs": [
    {
     "data": {
      "text/plain": [
       "array([[ 0,  4],\n",
       "       [12, 16]])"
      ]
     },
     "execution_count": 40,
     "metadata": {},
     "output_type": "execute_result"
    }
   ],
   "source": [
    "a_3D[:, 0:2, 0]"
   ]
  },
  {
   "cell_type": "markdown",
   "id": "e1920802",
   "metadata": {},
   "source": [
    "Below, from the first matrix in our `a_3D` array, you will grab the two middle elements (5,6):"
   ]
  },
  {
   "cell_type": "code",
   "execution_count": 41,
   "id": "a4e1b7af",
   "metadata": {},
   "outputs": [
    {
     "data": {
      "text/plain": [
       "array([5, 6])"
      ]
     },
     "execution_count": 41,
     "metadata": {},
     "output_type": "execute_result"
    }
   ],
   "source": [
    "a_3D[0, 1, 1:3]"
   ]
  },
  {
   "cell_type": "markdown",
   "id": "519e6aa1",
   "metadata": {},
   "source": [
    "##### Exercises:\n",
    "\n",
    "From the array named `a_3D`: \n",
    "\n",
    "1. Grab the two middle elements (17, 18) from the second matrix.\n",
    "2. Grab the last row from both matrices.\n",
    "3. Grab the elements of the 1st matrix that exclude the first row and the first column. \n",
    "4. Grab the elements of the 2nd matrix that exclude the last row and the last column."
   ]
  },
  {
   "cell_type": "markdown",
   "id": "32e4d0b9",
   "metadata": {},
   "source": [
    "## NumPy == Fast and Clean! \n",
    "\n",
    "When you are working with numbers, arrays are a better option because\n",
    "the NumPy library has built-in functions that are optimized, and\n",
    "therefore faster than vanilla Python. Especially if we have big arrays.\n",
    "Besides, using NumPy arrays and exploiting their properties makes our\n",
    "code more readable.\n",
    "\n",
    "For example, if you wanted to add element-wise the elements of 2 lists,\n",
    "you need to do it with a `for` statement. If you want to add two NumPy\n",
    "arrays, you just use the addtion `'+'` symbol!\n",
    "\n",
    "Below, you will add two lists and two arrays (with random elements) and\n",
    "you'll compare the time it takes to compute each addition."
   ]
  },
  {
   "cell_type": "markdown",
   "id": "7ee01a5e",
   "metadata": {},
   "source": [
    "### Element-wise sum of a Python list\n",
    "\n",
    "Using the Python library\n",
    "[`random`](https://docs.python.org/3/library/random.html), you will\n",
    "generate two lists with 100 pseudo-random elements in the range [0,100),\n",
    "with no numbers repeated."
   ]
  },
  {
   "cell_type": "code",
   "execution_count": 42,
   "id": "7ebec6b5",
   "metadata": {},
   "outputs": [],
   "source": [
    "#import random library\n",
    "import random"
   ]
  },
  {
   "cell_type": "code",
   "execution_count": 43,
   "id": "7a85f1ed",
   "metadata": {},
   "outputs": [],
   "source": [
    "lst_1 = random.sample(range(100), 100)\n",
    "lst_2 = random.sample(range(100), 100)"
   ]
  },
  {
   "cell_type": "code",
   "execution_count": 44,
   "id": "cee37c44",
   "metadata": {},
   "outputs": [
    {
     "name": "stdout",
     "output_type": "stream",
     "text": [
      "[39, 63, 93, 44, 20, 6, 90, 97, 85, 68]\n",
      "[62, 21, 64, 94, 67, 5, 59, 47, 53, 34]\n"
     ]
    }
   ],
   "source": [
    "#print first 10 elements\n",
    "print(lst_1[0:10])\n",
    "print(lst_2[0:10])"
   ]
  },
  {
   "cell_type": "markdown",
   "id": "3916f3bc",
   "metadata": {},
   "source": [
    "We need to write a `for` statement, appending the result of the\n",
    "element-wise sum into a new list you call `result_lst`. \n",
    "\n",
    "For timing, you can use the IPython \"magic\" `%%time`. Writing at the\n",
    "beginning of the code cell the command `%%time` will give us the time it\n",
    "takes to execute all the code in that cell."
   ]
  },
  {
   "cell_type": "code",
   "execution_count": 45,
   "id": "ab4150d0",
   "metadata": {},
   "outputs": [
    {
     "name": "stdout",
     "output_type": "stream",
     "text": [
      "CPU times: user 22 µs, sys: 3 µs, total: 25 µs\n",
      "Wall time: 28.8 µs\n"
     ]
    }
   ],
   "source": [
    "%%time\n",
    "res_lst = []\n",
    "for i in range(100):\n",
    "    res_lst.append(lst_1[i] + lst_2[i])"
   ]
  },
  {
   "cell_type": "code",
   "execution_count": 46,
   "id": "a10af179",
   "metadata": {},
   "outputs": [
    {
     "name": "stdout",
     "output_type": "stream",
     "text": [
      "[101, 84, 157, 138, 87, 11, 149, 144, 138, 102]\n"
     ]
    }
   ],
   "source": [
    "print(res_lst[0:10])"
   ]
  },
  {
   "cell_type": "markdown",
   "id": "4a6c779d",
   "metadata": {},
   "source": [
    "### Element-wise sum of NumPy arrays\n",
    "\n",
    "In this case, you generate arrays with random integers using the NumPy\n",
    "function\n",
    "[`np.random.randint()`](https://docs.scipy.org/doc/numpy-1.13.0/reference/generated/np.random.randint.html).\n",
    "The arrays you generate with this function are not going to be like the\n",
    "lists: in this case you'll have 100 elements in the range [0, 100) but\n",
    "they can repeat. Our goal is to compare the time it takes to compute\n",
    "addition of a _list_ or an _array_ of numbers, so all that matters is\n",
    "that the arrays and the lists are of the same length and type\n",
    "(integers)."
   ]
  },
  {
   "cell_type": "code",
   "execution_count": 47,
   "id": "41ebe0d0",
   "metadata": {},
   "outputs": [],
   "source": [
    "arr_1 = np.random.randint(0, 100, size=100)\n",
    "arr_2 = np.random.randint(0, 100, size=100)"
   ]
  },
  {
   "cell_type": "code",
   "execution_count": 48,
   "id": "4d5441aa",
   "metadata": {},
   "outputs": [
    {
     "name": "stdout",
     "output_type": "stream",
     "text": [
      "[90 60 84  9 40 19 54 27 20 45]\n",
      "[35 96 82 58  2 71 62 92 54 68]\n"
     ]
    }
   ],
   "source": [
    "#print first 10 elements\n",
    "print(arr_1[0:10])\n",
    "print(arr_2[0:10])"
   ]
  },
  {
   "cell_type": "markdown",
   "id": "8874f61d",
   "metadata": {},
   "source": [
    "Now, you can use the `%%time` cell magic, again, to see how long it takes NumPy to compute the element-wise sum."
   ]
  },
  {
   "cell_type": "code",
   "execution_count": 49,
   "id": "eadc23f7",
   "metadata": {},
   "outputs": [
    {
     "name": "stdout",
     "output_type": "stream",
     "text": [
      "CPU times: user 14 µs, sys: 2 µs, total: 16 µs\n",
      "Wall time: 18.8 µs\n"
     ]
    }
   ],
   "source": [
    "%%time\n",
    "arr_res = arr_1 + arr_2"
   ]
  },
  {
   "cell_type": "markdown",
   "id": "2b8ff23b",
   "metadata": {},
   "source": [
    "Notice that in the case of arrays, the code not only is more readable (just one line of code), but it is also faster than with lists. This time advantage will be larger with bigger arrays/lists. \n",
    "\n",
    "(Your timing results may vary to the ones you show in this notebook, because you will be computing in a different machine.)"
   ]
  },
  {
   "cell_type": "markdown",
   "id": "383d1022",
   "metadata": {},
   "source": [
    "##### Exercise\n",
    "\n",
    "1. Try the comparison between lists and arrays, using bigger arrays; for example, of size 10,000. \n",
    "2. Repeat the analysis, but now computing the operation that raises each element of an array/list to the power two. Use arrays of 10,000 elements."
   ]
  },
  {
   "cell_type": "markdown",
   "id": "517900d8",
   "metadata": {},
   "source": [
    "## Time to Plot\n",
    "\n",
    "You will love the Python library **Matplotlib**! You'll learn here about its module `pyplot`, which makes line plots. \n",
    "\n",
    "We need some data to plot. Let's define a NumPy array, compute derived data using its square, cube and square root (element-wise), and plot these values with the original array in the x-axis."
   ]
  },
  {
   "cell_type": "code",
   "execution_count": 50,
   "id": "844a580c",
   "metadata": {},
   "outputs": [
    {
     "name": "stdout",
     "output_type": "stream",
     "text": [
      "[0.   0.05 0.1  0.15 0.2  0.25 0.3  0.35 0.4  0.45 0.5  0.55 0.6  0.65\n",
      " 0.7  0.75 0.8  0.85 0.9  0.95 1.   1.05 1.1  1.15 1.2  1.25 1.3  1.35\n",
      " 1.4  1.45 1.5  1.55 1.6  1.65 1.7  1.75 1.8  1.85 1.9  1.95 2.  ]\n"
     ]
    }
   ],
   "source": [
    "xarray = np.linspace(0, 2, 41)\n",
    "print(xarray)"
   ]
  },
  {
   "cell_type": "code",
   "execution_count": 51,
   "id": "8c89a0db",
   "metadata": {},
   "outputs": [],
   "source": [
    "pow2 = xarray**2\n",
    "pow3 = xarray**3\n",
    "pow_half = np.sqrt(xarray)"
   ]
  },
  {
   "cell_type": "markdown",
   "id": "661f20fd",
   "metadata": {},
   "source": [
    "## Introduction to plotting\n",
    "\n",
    "To plot the resulting arrays as a function of the orginal one (`xarray`)\n",
    "in the x-axis, you need to import the module `pyplot` from **Matplotlib**."
   ]
  },
  {
   "cell_type": "code",
   "execution_count": 52,
   "id": "cea58817",
   "metadata": {},
   "outputs": [],
   "source": [
    "import matplotlib.pyplot as plt"
   ]
  },
  {
   "cell_type": "markdown",
   "id": "9c044285",
   "metadata": {},
   "source": [
    "## Set up default plotting parameters\n",
    "\n",
    "The default Matplotlib fonts and linewidths are a little small. Pixels are free, so the next two lines increase the fontsize and linewidth"
   ]
  },
  {
   "cell_type": "code",
   "execution_count": 53,
   "id": "615178a2",
   "metadata": {},
   "outputs": [],
   "source": [
    "plt.rcParams.update({'font.size': 22})\n",
    "plt.rcParams['lines.linewidth'] = 3"
   ]
  },
  {
   "cell_type": "markdown",
   "id": "05e4de7e",
   "metadata": {},
   "source": [
    "The line `%matplotlib inline` is an instruction to get the output of plotting commands displayed \"inline\" inside the notebook. Other options for how to deal with plot output are available, but not of interest to you right now."
   ]
  },
  {
   "cell_type": "markdown",
   "id": "23bf56f7",
   "metadata": {},
   "source": [
    "We'll use the **pyplot** `plt.plot()` function, specifying the line color (`'k'` for black) and line style (`'-'`, `'--'` and `':'` for continuous, dashed and dotted line), and giving each line a label. Note that the values for `color`, `linestyle` and `label` are given in quotes."
   ]
  },
  {
   "cell_type": "code",
   "execution_count": 54,
   "id": "bd8b69f2",
   "metadata": {},
   "outputs": [
    {
     "data": {
      "text/plain": [
       "<matplotlib.legend.Legend at 0x7fd7832ffdf0>"
      ]
     },
     "execution_count": 54,
     "metadata": {},
     "output_type": "execute_result"
    },
    {
     "data": {
      "image/png": "[encoded data removed]",
      "text/plain": [
       "<Figure size 432x288 with 1 Axes>"
      ]
     },
     "metadata": {
      "filenames": {
       "image/png": "/home/runner/work/computational-mechanics/computational-mechanics/_build/jupyter_execute/module_01/02_Working_with_Python_104_1.png"
      },
      "needs_background": "light"
     },
     "output_type": "display_data"
    }
   ],
   "source": [
    "#Plot x^2\n",
    "plt.plot(xarray, pow2, color='k', linestyle='-', label='square')\n",
    "#Plot x^3\n",
    "plt.plot(xarray, pow3, color='k', linestyle='--', label='cube')\n",
    "#Plot sqrt(x)\n",
    "plt.plot(xarray, pow_half, color='k', linestyle=':', label='square root')\n",
    "#Plot the legends in the best location\n",
    "plt.legend(loc='best')"
   ]
  },
  {
   "cell_type": "markdown",
   "id": "19fe91b8",
   "metadata": {},
   "source": [
    "To illustrate other features, you will plot the same data, but varying the colors instead of the line style. We'll also use LaTeX syntax to write formulas in the labels. If you want to know more about LaTeX syntax, there is a [quick guide to LaTeX](https://users.dickinson.edu/~richesod/latex/latexcheatsheet.pdf) available online.\n",
    "\n",
    "Adding a semicolon (`';'`) to the last line in the plotting code block prevents that ugly output, like `<matplotlib.legend.Legend at 0x7f8c83cc7898>`. Try it."
   ]
  },
  {
   "cell_type": "code",
   "execution_count": 55,
   "id": "261c82fc",
   "metadata": {},
   "outputs": [
    {
     "data": {
      "image/png": "[encoded data removed]",
      "text/plain": [
       "<Figure size 432x288 with 1 Axes>"
      ]
     },
     "metadata": {
      "filenames": {
       "image/png": "/home/runner/work/computational-mechanics/computational-mechanics/_build/jupyter_execute/module_01/02_Working_with_Python_106_0.png"
      },
      "needs_background": "light"
     },
     "output_type": "display_data"
    }
   ],
   "source": [
    "#Plot x^2\n",
    "plt.plot(xarray, pow2, color='red', linestyle='-', label='$x^2$')\n",
    "#Plot x^3\n",
    "plt.plot(xarray, pow3, color='green', linestyle='-', label='$x^3$')\n",
    "#Plot sqrt(x)\n",
    "plt.plot(xarray, pow_half, color='blue', linestyle='-', label='$\\sqrt{x}$')\n",
    "#Plot the legends in the best location\n",
    "plt.legend(loc='best'); "
   ]
  },
  {
   "cell_type": "markdown",
   "id": "5a2c0fa0",
   "metadata": {},
   "source": [
    "That's very nice! By now, you are probably imagining all the great stuff\n",
    "you can do with Jupyter notebooks, Python and its scientific libraries\n",
    "**NumPy** and **Matplotlib**. We just saw an introduction to plotting\n",
    "but you will keep learning about the power of **Matplotlib** in the next lesson. \n",
    "\n",
    "If you are curious, you can explore all the beautiful plots you can make by browsing the [Matplotlib gallery](http://matplotlib.org/gallery.html)."
   ]
  },
  {
   "cell_type": "markdown",
   "id": "47d5e380",
   "metadata": {},
   "source": [
    "##### Exercise:\n",
    "\n",
    "Pick two different operations to apply to the `xarray` and plot them the resulting data in the same plot."
   ]
  },
  {
   "cell_type": "markdown",
   "id": "d1b43e52",
   "metadata": {},
   "source": [
    "## What you've learned\n",
    "\n",
    "* Good coding habits and file naming\n",
    "* How to define a function and return outputs\n",
    "* How to import libraries\n",
    "* Multidimensional arrays using NumPy\n",
    "* Accessing values and slicing in NumPy arrays\n",
    "* `%%time` magic to time cell execution.\n",
    "* Performance comparison: lists vs NumPy arrays\n",
    "* Basic plotting with `pyplot`."
   ]
  },
  {
   "cell_type": "markdown",
   "id": "bbdb46b9",
   "metadata": {},
   "source": [
    "## References\n",
    "\n",
    "1. [Best practices for file naming](https://library.stanford.edu/research/data-management-services/data-best-practices/best-practices-file-naming). Stanford Libraries\n",
    "\n",
    "1. _Effective Computation in Physics: Field Guide to Research with Python_ (2015). Anthony Scopatz & Kathryn D. Huff. O'Reilly Media, Inc.\n",
    "\n",
    "2. _Numerical Python: A Practical Techniques Approach for Industry_. (2015). Robert Johansson. Appress. \n",
    "\n",
    "2. [\"The world of Jupyter\"—a tutorial](https://github.com/barbagroup/jupyter-tutorial). Lorena A. Barba - 2016"
   ]
  },
  {
   "cell_type": "markdown",
   "id": "68ee1bb4",
   "metadata": {},
   "source": [
    "# Problems\n",
    "\n",
    "1. Create a function called `sincos(x)` that returns two arrays, `sinx` and `cosx` that return the sine and cosine of the input array, `x`. \n",
    "\n",
    "    a. Document your function with a help file in `'''help'''`\n",
    "    \n",
    "    b. Use your function to plot sin(x) and cos(x) for x=$0..2\\pi$"
   ]
  },
  {
   "cell_type": "code",
   "execution_count": null,
   "id": "0db52954",
   "metadata": {},
   "outputs": [],
   "source": []
  },
  {
   "cell_type": "markdown",
   "id": "88ad557d",
   "metadata": {},
   "source": [
    "2. Use a for-loop to create a variable called `A_99`, where every element is the product\n",
    "of the two indices from 0 to 9 e.g. A_99[3,2]=6 and A_99[4,4]=16. \n",
    "\n",
    "    a. time your script using `%%time`    \n",
    "    \n",
    "    b. Calculate the mean of `A_99`\n",
    "\n",
    "    c. Calculate the standard deviation of `A_99`"
   ]
  },
  {
   "cell_type": "code",
   "execution_count": null,
   "id": "09de231f",
   "metadata": {},
   "outputs": [],
   "source": []
  },
  {
   "cell_type": "markdown",
   "id": "c1eb1dc7",
   "metadata": {},
   "source": [
    "3. Use the two arrays, X and Y, given below to create A_99 using numpy array math rather than a for-loop. \n",
    "\n",
    "    a. time your script using `%%time`    \n",
    "    \n",
    "    b. Calculate the mean of `A_99`\n",
    "\n",
    "    c. Calculate the standard deviation of `A_99`\n",
    "        \n",
    "    d. create a filled contour plot of X, Y, A_99 [contourf plot documentation](https://matplotlib.org/3.1.1/api/_as_gen/matplotlib.pyplot.contourf.html)"
   ]
  },
  {
   "cell_type": "code",
   "execution_count": null,
   "id": "c97d7326",
   "metadata": {},
   "outputs": [],
   "source": []
  },
  {
   "cell_type": "markdown",
   "id": "c54f670e",
   "metadata": {},
   "source": [
    "4. The following linear interpolation function has an error. It is supposed to return y(x) given the the two points $p_1=[x_1,~y_1]$ and $p_2=[x_2,~y_2]$. Currently, it just returns and error.\n",
    "\n",
    "```python\n",
    "def linInterp(x,p1,p2):\n",
    "    '''linear interplation function\n",
    "    return y(x) given the two endpoints \n",
    "    p1=np.array([x1,y1])\n",
    "    and\n",
    "    p2=np.array([x2,y2])'''\n",
    "    slope = (p2[2]-p1[2])/(p2[1]-p1[1])\n",
    "    \n",
    "    return p1[2]+slope*(x - p1[1])\n",
    "```"
   ]
  },
  {
   "cell_type": "code",
   "execution_count": null,
   "id": "78c843e5",
   "metadata": {},
   "outputs": [],
   "source": []
  }
 ],
 "metadata": {
  "jupytext": {
   "formats": "notebooks//ipynb,md:myst",
   "text_representation": {
    "extension": ".md",
    "format_name": "myst",
    "format_version": 0.13,
    "jupytext_version": "1.10.3"
   }
  },
  "kernelspec": {
   "display_name": "Python 3",
   "language": "python",
   "name": "python3"
  },
  "language_info": {
   "codemirror_mode": {
    "name": "ipython",
    "version": 3
   },
   "file_extension": ".py",
   "mimetype": "text/x-python",
   "name": "python",
   "nbconvert_exporter": "python",
   "pygments_lexer": "ipython3",
   "version": "3.9.6"
  },
  "source_map": [
   13,
   18,
   22,
   27,
   36,
   48,
   57,
   59,
   108,
   130,
   132,
   162,
   164,
   209,
   220,
   245,
   247,
   254,
   256,
   266,
   270,
   272,
   283,
   287,
   291,
   295,
   297,
   307,
   311,
   315,
   319,
   321,
   327,
   329,
   335,
   338,
   342,
   345,
   350,
   353,
   357,
   360,
   366,
   368,
   376,
   379,
   383,
   386,
   390,
   392,
   396,
   398,
   402,
   404,
   408,
   410,
   425,
   429,
   432,
   436,
   438,
   450,
   458,
   462,
   467,
   470,
   479,
   483,
   486,
   493,
   496,
   505,
   509,
   511,
   515,
   517,
   527,
   529,
   533,
   535,
   546,
   563,
   572,
   577,
   582,
   586,
   595,
   602,
   604,
   618,
   623,
   627,
   631,
   634,
   640,
   647,
   655,
   660,
   664,
   672,
   674,
   680,
   683,
   687,
   691,
   700,
   706,
   715,
   724,
   730,
   743,
   755,
   767,
   769,
   782,
   784,
   796,
   798,
   813
  ]
 },
 "nbformat": 4,
 "nbformat_minor": 5
}