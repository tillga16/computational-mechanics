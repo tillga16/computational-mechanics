{
 "cells": [
  {
   "cell_type": "markdown",
   "id": "b88d92b0",
   "metadata": {},
   "source": [
    "> __Content modified under Creative Commons Attribution license CC-BY\n",
    "> 4.0, code under BSD 3-Clause License © 2020 R.C. Cooper__"
   ]
  },
  {
   "cell_type": "markdown",
   "id": "3114e82a",
   "metadata": {},
   "source": [
    "# 03 - Numerical Error\n",
    "## Freefall Model Computational solution\n",
    "\n",
    "<img src=\"../images/freefall.png\" style=\"width: 200px;\"/> \n",
    "\n",
    "Here is your first computational mechanics model. \n",
    "\n",
    "An object falling is subject to the force of \n",
    "\n",
    "- gravity ($F_g$=mg) and \n",
    "- drag ($F_d=cv^2$)\n",
    "\n",
    "Acceleration of the object:\n",
    "\n",
    "$\\sum F=ma=F_g-F_d=mg - cv^2 = m\\frac{dv}{dt}$"
   ]
  },
  {
   "cell_type": "markdown",
   "id": "39d2b1cc",
   "metadata": {},
   "source": [
    "### Define constants and analytical solution (meters-kilogram-sec)\n",
    "\n",
    "Define parameters as the acceleration due to gravity, g, drag\n",
    "coefficient, c, and mass of the object, m. Once you have defined these\n",
    "parameters, You have a single variable whose derivative $\\frac{dv}{dt}$\n",
    "is equal to a function of itself $v$ i.e. $\\frac{dv}{dt} =\n",
    "f(v,~parameters)$. \n",
    "\n",
    "**parameters:**\n",
    "\n",
    "g=9.81 m/s$^2$, c=0.25 kg/m, m=60 kg\n",
    "\n",
    "**function:**\n",
    "\n",
    "$\\frac{dv}{dt} = g-\\frac{c}{m}v^2$\n",
    "\n",
    "We can solve for the analytical solution in this case. First, consider the speed of the falling object when acceleration is $\\frac{dv}{dt}=0$, this is called the terminal velocity, $v_{terminal}$.  \n",
    "\n",
    "$v_{terminal}=\\sqrt{\\frac{mg}{c}}$\n",
    "\n",
    "Now, substitute this terminal velocity into the equation and integrate to get the analytical solution v(t):\n",
    "\n",
    "$v(t)=v_{terminal}\\tanh{\\left(\\frac{gt}{v_{terminal}}\\right)}$."
   ]
  },
  {
   "cell_type": "code",
   "execution_count": 1,
   "id": "68586f43",
   "metadata": {},
   "outputs": [],
   "source": [
    "import numpy as np\n",
    "import matplotlib.pyplot as plt"
   ]
  },
  {
   "cell_type": "markdown",
   "id": "c6dd72ec",
   "metadata": {},
   "source": [
    "## Exercise:\n",
    "\n",
    "Calculate the terminal velocity for the given parameters, g=9.81 m/s$^2$, c=0.25 kg/m, m=60 kg."
   ]
  },
  {
   "cell_type": "code",
   "execution_count": null,
   "id": "a1b6ccde",
   "metadata": {},
   "outputs": [],
   "source": []
  },
  {
   "cell_type": "code",
   "execution_count": 2,
   "id": "af73ef25",
   "metadata": {},
   "outputs": [],
   "source": [
    "c=0.25 \n",
    "m=60\n",
    "g=9.81 \n",
    "\n",
    "\n",
    "def v_analytical(t,m,g,c):\n",
    "    '''Analytical solution for the velocity of an object released from rest subject to \n",
    "    the force of gravity and the force of drag with drag coefficient, c\n",
    "    \n",
    "        Arguments \n",
    "    ---------\n",
    "    t: time, the independent variable\n",
    "    m: mass of the object\n",
    "    g: acceleration due to gravity\n",
    "    c: drag coefficient\n",
    "    \n",
    "    Returns\n",
    "    -------\n",
    "    v: the speed of the object at time t'''\n",
    "    \n",
    "    v_terminal=np.sqrt(m*g/c)\n",
    "    v= v_terminal*np.tanh(g*t/v_terminal)\n",
    "    return v"
   ]
  },
  {
   "cell_type": "markdown",
   "id": "b493094d",
   "metadata": {},
   "source": [
    "Inside the curly brackets—the placeholders for the values you want to\n",
    "print—the `f` is for `float` and the `.4` is for four digits after the\n",
    "decimal dot. The colon here marks the beginning of the format\n",
    "specification (as there are options that can be passed before). There\n",
    "are so many tricks to Python's string formatter that you'll usually look\n",
    "up just what you need.  Another useful resource for string formatting is\n",
    "the [Python String Format\n",
    "Cookbook](https://mkaz.blog/code/python-string-format-cookbook/). Check\n",
    "it out!"
   ]
  },
  {
   "cell_type": "markdown",
   "id": "40d7b69d",
   "metadata": {},
   "source": [
    "If you print these values using the string formatter,  with a total\n",
    "length of `5` and only printing 2 decimal digits, you can display our\n",
    "solution in a human-readable way.\n",
    "\n",
    "```python\n",
    "{:5.2f}\n",
    "```\n",
    "where \n",
    "\n",
    "- `:5` prints something with whitespace that is 5 spaces total\n",
    "- `.2` prints 2 significant figures after the decimal\n",
    "- `f` tells `format` that the input is a floating point number to print"
   ]
  },
  {
   "cell_type": "code",
   "execution_count": 3,
   "id": "ce730c12",
   "metadata": {},
   "outputs": [
    {
     "name": "stdout",
     "output_type": "stream",
     "text": [
      "at time  0.00 s, speed is  0.00 m/s\n",
      "at time  2.00 s, speed is 18.62 m/s\n",
      "at time  4.00 s, speed is 32.46 m/s\n",
      "at time  6.00 s, speed is 40.64 m/s\n",
      "at time  8.00 s, speed is 44.85 m/s\n",
      "at time 10.00 s, speed is 46.85 m/s\n",
      "at time 12.00 s, speed is 47.77 m/s\n"
     ]
    }
   ],
   "source": [
    "for t in range(0,14,2):\n",
    "    print('at time {:5.2f} s, speed is {:5.2f} m/s'.format(t,v_analytical(t,m,g,c)))"
   ]
  },
  {
   "cell_type": "markdown",
   "id": "c2b37401",
   "metadata": {},
   "source": [
    "## Analytical vs Computational Solution\n",
    "\n",
    "The analytical solution above gives us an exact function for $v(t)$. We can input any time, `t`, and calculate the speed, `v`.\n",
    "\n",
    "In many engineering problems, you cannot find or may not need an exact\n",
    "mathematical formula for our design process. It is always helpful to\n",
    "compare a computational solution to an analytical solution, because it\n",
    "will tell us if our computational solution is correct. Next, you will\n",
    "develop the **Euler approximation** to solve the same problem."
   ]
  },
  {
   "cell_type": "markdown",
   "id": "0347e482",
   "metadata": {},
   "source": [
    "## Define numerical method\n",
    "### Finite difference approximation\n",
    "\n",
    "Computational models do not solve for functions e.g. v(t), but rather\n",
    "functions at given points in time (or space). In the given freefall\n",
    "example, you can approximate the derivative of speed, $\\frac{dv}{dt}$, as\n",
    "a finite difference, $\\frac{\\Delta v}{\\Delta t}$ as such,\n",
    "\n",
    "\n",
    "$\\frac{v(t_{i+1})-v(t_{i})}{t_{i+1}-t_{i}}=g-\\frac{c}{m}v(t_{i})^2$.\n",
    "\n",
    "\n",
    "Then, you solve for $v(t_{i+1})$, which is the velocity at the next time step\n",
    "\n",
    "$v(t_{i+1})=v(t_{i})+\\left(g-\\frac{c}{m}v(t_{i})^2\\right)(t_{i+1}-t_{i})$\n",
    "\n",
    "or\n",
    "\n",
    "$v(t_{i+1})=v(t_{i})+\\frac{dv_{i}}{dt}(t_{i+1}-t_{i})$\n",
    "\n",
    "Now, you have function that describes velocity at the next timestep in\n",
    "terms of a current time step. This finite difference approximation is\n",
    "the basis for a number of computational solutions to ordinary and\n",
    "partial differential equations. \n",
    "\n",
    "Therefore, when you solve a computational problem you have to choose\n",
    "which points in time you want to know the velocity. To start, define\n",
    "time from 0 to 12 seconds\n",
    "\n",
    "t=[0,2,4,6,8,10,12]"
   ]
  },
  {
   "cell_type": "code",
   "execution_count": 4,
   "id": "de12a6d7",
   "metadata": {},
   "outputs": [],
   "source": [
    "import numpy as np\n",
    "#t=np.array([0,2,4,6,8,10,12])\n",
    "# or \n",
    "t=np.linspace(0,12,7)"
   ]
  },
  {
   "cell_type": "markdown",
   "id": "911b6630",
   "metadata": {},
   "source": [
    "Now, you create a `for`-loop to solve for `v_numerical` at times 2, 4, 6, 8, 10, and 12 sec. We don't need to solve for `v_numerical` at time 0 seconds because this is the initial velocity of the object. In this example, the initial velocity is v(0)=0 m/s."
   ]
  },
  {
   "cell_type": "code",
   "execution_count": 5,
   "id": "63556089",
   "metadata": {},
   "outputs": [
    {
     "data": {
      "text/plain": [
       "array([ 0.        , 19.62      , 36.03213   , 44.8328434 , 47.702978  ,\n",
       "       48.35986042, 48.49089292])"
      ]
     },
     "execution_count": 5,
     "metadata": {},
     "output_type": "execute_result"
    }
   ],
   "source": [
    "v_numerical=np.zeros(len(t));\n",
    "for i in range(1,len(t)):\n",
    "    v_numerical[i]=v_numerical[i-1]+((g-c/m*v_numerical[i-1]**2))*2;\n",
    "\n",
    "v_numerical"
   ]
  },
  {
   "cell_type": "markdown",
   "id": "5847c29d",
   "metadata": {},
   "source": [
    "Let's print the time, velocity (analytical) and velocity (numerical) to compare the results in a table. We'll use the `print` and `format` commands to look at the results."
   ]
  },
  {
   "cell_type": "code",
   "execution_count": 6,
   "id": "acfd3406",
   "metadata": {},
   "outputs": [
    {
     "name": "stdout",
     "output_type": "stream",
     "text": [
      "time (s)|vel analytical (m/s)|vel numerical (m/s)\n",
      "-----------------------------------------------\n",
      "    0.0 |               0.00 |            0.00\n",
      "\n",
      "    2.0 |              18.62 |           19.62\n",
      "\n",
      "    4.0 |              32.46 |           36.03\n",
      "\n",
      "    6.0 |              40.64 |           44.83\n",
      "\n",
      "    8.0 |              44.85 |           47.70\n",
      "\n",
      "   10.0 |              46.85 |           48.36\n",
      "\n",
      "   12.0 |              47.77 |           48.49\n",
      "\n"
     ]
    }
   ],
   "source": [
    "print('time (s)|vel analytical (m/s)|vel numerical (m/s)')\n",
    "print('-----------------------------------------------')\n",
    "for i in range(0,len(t)):\n",
    "    print('{:7.1f} | {:18.2f} | {:15.2f}\\n'.format(t[i],v_analytical(t[i],m,g,c),v_numerical[i]));"
   ]
  },
  {
   "cell_type": "markdown",
   "id": "eeabb9c4",
   "metadata": {},
   "source": [
    "## Compare solutions (plotting)\n",
    "\n",
    "We can compare solutions in a figure in a number of ways:\n",
    "\n",
    "1. plot the values, e.g. $v_{analytical}$ and $v_{numerical}$\n",
    "\n",
    "2. plot the difference between the values (the absolute error) e.g. $v_{numerical}-v_{analytical}$\n",
    "\n",
    "3. plot the ratio of the values e.g. $\\frac{v_{numerical}}{v_{analytical}}$ (useful in finding bugs, unit analysis, etc.)\n",
    "\n",
    "4. plot the ratio of the error to the best estimate (the relative error) e.g. $\\frac{v_{numerical}-v_{analytical}}{v_{analytical}}$\n",
    "\n",
    "Let's start with method (1) to compare our analytical and computational solutions.\n",
    "\n",
    "Import `pyplot` and update the default plotting parameters."
   ]
  },
  {
   "cell_type": "code",
   "execution_count": 7,
   "id": "6f3b96f5",
   "metadata": {},
   "outputs": [],
   "source": [
    "import matplotlib.pyplot as plt\n",
    "\n",
    "plt.rcParams.update({'font.size': 22})\n",
    "plt.rcParams['lines.linewidth'] = 3"
   ]
  },
  {
   "cell_type": "code",
   "execution_count": 8,
   "id": "6869b1e2",
   "metadata": {},
   "outputs": [
    {
     "data": {
      "text/plain": [
       "Text(0, 0.5, 'velocity (m/s)')"
      ]
     },
     "execution_count": 8,
     "metadata": {},
     "output_type": "execute_result"
    },
    {
     "data": {
      "image/png": "[encoded data removed]",
      "text/plain": [
       "<Figure size 432x288 with 1 Axes>"
      ]
     },
     "metadata": {
      "filenames": {
       "image/png": "/home/runner/work/computational-mechanics/computational-mechanics/_build/jupyter_execute/module_01/03_Numerical_error_19_1.png"
      },
      "needs_background": "light"
     },
     "output_type": "display_data"
    }
   ],
   "source": [
    "plt.plot(t,v_analytical(t,m,g,c),'-',label='analytical')\n",
    "plt.plot(t,v_numerical,'o-',label='numerical')\n",
    "plt.legend()\n",
    "plt.xlabel('time (s)')\n",
    "plt.ylabel('velocity (m/s)')"
   ]
  },
  {
   "cell_type": "markdown",
   "id": "1f6d889f",
   "metadata": {},
   "source": [
    "**Note:** In the above plot, the numerical solution is given at discrete points connected by lines, while the analytical solution is drawn as a line. This is a helpful convention. We plot discrete data such as numerical solutions or measured data as points and lines while analytical solutions are drawn as lines. \n",
    "\n",
    "## Exercise\n",
    "\n",
    "Play with the values of `t` (defined above as `t=np.linspace(0,12,7)`). \n",
    "\n",
    "If you increase the number of time steps from 0 to 12 seconds what happens to v_analytical? to v_numerical?\n",
    "\n",
    "What happens when you decrease the number of time steps?"
   ]
  },
  {
   "cell_type": "code",
   "execution_count": null,
   "id": "65a97d7b",
   "metadata": {},
   "outputs": [],
   "source": []
  },
  {
   "cell_type": "markdown",
   "id": "30699965",
   "metadata": {},
   "source": [
    "## Errors in Numerical Modeling\n",
    "\n",
    "## 1 - Truncation\n",
    "## 2 - Roundoff"
   ]
  },
  {
   "cell_type": "markdown",
   "id": "2294ff85",
   "metadata": {},
   "source": [
    "## 1- Truncation error\n",
    "### Freefall is example of \"truncation error\"\n",
    "#### Truncation error results from approximating exact mathematical procedure\n",
    "\n",
    "We approximated the derivative as $\\frac{d v}{d t}\\approx\\frac{\\Delta v}{\\Delta t}$\n",
    "\n",
    "Can reduce error in two ways\n",
    "\n",
    "1. Decrease step size -> $\\Delta t$=`delta_time`\n",
    "\n",
    "2. Increase the accuracy of the approximation"
   ]
  },
  {
   "cell_type": "markdown",
   "id": "7e073e1b",
   "metadata": {},
   "source": [
    "### Truncation error as a Taylor series \n",
    "\n",
    "The freefall problem solution used a first-order Taylor series approximation\n",
    "\n",
    "Taylor series:\n",
    "$f(x)=f(a)+f'(a)(x-a)+\\frac{f''(a)}{2!}(x-a)^{2}+\\frac{f'''(a)}{3!}(x-a)^{3}+...$\n",
    "\n",
    "First-order approximation:\n",
    "$f(x_{i+1})=f(x_{i})+f'(x_{i})h$\n",
    "\n",
    "\n",
    "We can increase accuracy in a function by adding Taylor series terms:\n",
    "\n",
    "|Approximation | formula |\n",
    "|---|-----------------------------|\n",
    "|$0^{th}$-order | $f(x_{i+1})=f(x_{i})+R_{1}$ |\n",
    "|$1^{st}$-order | $f(x_{i+1})=f(x_{i})+f'(x_{i})h+R_{2}$ |\n",
    "|$2^{nd}$-order | $f(x_{i+1})=f(x_{i})+f'(x_{i})h+\\frac{f''(x_{i})}{2!}h^{2}+R_{3}$|\n",
    "|$n^{th}$-order | $f(x_{i+1})=f(x_{i})+f'(x_{i})h+\\frac{f''(x_{i})}{2!}h^{2}+...\\frac{f^{(n)}}{n!}h^{n}+R_{n}$|\n",
    "\n",
    "Where $R_{n}=O(h^{n+1})$ is the error associated with truncating the approximation at order $n$."
   ]
  },
  {
   "cell_type": "markdown",
   "id": "9eec3ca1",
   "metadata": {},
   "source": [
    "In the .gif below, the error in the function is reduced by including higher-order terms in the Taylor series approximation. \n",
    "\n",
    "![3](https://media.giphy.com/media/xA7G2n20MzTOw/giphy.gif)\n",
    "\n",
    "$n^{th}$-order approximation equivalent to \n",
    "an $n^{th}$-order polynomial."
   ]
  },
  {
   "cell_type": "markdown",
   "id": "f14528bf",
   "metadata": {},
   "source": [
    "## 2- Roundoff\n",
    "\n",
    "### Just storing a number in a computer requires rounding\n",
    "\n",
    "In our analytical solution, $v(t) =\n",
    "v_{terminal}\\tanh{\\left(\\frac{gt}{v_{terminal}}\\right)}$, you can solve\n",
    "for velocity, $v$ at any given time, $t$ by hand to avoid roundoff\n",
    "error, but this is typically more trouble than its worth. Roundoff error\n",
    "comes in two forms:\n",
    "\n",
    "1. digital representation of a number is rarely exact\n",
    "\n",
    "2. arithmetic (+,-,/,\\*) causes roundoff error"
   ]
  },
  {
   "cell_type": "markdown",
   "id": "8b13ee05",
   "metadata": {},
   "source": [
    "1. digital representation of $\\pi$ \n",
    "\n",
    "[Consider the number $\\pi$](https://www.piday.org/million/). How many digits can a floating point number in a computer accurately represent?"
   ]
  },
  {
   "cell_type": "code",
   "execution_count": 9,
   "id": "e8465832",
   "metadata": {},
   "outputs": [
    {
     "name": "stdout",
     "output_type": "stream",
     "text": [
      "double precision 64 bit pi = 3.141592653589793115997963469\n",
      "single precision 32 bit pi = 3.141592741012573242187500000\n",
      "First 27 digits of pi      = 3.141592653589793238462643383\n"
     ]
    }
   ],
   "source": [
    "pi=np.pi\n",
    "\n",
    "double=np.array([pi],dtype='float64')\n",
    "single=np.array([pi],dtype='float32')\n",
    "print('double precision 64 bit pi = {:1.27f}'.format(double[0])) # 64-bit\n",
    "print('single precision 32 bit pi = {:1.27f}'.format(single[0])) # 32-bit\n",
    "print('First 27 digits of pi      = 3.141592653589793238462643383')"
   ]
  },
  {
   "cell_type": "markdown",
   "id": "10f58f86",
   "metadata": {},
   "source": [
    "In order to store the number in a computer you can only use so many bits, shown below is the [64-bit standard for floating point numbers](https://en.wikipedia.org/wiki/Double-precision_floating-point_format):\n",
    "\n",
    "<img src=\"../images/1236px-IEEE_754_Double_Floating_Point_Format.png\" style=\"width: 400px;\"/> \n",
    "\n",
    "Where the sign is either + or -, the exponent is a power of two as in,\n",
    "$2^{exponent}$, and the fraction (or base) is the binary representation\n",
    "of the number, $1+\\sum_{i=1}^{52}b_i2^{-i}$. We examine the floating\n",
    "point number representation to highlight that any number you store in a\n",
    "computer is an approximation of the real number you are trying to save.\n",
    "With 64-bit floating point numbers, these approximations are\n",
    "**extremely** good. \n",
    "\n",
    "2. Floating point arithmetic \n",
    "\n",
    "Each time you use an operation, e.g. `+ - / *` you lose some precision as well. \n",
    "\n",
    "Consider $\\pi$ again, but this time you will use a for loop to multiply\n",
    "$\\pi$ by a 1e-16 then divide by 1e-16, then multiply by 2e-16 and divide\n",
    "by 2e-16, and so on until you reach 10e-16. If we do these calculations\n",
    "by hand, we see that each step in the for loop returns $\\pi$, but due to\n",
    "floating point arithmetic errors we accumulate some error."
   ]
  },
  {
   "cell_type": "code",
   "execution_count": 10,
   "id": "df13ff7a",
   "metadata": {},
   "outputs": [
    {
     "name": "stdout",
     "output_type": "stream",
     "text": [
      " 0 operations 64 bit pi = 3.14159265358979311599796347\n",
      "\n",
      "20 operations 64 bit pi = 3.14159265358979089555191422\n",
      "\n",
      "First 26 digits of pi   = 3.14159265358979323846264338\n"
     ]
    }
   ],
   "source": [
    "double=np.array([pi],dtype='float64')\n",
    "double_operated=double\n",
    "for i in range(0,10):\n",
    "    double_operated=double_operated*(i+1)*1.0e-16\n",
    "    double_operated=double_operated*1/(i+1)*1.0e16\n",
    "print(' 0 operations 64 bit pi = %1.26f\\n'%double) # 64-bit\n",
    "print('20 operations 64 bit pi = %1.26f\\n'%double_operated) # 64-bit after 1000 additions and 1 subtraction\n",
    "print('First 26 digits of pi   = 3.14159265358979323846264338')"
   ]
  },
  {
   "cell_type": "markdown",
   "id": "e4297bbf",
   "metadata": {},
   "source": [
    "In the previous block of code, you see $\\pi$ printed for 3 cases:\n",
    "\n",
    "1. the 64-bit representation of $\\pi$\n",
    "\n",
    "2. the value of $\\pi$ after it has gone through 20 math operations ($\\times (0..10)10^{-16}$, then $\\times 1/(0..10)10^{16}$)\n",
    "\n",
    "3. the actual value of $\\pi$ for the first 26 digits\n",
    "\n",
    "All three (1-3) have the same first 14 digits after the decimal, then\n",
    "you see a divergence between the actual value of $\\pi$ (3), and $\\pi$ as represented by floating point numbers. \n",
    "\n",
    "We can get an idea for computational limits using some built-in functions:\n",
    "\n",
    "- `np.info('float64').max`: the largest floating point 64-bit number the computer can represent\n",
    "\n",
    "- `np.info('float64').tiny`: the smallest non-negative 64-bit number the computer can represent\n",
    "\n",
    "- `np.info('float64').eps`: the smallest number that can be added to 1"
   ]
  },
  {
   "cell_type": "code",
   "execution_count": 11,
   "id": "c7493072",
   "metadata": {},
   "outputs": [
    {
     "name": "stdout",
     "output_type": "stream",
     "text": [
      "realmax = 1.79769313486231570815e+308\n",
      "\n",
      "realmin = 2.22507385850720138309e-308\n",
      "\n",
      "maximum relative error = 2.22044604925031308085e-16\n",
      "\n"
     ]
    }
   ],
   "source": [
    "print('realmax = %1.20e\\n'%np.finfo('float64').max)\n",
    "print('realmin = %1.20e\\n'%np.finfo('float64').tiny)\n",
    "print('maximum relative error = %1.20e\\n'%np.finfo('float64').eps)"
   ]
  },
  {
   "cell_type": "markdown",
   "id": "9248511f",
   "metadata": {},
   "source": [
    "### Machine epsilon\n",
    "\n",
    "The smallest number that can be added to 1 and change the value in a computer is called \"machine epsilon\", $eps$. If your numerical results are supposed to return 0, but instead return $2eps$, have a drink and move on. You won't get any closer to your result. \n",
    "\n",
    "In the following example, you will add $eps/2$ 1,000$\\times$ to the\n",
    "variable s, set to 1. The result should be $s=1+500\\cdot eps$, but\n",
    "because $eps/2$ is smaller than floating point operations can track, you\n",
    "will get a different result depending upon how we do the addition.\n",
    "\n",
    "a. We make a `for`-loop and add $eps/2$ 1000 times in the loop\n",
    "\n",
    "b. We multiply $1000*eps/2$ and add it to the result"
   ]
  },
  {
   "cell_type": "code",
   "execution_count": 12,
   "id": "a5d59ae4",
   "metadata": {},
   "outputs": [
    {
     "name": "stdout",
     "output_type": "stream",
     "text": [
      "summation 1+eps/2 over  1000  minus 1 = 1.1102230246251565e-13\n",
      "500.0 *eps= 1.1102230246251565e-13\n"
     ]
    }
   ],
   "source": [
    "s1=1;\n",
    "N=1000\n",
    "eps=np.finfo('float64').eps\n",
    "for i in range(1,N):\n",
    "    s1+=eps/2;\n",
    "\n",
    "s2=1+500*eps\n",
    "print('summation 1+eps/2 over ',N,' minus 1 =',(s2-1))\n",
    "print(N/2,'*eps=',(s2-1))"
   ]
  },
  {
   "cell_type": "markdown",
   "id": "dc4b70f4",
   "metadata": {},
   "source": [
    "### Exercise\n",
    "\n",
    "1. Try adding $2eps$ to 1 and determine the result of the previous exercise. \n",
    "\n",
    "2. What is machine epsilon for a 32-bit floating point number?"
   ]
  },
  {
   "cell_type": "markdown",
   "id": "8a7a3da2",
   "metadata": {},
   "source": [
    "## Freefall Model (revisited)\n",
    "\n",
    "In the following example, you judge the **convergence** of our solution with the new knowledge of truncation error and roundoff error. \n",
    "\n",
    "**The definition for convergence in mathematics is the limit of a sequence exists.** \n",
    "\n",
    "In the case of the Euler approximation, the sequence is smaller timesteps, $\\Delta t$, should converge to the analytical solution. \n",
    "\n",
    "Define time from 0 to 12 seconds with `N` timesteps \n",
    "function defined as `freefall`\n",
    "\n",
    "m=60 kg, c=0.25 kg/m"
   ]
  },
  {
   "cell_type": "markdown",
   "id": "d0dc8f9e",
   "metadata": {},
   "source": [
    "### Freefall example\n",
    "\n",
    "Estimated the function with a $1^{st}$-order approximation, so \n",
    "\n",
    "$v(t_{i+1})=v(t_{i})+v'(t_{i})(t_{i+1}-t_{i})+R_{1}$\n",
    "\n",
    "$v'(t_{i})=\\frac{v(t_{i+1})-v(t_{i})}{t_{i+1}-t_{i}}-\\frac{R_{1}}{t_{i+1}-t_{i}}$\n",
    "\n",
    "$\\frac{R_{1}}{t_{i+1}-t_{i}}=\\frac{v''(\\xi)}{2!}(t_{i+1}-t_{i})$\n",
    "\n",
    "or the truncation error for a first-order Taylor series approximation is\n",
    "\n",
    "$R_{1}=O(\\Delta t^{2})$"
   ]
  },
  {
   "cell_type": "markdown",
   "id": "e3ef127d",
   "metadata": {},
   "source": [
    "## Computer model error =  truncation + roundoff\n",
    "\n",
    "In the function `freefall(N)`, the speed of a 60-kg object is predicted in two ways:\n",
    "\n",
    "1. The analytical 64-bit representation, \n",
    "$v(t)=v_{terminal}\\tanh{\\left(\\frac{gt}{v_{terminal}}\\right)}$\n",
    "\n",
    "2. The numerical 32-bit$^{+}$ Euler approximation for `N`-steps from 0 to 2 seconds\n",
    "\n",
    "$^{+}$Here, you use a 32-bit representation to observe the transition from truncation error to floating point error in a reasonable number of steps. \n",
    "\n",
    "We can reduce truncation error by decreasing the timestep, $\\Delta t$.\n",
    "Here, consider the speed from 0 to 2 seconds, so `N=3` means $\\Delta t$= 1 s and `N=21` means $\\Delta t$=0.1 s\n",
    "\n",
    "|N= | $\\Delta t$=|\n",
    "|---|---|\n",
    "|3 | 1 s|\n",
    "|21| 0.1 s|\n",
    "|201| 0.01 s|\n",
    "|??| 0.05 s|\n",
    "|?? | 0.001 s|\n",
    "\n",
    "What is N for 0.05 s and 0.001 s in the table above?\n",
    "\n",
    "Answer (0.05 s): <span style=\"color:white\"> 41 </span>\n",
    "\n",
    "Answer (0.001 s): <span style=\"color:white\"> 2001 </span>\n",
    "\n",
    "Highlight lines above for answer."
   ]
  },
  {
   "cell_type": "code",
   "execution_count": 13,
   "id": "2f0980d2",
   "metadata": {},
   "outputs": [],
   "source": [
    "def freefall(N):\n",
    "    '''  \n",
    "    help file for freefall(N)\n",
    "    computes the velocity as a function of time, t, for a\n",
    "    60-kg object with zero initial velocity and drag \n",
    "    coefficient of 0.25 kg/s\n",
    "    Arguments:\n",
    "    ----------\n",
    "    N : number of timesteps between 0 and 2 sec\n",
    "    Returns:\n",
    "    --------\n",
    "    v_analytical : the 32-bit floating point \"true\" solution\n",
    "    v_numerical : the 32-bit approximation of the velocity\n",
    "    t : the timesteps between 0 and 10 sec, divided into N steps\n",
    "    '''\n",
    "    t=np.linspace(0,10,N)\n",
    "    c=0.25\n",
    "    m=60\n",
    "    g=9.81\n",
    "    v_terminal=np.sqrt(m*g/c)\n",
    "\n",
    "    v_analytical = v_terminal*np.tanh(g*t/v_terminal);\n",
    "    v_numerical=np.zeros(len(t))\n",
    "    delta_time =np.diff(t)\n",
    "    for i in range(0,len(t)-1):\n",
    "        v_numerical[i+1]=v_numerical[i]+(g-c/m*v_numerical[i]**2)*delta_time[i];\n",
    "    \n",
    "    return v_analytical.astype(np.float32), v_numerical.astype(np.float32), t.astype(np.float32)\n",
    "    "
   ]
  },
  {
   "cell_type": "markdown",
   "id": "2b8bef8e",
   "metadata": {},
   "source": [
    "We can visualize how the approximation approaches the exact solution with this method. The process of approaching the \"true\" solution is called **convergence**. \n",
    "\n",
    "First, solve for `n=2` steps, so t=[0,2]. We can time the solution to get a sense of how long the computation will take for larger values of `n`."
   ]
  },
  {
   "cell_type": "code",
   "execution_count": 14,
   "id": "5fb9ceb1",
   "metadata": {},
   "outputs": [
    {
     "name": "stdout",
     "output_type": "stream",
     "text": [
      "CPU times: user 198 µs, sys: 42 µs, total: 240 µs\n",
      "Wall time: 210 µs\n"
     ]
    }
   ],
   "source": [
    "%%time\n",
    "n=5\n",
    "\n",
    "v_analytical,v_numerical,t=freefall(n);"
   ]
  },
  {
   "cell_type": "markdown",
   "id": "a17a8c4d",
   "metadata": {},
   "source": [
    "The block of code above assigned three variables from the function `freefall`. \n",
    "\n",
    "1. `v_analytical` = $v_{terminal}\\tanh{\\left(\\frac{gt}{v_{terminal}}\\right)}$\n",
    "\n",
    "2. `v_numerical` = Euler step integration of  $\\frac{dv}{dt}= g - \\frac{c}{m}v^2$\n",
    "\n",
    "3. `t` = timesteps from 0..2 with `n` values, here t=np.array([0,2])\n",
    "\n",
    "All three variables have the same length, so you can plot them and visually compare `v_analytical` and `v_numerical`. This is the comparison method (1) from above."
   ]
  },
  {
   "cell_type": "code",
   "execution_count": 15,
   "id": "1d7077bd",
   "metadata": {},
   "outputs": [],
   "source": [
    "import matplotlib.pyplot as plt\n",
    "%matplotlib inline"
   ]
  },
  {
   "cell_type": "code",
   "execution_count": 16,
   "id": "cc0cf264",
   "metadata": {},
   "outputs": [
    {
     "data": {
      "text/plain": [
       "<matplotlib.legend.Legend at 0x7f5a605e7040>"
      ]
     },
     "execution_count": 16,
     "metadata": {},
     "output_type": "execute_result"
    },
    {
     "data": {
      "image/png": "[encoded data removed]",
      "text/plain": [
       "<Figure size 432x288 with 1 Axes>"
      ]
     },
     "metadata": {
      "filenames": {
       "image/png": "/home/runner/work/computational-mechanics/computational-mechanics/_build/jupyter_execute/module_01/03_Numerical_error_44_1.png"
      },
      "needs_background": "light"
     },
     "output_type": "display_data"
    }
   ],
   "source": [
    "plt.plot(t,v_numerical,'o',label=str(n)+' Euler steps')\n",
    "plt.plot(t,v_analytical,label='analytical')\n",
    "plt.title('First 2 seconds of freefall')\n",
    "plt.xlabel('time (s)')\n",
    "plt.ylabel('speed (m/s)')\n",
    "plt.legend()"
   ]
  },
  {
   "cell_type": "markdown",
   "id": "525d8e48",
   "metadata": {},
   "source": [
    "### Exercise\n",
    "\n",
    "Try adjusting `n` in the code above to watch the solution converge. You should notice the Euler approximation becomes almost indistinguishable from the analytical solution as `n` increases."
   ]
  },
  {
   "cell_type": "markdown",
   "id": "c2db6e7e",
   "metadata": {},
   "source": [
    "### Convergence of a numerical model\n",
    "\n",
    "You should see that the more time steps you use, the closer the Euler\n",
    "approximation resembles the analytical solution. This is true only to a\n",
    "point, due to **roundoff error**. In the `freefall` function, the\n",
    "numerical result is saved as a 32-bit floating point array. The best analytical equation result is\n",
    "`v_terminal*np.tanh(g*t/v_terminal)`.$^{+}$ \n",
    "\n",
    "In the next plot, you consider the relative error for the velocity at t=2 s, as a function of `N`. \n",
    "\n",
    "$^+$ Note: In practice, there is no reason to restrict the precision of floating point numbers. The function was written this way to highlight the effect of roundoff error without significant computational resources. You would need more timesteps to observe floating point error with 64-bit floating point numbers."
   ]
  },
  {
   "cell_type": "code",
   "execution_count": 17,
   "id": "ad58248a",
   "metadata": {},
   "outputs": [],
   "source": [
    "n = np.arange(500, 100000, 500) # create an array from 10^1 to 10^3 with N values\n",
    "N = len(n)\n",
    "error = np.zeros(N, dtype = np.float32)    # initialize an N-valued array of relative errors\n",
    "\n",
    "for i in range(0,N):\n",
    "    v_an, v_num, t = freefall(n[i]) # return the analytical and numerical solutions to your equation\n",
    "    error[i] = np.sum((v_num[1:]-v_an[1:])/v_an[1:])/(N+1) #calculate relative error in velocity at final time t=2 s\n",
    "\n",
    "    "
   ]
  },
  {
   "cell_type": "code",
   "execution_count": 18,
   "id": "cb633218",
   "metadata": {},
   "outputs": [
    {
     "data": {
      "text/plain": [
       "Text(0.5, 1.0, 'Truncation and roundoff error \\naccumulation in log-log plot')"
      ]
     },
     "execution_count": 18,
     "metadata": {},
     "output_type": "execute_result"
    },
    {
     "data": {
      "image/png": "[encoded data removed]",
      "text/plain": [
       "<Figure size 432x288 with 1 Axes>"
      ]
     },
     "metadata": {
      "filenames": {
       "image/png": "/home/runner/work/computational-mechanics/computational-mechanics/_build/jupyter_execute/module_01/03_Numerical_error_48_1.png"
      },
      "needs_background": "light"
     },
     "output_type": "display_data"
    }
   ],
   "source": [
    "plt.loglog(n, error,'o')\n",
    "plt.xlabel('number of timesteps N')\n",
    "plt.ylabel('relative error')\n",
    "plt.title('Truncation and roundoff error \\naccumulation in log-log plot')"
   ]
  },
  {
   "cell_type": "markdown",
   "id": "c9f9b7cc",
   "metadata": {},
   "source": [
    "In the above plot \"Truncation and roundoff error accumulation in log-log\n",
    "plot\", you see that around $N=10^4$ steps you stop decreasing the error\n",
    "with more steps. This is because we are approaching the limit of how\n",
    "precise we can store a number using a 32-bit floating point number. \n",
    "\n",
    "In any computational solution, there will be some point of similar diminishing in terms of accuracy (error) and computational time (in this case, number of timesteps). If you were to attempt a solution for N=1 billion, the solution could take $\\approx$(1 billion)(200 $\\mu s$\\[cpu time for N=5\\])$\\approx$ 55 hours, but would not increase the accuracy of the solution."
   ]
  },
  {
   "cell_type": "markdown",
   "id": "9c4241b2",
   "metadata": {},
   "source": [
    "## What you've learned\n",
    "\n",
    "* Numerical integration with the Euler approximation\n",
    "* The source of truncation errors\n",
    "* The source of roundoff errors\n",
    "* How to time a numerical solution or a function\n",
    "* How to compare solutions\n",
    "* The definition of absolute error and relative error\n",
    "* How a numerical solution converges"
   ]
  },
  {
   "cell_type": "markdown",
   "id": "1423824a",
   "metadata": {},
   "source": [
    "# Problems\n",
    "\n",
    "1. The growth of populations of organisms has many engineering and scientific applications. One of the simplest\n",
    "models assumes that the rate of change of the population p is proportional to the existing population at any time t:\n",
    "\n",
    "$\\frac{dp}{dt} = k_g p$\n",
    "\n",
    "where $t$ is time in years, and $k_g$ is growth rate in \\[1/years\\]. \n",
    "\n",
    "The world population has been increasing dramatically, let's make a prediction based upon the [following data](https://worldpopulationhistory.org/map/2020/mercator/1/0/25/) saved in [world_population_1900-2020.csv](../data/world_population_1900-2020.csv):\n",
    "\n",
    "\n",
    "|year| world population |\n",
    "|---|---|\n",
    "|1900|1,578,000,000|\n",
    "|1950|2,526,000,000|\n",
    "|2000|6,127,000,000|\n",
    "|2020|7,795,482,000|\n",
    "\n",
    "a. Calculate the average population growth, $\\frac{\\Delta p}{\\Delta t}$, from 1900-1950, 1950-2000, and 2000-2020\n",
    "\n",
    "b. Determine the average growth rates. $k_g$, from 1900-1950, 1950-2000, and 2000-2020\n",
    "\n",
    "c. Use a growth rate of $k_g=0.013$ [1/years] and compare the analytical solution (use initial condition p(1900) = 1578000000) to the Euler integration for time steps of 20 years from 1900 to 2020 (Hint: use method (1)- plot the two solutions together with the given data) \n",
    "\n",
    "d. Discussion question: If you decrease the time steps further and the solution converges, will it converge to the actual world population? Why or why not? \n",
    "\n",
    "**Note: We have used a new function `np.loadtxt` here. Use the `help` or `?` to learn about what this function does and how the arguments can change the output. In the next module, we will go into more details on how to load data, plot data, and present trends.**"
   ]
  },
  {
   "cell_type": "code",
   "execution_count": 19,
   "id": "55b64f8d",
   "metadata": {},
   "outputs": [
    {
     "name": "stdout",
     "output_type": "stream",
     "text": [
      "years= [1900. 1950. 2000. 2020.]\n",
      "population = [1.578000e+09 2.526000e+09 6.127000e+09 7.795482e+09]\n"
     ]
    }
   ],
   "source": [
    "import numpy as np\n",
    "year, pop = np.loadtxt('../data/world_population_1900-2020.csv',skiprows=1,delimiter=',',unpack=True)\n",
    "print('years=',year)\n",
    "print('population =', pop)"
   ]
  },
  {
   "cell_type": "code",
   "execution_count": 20,
   "id": "8725d31c",
   "metadata": {},
   "outputs": [
    {
     "name": "stdout",
     "output_type": "stream",
     "text": [
      "average population changes 1900-1950, 1950-2000, 2000-2020\n",
      "[18960000. 72020000. 83424100.]\n",
      "average growth of 1900 - 2020\n",
      "58134700.0\n"
     ]
    }
   ],
   "source": [
    "print('average population changes 1900-1950, 1950-2000, 2000-2020')\n",
    "print((pop[1:] - pop[0:-1])/(year[1:] - year[0:-1]))\n",
    "print('average growth of 1900 - 2020')\n",
    "print(np.mean((pop[1:] - pop[0:-1])/(year[1:] - year[0:-1])))"
   ]
  },
  {
   "cell_type": "markdown",
   "id": "85ab725c",
   "metadata": {},
   "source": [
    "__d.__ As the number of time steps increases, the Euler approximation approaches the analytical solution, not the measured data. The best-case scenario is that the Euler solution is the same as the analytical solution."
   ]
  },
  {
   "cell_type": "markdown",
   "id": "cab75c34",
   "metadata": {},
   "source": [
    "2. In the freefall example you used smaller time steps to decrease the **truncation error** in our Euler approximation. Another way to decrease approximation error is to continue expanding the Taylor series. Consider the function f(x)\n",
    "\n",
    "    $f(x)=e^x = 1+x+\\frac{x^2}{2!}+\\frac{x^3}{3!}+\\frac{x^4}{4!}+...$\n",
    "\n",
    "    We can approximate $e^x$ as $1+x$ (first order), $1+x+x^2/2$ (second order), and so on each higher order results in smaller error. \n",
    "    \n",
    "    a. Use the given `exptaylor` function to approximate the value of exp(1) with a second-order Taylor series expansion. What is the relative error compared to `np.exp(1)`?\n",
    "    \n",
    "    b. Time the solution for a second-order Taylor series and a tenth-order Taylor series. How long would a 100,000-order series take (approximate this, you don't have to run it)\n",
    "    \n",
    "    c. Plot the relative error as a function of the Taylor series expansion order from first order upwards. (Hint: use method (4) in the comparison methods from the \"Truncation and roundoff error accumulation in log-log plot\" figure)"
   ]
  },
  {
   "cell_type": "code",
   "execution_count": 21,
   "id": "df3dc0be",
   "metadata": {},
   "outputs": [],
   "source": [
    "from math import factorial\n",
    "def exptaylor(x,n):\n",
    "    '''Taylor series expansion about x=0 for the function e^x\n",
    "    the full expansion follows the function\n",
    "    e^x = 1+ x + x**2/2! + x**3/3! + x**4/4! + x**5/5! +...'''\n",
    "    if n<1:\n",
    "        print('lowest order expansion is 0 where e^x = 1')\n",
    "        return 1\n",
    "    else:\n",
    "        ex = 1+x # define the first-order taylor series result\n",
    "        for i in range(1,n):\n",
    "            ex+=x**(i+1)/factorial(i+1) # add the nth-order result for each step in loop\n",
    "        return ex\n",
    "        "
   ]
  },
  {
   "cell_type": "code",
   "execution_count": null,
   "id": "48d41d04",
   "metadata": {},
   "outputs": [],
   "source": []
  }
 ],
 "metadata": {
  "jupytext": {
   "formats": "notebooks//ipynb,md:myst",
   "text_representation": {
    "extension": ".md",
    "format_name": "myst",
    "format_version": 0.12,
    "jupytext_version": "1.6.0"
   }
  },
  "kernelspec": {
   "display_name": "Python 3",
   "language": "python",
   "name": "python3"
  },
  "language_info": {
   "codemirror_mode": {
    "name": "ipython",
    "version": 3
   },
   "file_extension": ".py",
   "mimetype": "text/x-python",
   "name": "python",
   "nbconvert_exporter": "python",
   "pygments_lexer": "ipython3",
   "version": "3.9.6"
  },
  "source_map": [
   13,
   18,
   36,
   62,
   65,
   71,
   75,
   99,
   111,
   126,
   129,
   141,
   174,
   179,
   183,
   189,
   193,
   198,
   216,
   223,
   229,
   241,
   243,
   250,
   264,
   288,
   297,
   313,
   319,
   327,
   351,
   360,
   381,
   385,
   400,
   410,
   418,
   433,
   449,
   481,
   511,
   517,
   522,
   534,
   539,
   546,
   552,
   566,
   578,
   583,
   592,
   604,
   635,
   643,
   648,
   653,
   667,
   684
  ]
 },
 "nbformat": 4,
 "nbformat_minor": 5
}