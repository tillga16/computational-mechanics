{
 "cells": [
  {
   "cell_type": "markdown",
   "id": "8669dce7",
   "metadata": {},
   "source": [
    "# How to use a `for` loop? _in Python_\n",
    "\n",
    "The `for` loop has 2 main components:\n",
    "1. an iterating variable e.g. `i`\n",
    "2. a list of desired values e.g. `range(3)` will be three values `i = 0, i = 1, i = 2`\n",
    "\n",
    "These loops are _great_ when you want to repeat the same command multiple times. You can use the variable to update your command. \n",
    "\n",
    "Consider this `for` loop, the iterating variable is `i` and the desired values are `range(3)`:"
   ]
  },
  {
   "cell_type": "code",
   "execution_count": 1,
   "id": "58f30758",
   "metadata": {},
   "outputs": [
    {
     "name": "stdout",
     "output_type": "stream",
     "text": [
      "i = 0\n",
      "i = 1\n",
      "i = 2\n"
     ]
    }
   ],
   "source": [
    "for i in range(3):\n",
    "    print('i =', i)"
   ]
  },
  {
   "cell_type": "markdown",
   "id": "f133b4cc",
   "metadata": {},
   "source": [
    "The `for` loop reassigns a variable e.g. `i` each time it finishes the commands that are tabbed. \n",
    "\n",
    "```\n",
    "for <variable> in <desired_values\n",
    "```\n",
    "$\\rightarrow$ `    <run these commands>`"
   ]
  },
  {
   "cell_type": "markdown",
   "id": "b6e30f70",
   "metadata": {},
   "source": [
    "You can accomplish the same output without a `for`-loop by copy-pasting the `print` command:"
   ]
  },
  {
   "cell_type": "code",
   "execution_count": 2,
   "id": "230d87c6",
   "metadata": {},
   "outputs": [
    {
     "name": "stdout",
     "output_type": "stream",
     "text": [
      "i =  0\n",
      "i =  1\n",
      "i =  2\n"
     ]
    }
   ],
   "source": [
    "print('i = ', 0)\n",
    "print('i = ', 1)\n",
    "print('i = ', 2)"
   ]
  },
  {
   "cell_type": "markdown",
   "id": "8975cbc0",
   "metadata": {},
   "source": [
    "## Use a `for` loop to calculate a sum\n",
    "\n",
    "The [`np.sum`](https://numpy.org/doc/stable/reference/generated/numpy.sum.html) will sum the values of an array, but if you have a Python list _inside `[` and `]`_ it will return an error. You _can_ use a `for` loop to calculate this value (_if possible use NumPy though!_). Here is the process:\n",
    "\n",
    "1. define the vector, `v`\n",
    "2. initialize the value for your sum, `sum_v`\n",
    "3. create a `for`-loop that assigns your variable to each value of `v`, `for vi in v:`\n",
    "4. inside the `for`-loop, add each value to `sum_v`, `sum_v += vi`"
   ]
  },
  {
   "cell_type": "code",
   "execution_count": 3,
   "id": "4ee4ede1",
   "metadata": {},
   "outputs": [
    {
     "name": "stdout",
     "output_type": "stream",
     "text": [
      "sum of vectors components in v is 16\n"
     ]
    }
   ],
   "source": [
    "v = [1, 2, 3, 10]\n",
    "\n",
    "sum_v = 0\n",
    "\n",
    "for vi in v:\n",
    "    sum_v += vi\n",
    "print('sum of vectors components in v is', sum_v)"
   ]
  },
  {
   "cell_type": "markdown",
   "id": "960f8f56",
   "metadata": {},
   "source": [
    "## Wrapping up\n",
    "\n",
    "In this notebook, you built some `for`-loops to `print` and add variables from desired values. You can use the `for` loops to repeat the same command multiple times while changing the the iterating variable."
   ]
  }
 ],
 "metadata": {
  "jupytext": {
   "formats": "notebooks/ipynb,md:myst",
   "text_representation": {
    "extension": ".md",
    "format_name": "myst",
    "format_version": 0.13,
    "jupytext_version": "1.10.3"
   }
  },
  "kernelspec": {
   "display_name": "Python 3",
   "language": "python",
   "name": "python3"
  },
  "language_info": {
   "codemirror_mode": {
    "name": "ipython",
    "version": 3
   },
   "file_extension": ".py",
   "mimetype": "text/x-python",
   "name": "python",
   "nbconvert_exporter": "python",
   "pygments_lexer": "ipython3",
   "version": "3.9.7"
  },
  "source_map": [
   13,
   25,
   28,
   37,
   41,
   45,
   56,
   64
  ]
 },
 "nbformat": 4,
 "nbformat_minor": 5
}