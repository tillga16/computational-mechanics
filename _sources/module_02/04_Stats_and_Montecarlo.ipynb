{
 "cells": [
  {
   "cell_type": "markdown",
   "id": "2b1f2776",
   "metadata": {},
   "source": [
    "> __Content created under Creative Commons Attribution license CC-BY\n",
    "> 4.0, code under BSD 3-Clause License © 2020 R.C. Cooper__"
   ]
  },
  {
   "cell_type": "markdown",
   "id": "9ec7650e",
   "metadata": {},
   "source": [
    "# 04 - Statistics and Monte-Carlo Models\n",
    "\n",
    "Monte Carlo models use random numbers to either understand statistics or generate a solution [1]. \n",
    "The main element in a Monte Carlo model is the use of random numbers. Monte Carlo methods are very useful if you can easily execute a function lots of time or even in parallel. \n",
    "\n",
    "We can generate random numbers in many ways, but most programming languages have 'pseudo'-random number generators. \n",
    "\n",
    "In Python, we use the [NumPy random\n",
    "library](https://numpy.org/doc/stable/reference/random/index.html) as such"
   ]
  },
  {
   "cell_type": "code",
   "execution_count": 1,
   "id": "b0e885bc",
   "metadata": {},
   "outputs": [
    {
     "data": {
      "text/plain": [
       "array([0.51763942, 0.59280421, 0.85995268, 0.40619653, 0.66911905,\n",
       "       0.21164187, 0.14349817, 0.7094216 , 0.68621461, 0.63658916,\n",
       "       0.02277982, 0.8605015 , 0.68980988, 0.9124401 , 0.18865796,\n",
       "       0.69921812, 0.67110437, 0.42929012, 0.0190683 , 0.91398497])"
      ]
     },
     "execution_count": 1,
     "metadata": {},
     "output_type": "execute_result"
    }
   ],
   "source": [
    "import numpy as np\n",
    "from numpy.random import default_rng\n",
    "rng = default_rng()\n",
    "\n",
    "x = rng.random(20)\n",
    "x"
   ]
  },
  {
   "cell_type": "markdown",
   "id": "ae00d4bc",
   "metadata": {},
   "source": [
    "NumPy's random number generator (`rng`) creates random numbers that can\n",
    "be [uniformly\n",
    "distributed](https://en.wikipedia.org/wiki/Continuous_uniform_distribution),\n",
    "[normally\n",
    "distributed](https://en.wikipedia.org/wiki/Normal_distribution), and\n",
    "[much\n",
    "more](https://numpy.org/doc/stable/reference/random/generator.html#distributions).\n",
    "The call to `rng.random(20)` created 20 uniformly random numbers between\n",
    "0 and 1 saved as the variable `x`. Next, you can plot the histogram of\n",
    "`x`."
   ]
  },
  {
   "cell_type": "code",
   "execution_count": 2,
   "id": "efc58e2c",
   "metadata": {},
   "outputs": [],
   "source": [
    "import matplotlib.pyplot as plt\n",
    "plt.style.use('fivethirtyeight')"
   ]
  },
  {
   "cell_type": "code",
   "execution_count": 3,
   "id": "2fbcef17",
   "metadata": {},
   "outputs": [
    {
     "data": {
      "text/plain": [
       "(array([4., 1., 3., 8., 4.]),\n",
       " array([0.0190683 , 0.19805163, 0.37703497, 0.5560183 , 0.73500163,\n",
       "        0.91398497]),\n",
       " <BarContainer object of 5 artists>)"
      ]
     },
     "execution_count": 3,
     "metadata": {},
     "output_type": "execute_result"
    },
    {
     "data": {
      "image/png": "[encoded data removed]",
      "text/plain": [
       "<Figure size 432x288 with 1 Axes>"
      ]
     },
     "metadata": {
      "filenames": {
       "image/png": "/home/runner/work/computational-mechanics/computational-mechanics/_build/jupyter_execute/module_02/04_Stats_and_Montecarlo_5_1.png"
      }
     },
     "output_type": "display_data"
    }
   ],
   "source": [
    "plt.hist(x, bins = 5, \n",
    "            color = 'b', \n",
    "            histtype = 'bar', \n",
    "            edgecolor = 'w')"
   ]
  },
  {
   "cell_type": "markdown",
   "id": "11cb0217",
   "metadata": {},
   "source": [
    "The pyplot function `hist` displays a histogram of these randomly generated numbers."
   ]
  },
  {
   "cell_type": "markdown",
   "id": "e74f9d57",
   "metadata": {},
   "source": [
    "## Exercise and Discussion\n",
    "\n",
    "Try generating more random numbers and plotting histograms of the results i.e. increase `10` to larger values. \n",
    "\n",
    "What should the histogram of `x` look like if Python is generating truly random numbers?"
   ]
  },
  {
   "cell_type": "code",
   "execution_count": 4,
   "id": "26cec7f9",
   "metadata": {},
   "outputs": [
    {
     "data": {
      "image/png": "[encoded data removed]",
      "text/plain": [
       "<Figure size 432x288 with 1 Axes>"
      ]
     },
     "metadata": {
      "filenames": {
       "image/png": "/home/runner/work/computational-mechanics/computational-mechanics/_build/jupyter_execute/module_02/04_Stats_and_Montecarlo_8_0.png"
      }
     },
     "output_type": "display_data"
    }
   ],
   "source": [
    "rng = default_rng()\n",
    "x = rng.random(10000)\n",
    "plt.hist(x);"
   ]
  },
  {
   "cell_type": "markdown",
   "id": "3dd78a5f",
   "metadata": {},
   "source": [
    "## Examples of Monte Carlo models:\n",
    "\n",
    "Monte Carlo models have a wide array of applications. We are going to use Monte Carlo models in later modules to explore how uncertainty in measurements can be incorporated into computational models. The three main applications for Monte Carlo models are used in three main classes: optimization, numerical integration, and generating population distributions [1]. \n",
    "\n",
    "Here is a brief list of Monte Carlo model use cases in real-world applications:\n",
    "\n",
    "- [Eigenvlaues in supercritical systems](https://link.springer.com/chapter/10.1007%2FBFb0049064)\n",
    "- [average time between failures for reliability](http://www.egr.msu.edu/~mitraj/research/pubs/proc/singh-mitra_em_stdby_ias95.pdf)\n",
    "- disordered materials (physics)\n",
    "- [Calculation of the energy output of a wind farm](http://www.mdpi.com/1996-1073/9/4/286/pdf)\n",
    "- [US Coast Guard rescue missions](https://en.wikipedia.org/wiki/Search_and_Rescue_Optimal_Planning_System)\n",
    "- [Radiation shielding](http://www.sciencedirect.com/science/article/pii/S0920379612000580)\n",
    "- [Predict number of asteroids that hit body of water](https://cneos.jpl.nasa.gov/sentry/intro.html)\n",
    "- [Financial modeling](https://en.wikipedia.org/wiki/Monte_Carlo_methods_in_finance)\n",
    "\n",
    "We will explore Monte Carlo modeling through the use of three examples:\n",
    "\n",
    "1. Calculate the value of $\\pi$\n",
    "\n",
    "2. Simulate Brownian motion of particles in fluids\n",
    "\n",
    "3. Propagate uncertainty in manufacturing into uncertainty in failure load\n",
    "\n",
    "\n",
    "## Example 1: Calculate $\\pi$ with random numbers. \n",
    "\n",
    "Assuming we can actually generate random numbers (a topic of philosophical and heated debates) we can populate a unit square with random points and determine the ratio of points inside and outside of a circle.\n",
    "\n",
    "![Unit circle and unit square](../images/MonteCarloPi.gif)\n",
    "\n",
    "![1/4 Unit circle and 1/4 unit square](../images/MonteCarloPi_rand.gif)\n",
    "\n",
    "\n",
    "The ratio of the area of the circle to the square is:\n",
    "\n",
    "$\\frac{\\pi r^{2}}{4r^{2}}=\\frac{\\pi}{4}$\n",
    "\n",
    "So if we know the fraction of random points that are within the unit circle, then we can calculate $\\pi$\n",
    "\n",
    "(number of points in circle)/(total number of points)=$\\pi/4$"
   ]
  },
  {
   "cell_type": "code",
   "execution_count": 5,
   "id": "d3db4115",
   "metadata": {},
   "outputs": [
    {
     "ename": "SyntaxError",
     "evalue": "invalid syntax (1013822277.py, line 15)",
     "output_type": "error",
     "traceback": [
      "\u001b[0;36m  File \u001b[0;32m\"/tmp/ipykernel_1803/1013822277.py\"\u001b[0;36m, line \u001b[0;32m15\u001b[0m\n\u001b[0;31m    <<<<<<< HEAD\u001b[0m\n\u001b[0m    ^\u001b[0m\n\u001b[0;31mSyntaxError\u001b[0m\u001b[0;31m:\u001b[0m invalid syntax\n"
     ]
    }
   ],
   "source": [
    "def montecarlopi(N):\n",
    "    '''Create random x-y-coordinates to and use ratio of circle-to-square to \n",
    "    calculate the value of pi\n",
    "    i.e. Acircle/Asquare = pi/4\n",
    "    Arguments\n",
    "    ---------\n",
    "    N: number of random points to produce between x=0-1 and y=0-1\n",
    "    \n",
    "    Returns\n",
    "    -------\n",
    "    our_pi: the best prediction of pi using N points\n",
    "    '''\n",
    "    \n",
    "\n",
    "<<<<<<< HEAD\n",
    "<<<<<<< HEAD\n",
    "    x = rng.random(N);\n",
    "    y = rng.random(N);\n",
    "=======\n",
    "    x = rng.random(N,1);\n",
    "    y = rng.random(N,1);\n",
    ">>>>>>> d7cf0d8ce41b3b43def20b580643462f78a237e5\n",
    "=======\n",
    "    x = rng.random(N);\n",
    "    y = rng.random(N);\n",
    ">>>>>>> cooperrc-master\n",
    "    R=np.sqrt(x**2+y**2); # compute radius\n",
    "    num_in_circle=sum(R<1);\n",
    "    total_num_pts =len(R);\n",
    "    our_pi = 4*num_in_circle/total_num_pts;\n",
    "    return our_pi"
   ]
  },
  {
   "cell_type": "code",
   "execution_count": null,
   "id": "a272ded1",
   "metadata": {},
   "outputs": [],
   "source": [
    "test_pi=np.zeros(10)\n",
    "for i in range(0,10):\n",
    "    test_pi[i]=montecarlopi(10000);\n",
    "\n",
    "print('mean value for pi = %f'%np.mean(test_pi))\n",
    "print('standard deviation is %f'%np.std(test_pi))\n",
    "print('actual pi is %f'%np.pi)"
   ]
  },
  {
   "cell_type": "markdown",
   "id": "c585ccca",
   "metadata": {},
   "source": [
    "## Exercises\n",
    "\n",
    "1. Why is there a standard deviation for the value of $\\pi$ calculated with a Monte Carlo method? Does it depend upon how many times you run the function i.e. the size of `test_pi`? or the number of random points `N`? Alter the script above to discover correlations\n",
    "\n",
    "2. How well does your function `montecarlopi` converge to the true value\n",
    "of $\\pi$ (you can use `np.pi` as a true value)? Plot the convergence as\n",
    "we did in [03-Numerical_error](../module_01/03-Numerical_error)"
   ]
  },
  {
   "cell_type": "code",
   "execution_count": null,
   "id": "c4c983ec",
   "metadata": {},
   "outputs": [],
   "source": [
    "test_pi=np.zeros(100)\n",
    "for i in range(0,100):\n",
    "    test_pi[i]=montecarlopi(1000);\n",
    "\n",
    "print('mean value for pi = %f'%np.mean(test_pi))\n",
    "print('standard deviation is %f'%np.std(test_pi))\n",
    "print('actual pi is %f'%np.pi)"
   ]
  },
  {
   "cell_type": "markdown",
   "id": "53f15d83",
   "metadata": {},
   "source": [
    "Compare the above 100 `test_pi` cases each 1000 points. \n",
    "\n",
    "to the below 10 `test_pi` cases each 10,000 points.\n",
    "\n",
    "Above, the std is the same as before $\\approx 0.05$\n",
    "\n",
    "Below, the std is decreased to $\\approx 0.01$"
   ]
  },
  {
   "cell_type": "code",
   "execution_count": null,
   "id": "5577acd8",
   "metadata": {},
   "outputs": [],
   "source": [
    "test_pi=np.zeros(10)\n",
    "for i in range(0,10):\n",
    "    test_pi[i]=montecarlopi(10000);\n",
    "\n",
    "print('mean value for pi = %f'%np.mean(test_pi))\n",
    "print('standard deviation is %f'%np.std(test_pi))\n",
    "print('actual pi is %f'%np.pi)"
   ]
  },
  {
   "cell_type": "code",
   "execution_count": null,
   "id": "ada5925e",
   "metadata": {},
   "outputs": [],
   "source": [
    "N=np.arange(0,5)\n",
    "error = np.zeros(len(N))\n",
    "\n",
    "for n in N:\n",
    "    mypi = np.zeros(10)\n",
    "    for i in range(0,10):\n",
    "        mypi[i]=montecarlopi(10**n)\n",
    "    mupi = np.mean(mypi)\n",
    "    error[n] = np.abs(np.pi-mupi)/np.pi\n",
    "plt.semilogy(N,error)\n",
    "plt.xlabel('N=10^n')\n",
    "plt.ylabel('relative error');"
   ]
  },
  {
   "cell_type": "markdown",
   "id": "63d9d62d",
   "metadata": {},
   "source": [
    "## Example 2: Simulate Brownian motion of particles in a fluid \n",
    "\n",
    "[Brownian motion](https://www.britannica.com/science/Brownian-motion)\n",
    "was first documented by Robert Brown, a Scottish botanist in 1827. It is\n",
    "a description of how large particles move and vibrate in fluids that\n",
    "have no buld motion. The atoms from the fluid bounce off the suspended\n",
    "particles to jiggle them randomly left and right. Take a look at [Up and\n",
    "Atom's video](https://www.youtube.com/channel/UCSIvk78tK2TiviLQn4fSHaw)\n",
    "for more information in the physics and history of the phenomenon."
   ]
  },
  {
   "cell_type": "code",
   "execution_count": null,
   "id": "2c8dfb5f",
   "metadata": {},
   "outputs": [],
   "source": [
    "from IPython.display import YouTubeVideo\n",
    "YouTubeVideo('5jBVYvHeG2c')"
   ]
  },
  {
   "cell_type": "markdown",
   "id": "01c3c40d",
   "metadata": {},
   "source": [
    "In this example, your goal is to predict the location of 50 particles\n",
    "if they take 100 random steps from -0.5 to 0.5 $\\mu m$ in the x- and\n",
    "y-directions. \n",
    "\n",
    "### Exercise (Discussion)\n",
    "\n",
    "If the steps are uniformly random and can be positive or negative, where\n",
    "do you _expect_ the particle to be after 100 steps? Will it be back to\n",
    "where it started? or will it migrate to somewhere new?\n",
    "\n",
    "### Generate your Brownian motion\n",
    "\n",
    "Here, we are simplifying the physics of the Brownian motion (ignoring\n",
    "the details in the transfer of momentum from small to large particles)\n",
    "and just assuming each step in the x- and y-directions are  -0.5 to 0.5\n",
    "$\\mu m$. Here is the Monte Carlo process:\n",
    "\n",
    "1. generate 2 sets of 100 random numbers between -0.5 to 0.5 for\n",
    "$Delta x$ and $\\Delta y$. \n",
    "2. create an array with 100 locations, the first is at the origin (0, 0)\n",
    "3. take a cumulative sum of the $\\Delta x$ and $\\Delta y$ steps to find\n",
    "the location at each step\n",
    "4. plot the results\n",
    "\n",
    "Here, you create the 100 random numbers and shift them by 0.5."
   ]
  },
  {
   "cell_type": "code",
   "execution_count": null,
   "id": "584f21b4",
   "metadata": {},
   "outputs": [],
   "source": [
    "rng = default_rng()\n",
    "N_steps = 100\n",
    "dx = rng.random(N_steps) - 0.5\n",
    "dy = rng.random(N_steps) - 0.5"
   ]
  },
  {
   "cell_type": "markdown",
   "id": "4299108b",
   "metadata": {},
   "source": [
    "Next, create the positions at each step."
   ]
  },
  {
   "cell_type": "code",
   "execution_count": null,
   "id": "64cb8da0",
   "metadata": {},
   "outputs": [],
   "source": [
    "r = np.zeros((N_steps, 2))"
   ]
  },
  {
   "cell_type": "markdown",
   "id": "61315a47",
   "metadata": {},
   "source": [
    "Now, use\n",
    "[`np.cumsum`](https://numpy.org/doc/stable/reference/generated/numpy.cumsum.html)\n",
    "to find the final position after each step is taken."
   ]
  },
  {
   "cell_type": "code",
   "execution_count": null,
   "id": "13f37f6d",
   "metadata": {},
   "outputs": [],
   "source": [
    "r[:, 0] = np.cumsum(dx) # final rx position\n",
    "r[:, 1] = np.cumsum(dy) # final ry position"
   ]
  },
  {
   "cell_type": "markdown",
   "id": "286125ff",
   "metadata": {},
   "source": [
    "Finally, you can plot the path the particle took as it moved along its\n",
    "100 steps and its final location."
   ]
  },
  {
   "cell_type": "code",
   "execution_count": null,
   "id": "aa67f56f",
   "metadata": {},
   "outputs": [],
   "source": [
    "plt.plot(r[:, 0 ], r[:, 1])\n",
    "plt.plot(r[-1, 0], r[-1, 1], 'o', markersize = 10)\n",
    "plt.xlabel('x-position (um)')\n",
    "plt.ylabel('y-position (um)')"
   ]
  },
  {
   "cell_type": "markdown",
   "id": "d02ddc29",
   "metadata": {},
   "source": [
    "A curious result, even though we prescribed random motion, the final\n",
    "location did not end up back at the origin, where it started. __What if\n",
    "you looked at 50 particles?__ How many would end up back at the origin?\n",
    "Use a for-loop to calculate the position of 50 particles taking 100\n",
    "steps each."
   ]
  },
  {
   "cell_type": "code",
   "execution_count": null,
   "id": "f29fb08f",
   "metadata": {},
   "outputs": [],
   "source": [
    "num_particles = 50\n",
    "r_final = np.zeros((num_particles, 2))\n",
    "for i in range(0, num_particles):\n",
    "    dx = rng.random(N_steps) - 0.5\n",
    "    dy = rng.random(N_steps) - 0.5\n",
    "\n",
    "    r = np.zeros((N_steps, 2))\n",
    "\n",
    "    r[:, 0] = np.cumsum(dx)\n",
    "    r[:, 1] = np.cumsum(dy)\n",
    "    r_final[i, :] = r[-1, :]\n",
    "\n",
    "    plt.plot(r[:, 0 ], r[:, 1], alpha = 0.2)\n",
    "plt.plot(r_final[:, 0], r_final[:, 1], 'o', markersize = 10)"
   ]
  },
  {
   "cell_type": "markdown",
   "id": "9e434d0e",
   "metadata": {},
   "source": [
    "### Exercise\n",
    "Calculate the average location of the particles. What is the standard\n",
    "deviation?"
   ]
  },
  {
   "cell_type": "code",
   "execution_count": null,
   "id": "ad8dec76",
   "metadata": {},
   "outputs": [],
   "source": []
  },
  {
   "cell_type": "markdown",
   "id": "0ea4eeed",
   "metadata": {},
   "source": [
    "## Exercise\n",
    "\n",
    "Compare the scaled histogram to the original histogram. What is similar? What is different?\n",
    "\n",
    "Make a scaling equation to get uniformly random numbers between 10 and 20. \n",
    "\n",
    "_The scaling keeps the bin heights constant, but it changes the width and location of the bins in the histogram. Scaling to 10-20 shows a more extreme example._"
   ]
  },
  {
   "cell_type": "code",
   "execution_count": null,
   "id": "ec59aa44",
   "metadata": {},
   "outputs": [],
   "source": []
  },
  {
   "cell_type": "markdown",
   "id": "da4706f0",
   "metadata": {},
   "source": [
    "### Example 3: Determine uncertainty in failure load based on geometry uncertainty\n",
    "\n",
    "In this example, we know that a steel bar will break under 940 MPa tensile stress. The bar is 1 mm by 2 mm with a tolerance of 10 %. What is the range of tensile loads that can be safely applied to the beam?\n",
    "\n",
    "$\\sigma_{UTS}=\\frac{F_{fail}}{wh}$\n",
    "\n",
    "$F_{fail}=\\sigma_{UTS}wh$"
   ]
  },
  {
   "cell_type": "code",
   "execution_count": null,
   "id": "0bb8dd44",
   "metadata": {},
   "outputs": [],
   "source": [
    "N = 10000\n",
    "r = rng.random(N)\n",
    "wmean = 1 # in mm\n",
    "wmin = wmean-wmean*0.1\n",
    "wmax = wmean+wmean*0.1\n",
    "hmean = 2 # in mm\n",
    "hmin = hmean-hmean*0.1\n",
    "hmax = hmean+hmean*0.1\n",
    "\n",
    "wrand=wmin+(wmax-wmin)*r\n",
    "hrand=hmin+(hmax-hmin)*r\n",
    "\n",
    "uts=940 # in N/mm^2=MPa\n",
    "\n",
    "Ffail=uts*wrand*hrand*1e-3 # force in kN\n",
    "plt.hist(Ffail,bins=20,)\n",
    "plt.xlabel('failure load (kN)')\n",
    "plt.ylabel('relative counts')\n",
    "plt.title('Failure load is {:.2f}+/- {:.2f} kN'.format(np.mean(Ffail),np.std(Ffail)))"
   ]
  },
  {
   "cell_type": "markdown",
   "id": "3b40a0c1",
   "metadata": {},
   "source": [
    "Normally, the tolerance is not a maximum/minimum specification, but\n",
    "instead a normal distribution that describes the standard deviation, or\n",
    "the 68% confidence interval.\n",
    "\n",
    "So instead, you should generate normally distributed dimensions."
   ]
  },
  {
   "cell_type": "code",
   "execution_count": null,
   "id": "468285d4",
   "metadata": {},
   "outputs": [],
   "source": [
    "N=10000\n",
    "wmean=1 # in mm\n",
    "wstd=wmean*0.1 # standard deviation in mm\n",
    "hmean=2 # in mm\n",
    "hstd=hmean*0.1 # standard deviation in mm\n",
    "\n",
    "\n",
    "wrand=rng.normal(loc = wmean, scale = wstd, size = N)\n",
    "hrand=np.random.normal(loc = hmean, scale = hstd, size = N)\n",
    "uts=940 # in N/mm^2=MPa\n",
    "\n",
    "Ffail=uts*wrand*hrand*1e-3 # force in kN\n",
    "plt.hist(Ffail,bins=20)\n",
    "#plt.xlabel('failure load (kN)')\n",
    "#plt.ylabel('relative counts')\n",
    "plt.title('Failure load is {:.2f}+/- {:.2f} kN'.format(np.mean(Ffail),np.std(Ffail)))"
   ]
  },
  {
   "cell_type": "markdown",
   "id": "d1398b76",
   "metadata": {},
   "source": [
    "In this propagation of uncertainty, the final value of failure load seems to be independent of wheher the distribution is uniformly random or normally distributed. In both cases, the failure load is $\\approx 1.9 \\pm 0.25$ kN.\n",
    "\n",
    "The difference is much more apparent if you look at the number of occurrences that failure will occur whether the dimensions are uniformly random or normally distributed. \n",
    "\n",
    "For the uniformly random case, there are approximately 500 parts out of 10,000 that will fail at 1.9 kN. \n",
    "\n",
    "For the normally distributed case, there are approximately 1500 parts out of 10,000 that will fail at 1.9 kN. \n",
    "\n",
    "<<<<<<< HEAD\n",
    "<<<<<<< HEAD\n",
    "=======\n",
    ">>>>>>> cooperrc-master\n",
    "## Where does a normal distribution come from?\n",
    "\n",
    "\"Everybody believes in the exponential law of errors: the experimenters, because they think it can be proved by mathematics; and the mathematicians, because they believe it has been established by observation\" [5].\n",
    "\n",
    "In the previous example, we drew dimensions from uniformly random distributions and normally distributed random distributions. Why do we use the \"normal\" distribution to describe data with a mean and standard deviation? There are exact statistical methods to derive the normal distribution, but let's take a look at a Monte Carlo approach. \n",
    "\n",
    "Let's say there are 10 different independent factors that could change the dimensions of the steel bar in question e.g. which tool was used, how old the blade is, the humidity, the temperature, and the list goes on. \n",
    "\n",
    "Let's consider one dimension. \n",
    "Each of these factors could change the dimensions of the part, let's use a uniform scale of -1/2-1/2.\n",
    "If the effect is 0, the dimension is exactly as specified. If the effect is -1/2, the dimension is much smaller. Conversely, if the effect is 1/2 the dimension is much larger. Now, we use a Monte Carlo model to generate 10 effects on 10,000 parts as shown in the next block."
   ]
  },
  {
   "cell_type": "code",
   "execution_count": null,
   "id": "2b289e6f",
   "metadata": {},
   "outputs": [],
   "source": [
    "factors = np.random.rand(10000,10)-1/2 # each row represents a part and each column is an effect (-1/2-1/2)"
   ]
  },
  {
   "cell_type": "markdown",
   "id": "b8418642",
   "metadata": {},
   "source": [
    "Now, we have created 10,000 parts with 10 uniformly random effects between -1/2-1/2. \n",
    "\n",
    "We sum the effects and look at the final part distribution. The x-axis is labeled \"A.U.\" for arbitrary units, we are just assuming an effect of -1/2-1/2 for each of the 10 factors."
   ]
  },
  {
   "cell_type": "code",
   "execution_count": null,
   "id": "81dac096",
   "metadata": {},
   "outputs": [],
   "source": [
    "dims = np.sum(factors,axis=1)\n",
    "\n",
    "plt.hist(dims,30)\n",
    "plt.xlabel('effect A.U.')\n",
    "plt.ylabel('number of parts')"
   ]
  },
  {
   "cell_type": "markdown",
   "id": "2aae0c6a",
   "metadata": {},
   "source": [
    "Now, depending upon which random numbers were generated, you should see what looks like a normal distribution. \n",
    "\n",
    "Normal distributions come from the assumption that we have a large (or infinite) number of uncontrollable factors that can change our desired result. In our case, ideally each factor would have an effect of 0, because then it is exactly as specified, but the reality is that we can't control most factors. As engineers, we always have to consider the uncertainty in our models and measurements. \n",
    "\n",
    "<<<<<<< HEAD\n",
    "=======\n",
    ">>>>>>> d7cf0d8ce41b3b43def20b580643462f78a237e5\n",
    "=======\n",
    ">>>>>>> cooperrc-master\n",
    "## What you've learned:\n",
    "\n",
    "* How to generate \"random\" numbers in Python$^+$\n",
    "* The definition of a Monte Carlo model\n",
    "* How to calculate $\\pi$ with Monte Carlo\n",
    "* How to model Brownian motion with Monte Carlo\n",
    "* How to propagate uncertainty in a model with Monte Carlo\n",
    "\n",
    "$^+$ Remember, the computer only generates pseudo-random numbers. For further information **and** truly random numbers  check [www.random.org](https://www.random.org/randomness/) \n",
    "\n",
    "## References\n",
    "\n",
    "1. [Why the Monte Carlo method is so important today\n",
    "Dirk P. Kroese, Tim Brereton *et al.* Wiley Interdisciplinary Reviews: Computational Statistics, 6, 6, 11 2014](https://onlinelibrary.wiley.com/doi/full/10.1002/wics.1314)\n",
    "\n",
    "2. [Wikipedia: Monte Carlo integration](https://en.wikipedia.org/wiki/Monte_Carlo_integration)\n",
    "\n",
    "3. [Weinzierl, S. (2000). \"Introduction to Monte Carlo methods\"](https://arxiv.org/abs/hep-ph/0006269)\n",
    "\n",
    "4. Meurer A, _et al._ (2017) SymPy: symbolic computing in Python. PeerJ Computer Science 3:e103 https://doi.org/10.7717/peerj-cs.103\n",
    "\n",
    "5. Whittaker, E. T. and Robinson, G. \"Normal Frequency Distribution.\" Ch. 8 in The Calculus of Observations: A Treatise on Numerical Mathematics, 4th ed. New York: Dover, p. 179, 1967."
   ]
  },
  {
   "cell_type": "markdown",
   "id": "b2e923ad",
   "metadata": {},
   "source": [
    "# Problems\n",
    "\n",
    "__1.__ [Buffon's needle problem](https://en.wikipedia.org/wiki/Buffon) is\n",
    "another way to estimate the value of $\\pi$ with random numbers. The goal\n",
    "in this Monte Carlo estimate of $\\pi$ is to create a ratio that is close\n",
    "to [3.1415926...](http://www.math.com/tables/constants/pi.htm) _similar\n",
    "to the example with darts points lying inside/outside a unit circle\n",
    "inside a unit square._ \n",
    "\n",
    "![Buffon's needle for parallel\n",
    "lines](https://upload.wikimedia.org/wikipedia/commons/f/f6/Buffon_needle.gif)\n",
    "\n",
    "In this Monte Carlo estimation, you only need to know two values:\n",
    "- the distance from line 0, $x = [0,~1]$\n",
    "- the orientation of the needle, $\\theta = [0,~2\\pi]$\n",
    "\n",
    "The y-location does not affect the outcome of crosses line 0 or not\n",
    "crossing line 0. \n",
    "\n",
    "__a.__ Generate 100 random `x` and `theta` values _remember_ $\\theta =\n",
    "[0,~2\\pi]$\n",
    "\n",
    "__b.__ Calculate the x locations of the 100 needle ends e.g. $x_end = x\n",
    "\\pm \\cos\\theta$ _since length is unit 1. \n",
    "\n",
    "__c.__ Use \n",
    "[`np.logical_and`](https://numpy.org/doc/stable/reference/generated/numpy.logical_and.html)\n",
    "to find the number of needles that have minimum $x_{end~min}<0$ and\n",
    "maximum $x_{end~max}>0$. The ratio\n",
    "$\\frac{x_{end~min}<0~and~x_{end~max}>0}{number~of~needles} =\n",
    "\\frac{2}{\\pi}$ _for large values of $number~of~needles$_.\n",
    "\n",
    "<<<<<<< HEAD\n",
    "<<<<<<< HEAD\n",
    "=======\n",
    ">>>>>>> cooperrc-master"
   ]
  },
  {
   "cell_type": "code",
   "execution_count": null,
   "id": "ed59e241",
   "metadata": {},
   "outputs": [],
   "source": [
    "N = 100000\n",
    "theta = np.random.uniform(low = 0, high = 2*np.pi, size = N)\n",
    "x = np.random.rand(N)\n",
    "\n",
    "x_min = x - np.cos(theta)\n",
    "x_max = x + np.cos(theta)\n",
    "\n",
    "pi_appr = 1 * N / (np.count_nonzero(np.logical_and(x_min < 0, x_max > 0)))\n",
    "print('My estimated value using Buffon\\'s needle problem is:', pi_appr)"
   ]
  },
  {
   "cell_type": "markdown",
   "id": "fa70e9d2",
   "metadata": {},
   "source": [
    "<<<<<<< HEAD\n",
    "=======\n",
    ">>>>>>> d7cf0d8ce41b3b43def20b580643462f78a237e5\n",
    "=======\n",
    "__2.__ 100 steel rods are going to be used to support a 1000 kg structure. The\n",
    "=======\n",
    ">>>>>>> cooperrc-master\n",
    "__2.__ Build a random walk data set with steps between $dx = dy =\n",
    "-1/2~to~1/2~m$. If 100 particles take 10 steps, calculate the number of\n",
    "particles that move further than 0.5 m. \n",
    "\n",
    "_Bonus: Can you do the work without any `for`-loops? Change the size of\n",
    "`dx` and `dy` to account for multiple particles._"
   ]
  },
  {
   "cell_type": "code",
   "execution_count": null,
   "id": "571cdd71",
   "metadata": {},
   "outputs": [],
   "source": [
    "rng = default_rng()\n",
    "N_steps = 10\n",
    "dx = rng.random(N_steps) - 0.5\n",
    "dy = rng.random(N_steps) - 0.5\n",
    "<<<<<<< HEAD\n",
    "<<<<<<< HEAD\n",
    "=======\n",
    "\n",
    ">>>>>>> d7cf0d8ce41b3b43def20b580643462f78a237e5\n",
    "=======\n",
    ">>>>>>> cooperrc-master"
   ]
  },
  {
   "cell_type": "markdown",
   "id": "74fa4875",
   "metadata": {},
   "source": [
    "__3.__ 100 steel rods are going to be used to support a 1000 kg structure. The\n",
    "rods will buckle when the load in any rod exceeds the [critical buckling\n",
    "load](https://en.wikipedia.org/wiki/Euler%27s_critical_load)\n",
    "\n",
    "$P_{cr}=\\frac{\\pi^3 Er^4}{16L^2}$\n",
    "\n",
    "where E=200e9 Pa, r=0.01 m +/-0.001 m, and L is the \n",
    "length of the rods supporting the structure. Create a Monte\n",
    "Carlo model `montecarlo_buckle` that predicts \n",
    "the mean and standard deviation of the buckling load for 100\n",
    "samples with normally distributed dimensions r and L. \n",
    "\n",
    "```python\n",
    "mean_buckle_load,std_buckle_load=\\\n",
    "montecarlo_buckle(E,r_mean,r_std,L,N=100)\n",
    "```\n",
    "\n",
    "__a.__ What is the mean_buckle_load and std_buckle_load for L=5 m?\n",
    "\n",
    "__b.__ What length, L, should the beams be so that only 2.5% will \n",
    "reach the critical buckling load?"
   ]
  },
  {
   "cell_type": "code",
   "execution_count": null,
   "id": "5539c290",
   "metadata": {},
   "outputs": [],
   "source": [
    "def montecarlo_buckle(E,r_mean,r_std,L,N=100):\n",
    "    '''Generate N rods of length L with radii of r=r_mean+/-r_std\n",
    "    then calculate the mean and std of the buckling loads in for the\n",
    "    rod population holding a 1000-kg structure\n",
    "    Arguments\n",
    "    ---------\n",
    "    E: Young's modulus [note: keep units consistent]\n",
    "    r_mean: mean radius of the N rods holding the structure\n",
    "    r_std: standard deviation of the N rods holding the structure\n",
    "    L: length of the rods (or the height of the structure)\n",
    "    N: number of rods holding the structure, default is N=100 rods\n",
    "    Returns\n",
    "    -------\n",
    "    mean_buckle_load: mean buckling load of N rods under 1000*9.81/N-Newton load\n",
    "    std_buckle_load: std dev buckling load of N rods under 1000*9.81/N-Newton load\n",
    "    '''\n",
    "    r_rand = np.random.normal(r_mean, r_std, size = N)\n",
    "    \n",
    "    p = (E * (np.pi) ** 3 * (r_rand**4))/(16*(L**2))\n",
    "\n",
    "    \n",
    "    mean_buckle_load = np.mean(p)\n",
    "    std_buckle_load = np.std(p)\n",
    "    return mean_buckle_load, std_buckle_load\n",
    "\n",
    "mean_buckle_load, std_buckle_load = montecarlo_buckle(200e9,0.01,0.001,5)\n",
    "print('For a rod of length L = 5 meters, '\n",
    "      'the mean buckle load is {:.2f} and the standard deviation of the buckle load is {:.2f}'.format(mean_buckle_load, std_buckle_load))"
   ]
  },
  {
   "cell_type": "markdown",
   "id": "8794f719",
   "metadata": {},
   "source": [
    "<<<<<<< HEAD\n",
    "<<<<<<< HEAD\n",
    "=======\n",
    ">>>>>>> cooperrc-master\n",
    "__4.__ Generate your own normal distribution using uniformly random numbers between -1/2 and 1/2. \n",
    "\n",
    "__a.__ What is the effect of changing the number of factors?\n",
    "\n",
    "__b.__ What is the effect of changing the number of samples?\n",
    "\n",
    "*Hint: for a-b try plotting histograms of the results.*\n",
    "\n",
    "__c.__ How would you change the mean in your generated distribution?"
   ]
  },
  {
   "cell_type": "code",
   "execution_count": null,
   "id": "78a7d36a",
   "metadata": {},
   "outputs": [],
   "source": [
    "print('(3.a) and (3.b)')\n",
    "def normdist(parts,effects):\n",
    "    factors = np.random.rand(parts,effects)-1/2\n",
    "    dims = np.sum(factors,axis=1)\n",
    "    return dims\n",
    "\n",
    "plt.hist(normdist(10000,3),30)\n",
    "plt.title('Low Effects')\n",
    "plt.show()\n",
    "\n",
    "plt.hist(normdist(10000,500),30)\n",
    "plt.title('High Effects')\n",
    "plt.show()\n",
    "\n",
    "plt.hist(normdist(100,200),30)\n",
    "plt.title('Low Samples')\n",
    "plt.show()\n",
    "\n",
    "plt.hist(normdist(10000,200),30)\n",
    "plt.title('High Samples')\n",
    "plt.show()"
   ]
  },
  {
   "cell_type": "markdown",
   "id": "809c42c4",
   "metadata": {},
   "source": [
    "(3.a) As the number effects increases, the total range of the distribution increases since there are more contributing factors.\n",
    "When more effects are added, the distribution gets slightly steeper, with a higher percentage of values centered closer to the mean. Regardless, with sufficient samples, the distribution maintains the bell-curve shape.\n",
    "\n",
    "(3.b) As the number of samples increases, the shape of the distribution approaches a smoother bell curve. When there are too few samples, the distribution appears choppy, signifying the lack of sufficient samples.\n",
    "\n",
    "(3.c) The model is currently set up to produce random values between 0 and 1, following a normal distribution centered around 0.5. These values are then shifted downwards -0.5, to produce a normal distribution with a mean of 0, ranging from -0.5 to 0.5. The mean could be changed by altering the size of the shift -> for example, changing the shift to + 9.5 would produce a distribution with a mean around 10.\n",
    "<<<<<<< HEAD\n",
    "=======\n",
    ">>>>>>> d7cf0d8ce41b3b43def20b580643462f78a237e5\n",
    "=======\n",
    ">>>>>>> cooperrc-master"
   ]
  }
 ],
 "metadata": {
  "jupytext": {
   "formats": "notebooks//ipynb,md:myst",
   "text_representation": {
    "extension": ".md",
    "format_name": "myst",
    "format_version": 0.13,
    "jupytext_version": "1.11.4"
   }
  },
  "kernelspec": {
   "display_name": "Python 3 (ipykernel)",
   "language": "python",
   "name": "python3"
  },
  "language_info": {
   "codemirror_mode": {
    "name": "ipython",
    "version": 3
   },
   "file_extension": ".py",
   "mimetype": "text/x-python",
   "name": "python",
   "nbconvert_exporter": "python",
   "pygments_lexer": "ipython3",
   "version": "3.9.7"
  },
  "source_map": [
   13,
   18,
   30,
   37,
   50,
   55,
   60,
   64,
   72,
   76,
   119,
   153,
   161,
   171,
   179,
   189,
   199,
   212,
   224,
   227,
   255,
   260,
   264,
   266,
   272,
   275,
   280,
   285,
   293,
   308,
   314,
   316,
   326,
   328,
   338,
   358,
   366,
   383,
   409,
   411,
   417,
   423,
   457,
   495,
   505,
   521,
   533,
   557,
   586,
   602,
   624
  ]
 },
 "nbformat": 4,
 "nbformat_minor": 5
}