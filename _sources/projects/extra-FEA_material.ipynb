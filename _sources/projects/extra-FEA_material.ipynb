{
 "cells": [
  {
   "cell_type": "markdown",
   "id": "71e6c6c4",
   "metadata": {},
   "source": [
    "# Extra Material: Direct stiffness method for Finite Element analysis (FEA)\n",
    "\n",
    "The direct stiffness approach looks at the stiffness of each individual element and adds them to the overall stiffness of the FEA structure. Starting with a single element, show below we have the following relation between forces applied and deformation\n",
    "\n",
    "![Single link element with forces applied to both ends](../images/link_elem.png)\n",
    "\n",
    "$\\mathbf{F}_{el} = \\mathbf{K}_{el}\\mathbf{u}$\n",
    "\n",
    "where \n",
    "\n",
    "$\\mathbf{F}_{el}=\\left[\\begin{array}{c}\n",
    "        F_{1x}\\\\\n",
    "        F_{1y}\\\\\n",
    "        F_{2x}\\\\\n",
    "        F_{2y}\\end{array}\\right]$\n",
    "\n",
    "$\\mathbf{u}=\\left[\\begin{array}{c}\n",
    "        u_{1x}\\\\\n",
    "        u_{1y}\\\\\n",
    "        u_{2x}\\\\\n",
    "        u_{2y}\\end{array}\\right]$, \n",
    "        \n",
    "and \n",
    "\n",
    "$\\mathbf{K}_{el}=\\frac{EA}{l}\\left[\\begin{array}{cccc}\n",
    "        \\cos^2\\theta & \\cos\\theta\\sin\\theta & -\\cos^2\\theta & -\\cos\\theta\\sin\\theta\\\\\n",
    "        \\cos\\theta\\sin\\theta & \\sin^2\\theta & -\\cos\\theta\\sin\\theta & -\\sin^2\\theta &\\\\\n",
    "        -\\cos^2\\theta & -\\cos\\theta\\sin\\theta & \\cos^2\\theta & \\cos\\theta\\sin\\theta\\\\\n",
    "        -\\cos\\theta\\sin\\theta & -\\sin^2\\theta & \\cos\\theta\\sin\\theta & \\sin^2\\theta &\\\\\n",
    "        \\end{array}\\right]$."
   ]
  },
  {
   "cell_type": "markdown",
   "id": "887c7e75",
   "metadata": {},
   "source": [
    "For a linear-elastic, small deformation FEA, we assume that the angle $\\theta$ remains constant before/after deformation. So our stiffness matrix, $\\mathbf{K}_{el}$ is constant once the geometry of the simulation is initialized. So, for a single link element that is deformed by $\\mathbf{u}$, the force that is applied to create that deformation is given by our first equation. \n",
    "\n",
    "Consider a single aluminum bar $(E=70~GPa)$, with cross-section of $1~mm^2$, and length of 1 meter. If it is initially at an angle of $45^{o}$ pinned at one end and stretched 2 mm to along the x-direction, we have the following deformation and stiffness, \n",
    "\n",
    "$\\mathbf{u}=\\left[\\begin{array}{c}\n",
    "        0\\\\\n",
    "        0\\\\\n",
    "        2\\\\\n",
    "        0\\end{array}\\right]~mm$, \n",
    "        \n",
    "$\\mathbf{K}_{el}=70\\frac{N}{mm}\\left[\\begin{array}{cccc}\n",
    "        1/2 & 1/2 & -1/2 & -1/2\\\\\n",
    "        1/2 & 1/2 & -1/2 & -1/2 &\\\\\n",
    "        -1/2 & -1/2 & 1/2 & 1/2\\\\\n",
    "        -1/2 & -1/2 & 1/2 & 1/2 &\\\\\n",
    "        \\end{array}\\right]$."
   ]
  },
  {
   "cell_type": "code",
   "execution_count": 1,
   "id": "27e73815",
   "metadata": {},
   "outputs": [],
   "source": [
    "import numpy as np\n",
    "import matplotlib.pyplot as plt\n",
    "from matplotlib import rcParams\n",
    "rcParams['font.family'] = 'sans'\n",
    "rcParams['font.size'] = 16\n",
    "rcParams['lines.linewidth'] = 3"
   ]
  },
  {
   "cell_type": "code",
   "execution_count": 2,
   "id": "492ecf3b",
   "metadata": {},
   "outputs": [],
   "source": [
    "u=np.array([0,0,2,0])\n",
    "K=70*np.array([[1/2,1/2,-1/2,-1/2],[1/2,1/2,-1/2,-1/2],[-1/2,-1/2,1/2,1/2],[-1/2,-1/2,1/2,1/2]])"
   ]
  },
  {
   "cell_type": "code",
   "execution_count": 3,
   "id": "ed5da80a",
   "metadata": {},
   "outputs": [
    {
     "name": "stdout",
     "output_type": "stream",
     "text": [
      "[F1x, F1y, F2x, F2y] =  [-70. -70.  70.  70.] N\n"
     ]
    }
   ],
   "source": [
    "F=K@u\n",
    "print('[F1x, F1y, F2x, F2y] = ',F,'N')"
   ]
  },
  {
   "cell_type": "markdown",
   "id": "66ae1e48",
   "metadata": {},
   "source": [
    "So to stretch the 1-meter by $1~mm^2$ link from its initial configuration to the right by 2 mm, it takes a $\\mathbf{F}=70\\hat{i}+70\\hat{j}$ force and a negative $\\mathbf{F}$ reaction force."
   ]
  },
  {
   "cell_type": "code",
   "execution_count": 4,
   "id": "1946311b",
   "metadata": {},
   "outputs": [
    {
     "data": {
      "text/plain": [
       "Text(0.5, 1.0, 'forces and deformation of single Al-bar\\nscale factor = 10')"
      ]
     },
     "execution_count": 4,
     "metadata": {},
     "output_type": "execute_result"
    },
    {
     "data": {
      "image/png": "[encoded data removed]",
      "text/plain": [
       "<Figure size 432x288 with 1 Axes>"
      ]
     },
     "metadata": {
      "filenames": {
       "image/png": "/home/runner/work/computational-mechanics/computational-mechanics/_build/jupyter_execute/projects/extra-FEA_material_6_1.png"
      },
      "needs_background": "light"
     },
     "output_type": "display_data"
    }
   ],
   "source": [
    "# scale factor\n",
    "s=10\n",
    "x0=np.array([0,1/2**0.5])\n",
    "y0=np.array([0,1/2**0.5])\n",
    "x=x0+u[0::2]*1e-3*s\n",
    "y=y0+u[1::2]*1e-3*s\n",
    "\n",
    "plt.plot(x0,y0,'o-',label='initial position')\n",
    "plt.plot(x,y,'s-',label='final position')\n",
    "plt.quiver(x,y,F[0::2]*s,F[1::2]*s)\n",
    "plt.title('forces and deformation of single Al-bar\\nscale factor = {}'.format(s))"
   ]
  },
  {
   "cell_type": "markdown",
   "id": "a53fd6b1",
   "metadata": {},
   "source": [
    "## Combining multiple elements\n",
    "\n",
    "This method can be extended to multiple, connected bars. We just have to do some extra book-keeping. Let's consider the 3-bar element that we used in [02_Gauss_elimination](../notebooks/02_Gauss_elimination.ipynb).\n",
    "\n",
    "![Triangular truss](../images/truss.png)"
   ]
  },
  {
   "cell_type": "markdown",
   "id": "524ee92f",
   "metadata": {},
   "source": [
    "We have 3 elements and 3 nodes, so there are 6 degrees of freedom, with 3 constraints. Let's use 1-m aluminum bars with $A=1~mm^2$, but set $\\alpha=\\beta=60^{o}$. \n",
    "\n",
    "Each element still has the stiffness defined above,\n",
    "\n",
    "$\\mathbf{K}_{el}=\\frac{EA}{l}\\left[\\begin{array}{cccc}\n",
    "        \\cos^2\\theta & \\cos\\theta\\sin\\theta & -\\cos^2\\theta & -\\cos\\theta\\sin\\theta\\\\\n",
    "        \\cos\\theta\\sin\\theta & \\sin^2\\theta & -\\cos\\theta\\sin\\theta & -\\sin^2\\theta &\\\\\n",
    "        -\\cos^2\\theta & -\\cos\\theta\\sin\\theta & \\cos^2\\theta & \\cos\\theta\\sin\\theta\\\\\n",
    "        -\\cos\\theta\\sin\\theta & -\\sin^2\\theta & \\cos\\theta\\sin\\theta & \\sin^2\\theta &\\\\\n",
    "        \\end{array}\\right]$, \n",
    "\n",
    "but there are two extra things to consider. The angle $\\theta$ is different for each bar, and the connections are in different locations for each bar. \n",
    "\n",
    "so if the initial geometry, $\\mathbf{r}$, is \n",
    "\n",
    "$\\mathbf{r}=\\left[\\begin{array}{c}\n",
    "        x_1\\\\\n",
    "        y_{1}\\\\\n",
    "        x_{2}\\\\\n",
    "        y_{2}\\\\\n",
    "        x_3 \\\\\n",
    "        y_3\\end{array}\\right]=\n",
    "        \\left[\\begin{array}{c}\n",
    "        0\\\\\n",
    "        0\\\\\n",
    "        0.5 \\\\\n",
    "        \\sqrt{3}/2\\\\\n",
    "        1 \\\\\n",
    "        0\\end{array}\\right]~m$\n",
    "\n",
    "then, the displacement, \n",
    "\n",
    "$\\mathbf{u}=\\left[\\begin{array}{c}\n",
    "        u_{1x}\\\\\n",
    "        u_{1y}\\\\\n",
    "        u_{2x}\\\\\n",
    "        u_{2y}\\\\\n",
    "        u_{3x}\\\\\n",
    "        u_{3y}\\end{array}\\right]=\n",
    "        \\left[\\begin{array}{c}\n",
    "        0\\\\\n",
    "        0\\\\\n",
    "        u_{2x}\\\\\n",
    "        u_{2y}\\\\\n",
    "        u_{3x}\\\\\n",
    "        0\\end{array}\\right]$,"
   ]
  },
  {
   "cell_type": "markdown",
   "id": "3f7c65b9",
   "metadata": {},
   "source": [
    "The forces applied at each joint must equal the sum of the terms \n",
    "\n",
    "$\\mathbf{F} = \\mathbf{K_1 u}+\\mathbf{K_2 u}+\\mathbf{K_3 u}$\n",
    "\n",
    "where, $\\mathbf{K_i}$ is the stiffness of the structure due to element $\\mathbf{i}$, as such\n",
    "\n",
    "$\\mathbf{K}_{1}=\\frac{EA}{l}\\left[\\begin{array}{cccc}\n",
    "        \\cos^2\\theta_1 & \\cos\\theta_1\\sin\\theta_1 & 0 & 0 & -\\cos^2\\theta_1 & -\\cos\\theta_1\\sin\\theta_1 \\\\\n",
    "        \\cos\\theta_1\\sin\\theta_1 & \\sin^2\\theta_1 & 0 & 0 & -\\cos\\theta_1\\sin\\theta_1 & -\\sin^2\\theta_1 \\\\\n",
    "        0 & 0 & 0 & 0 & 0 & 0 \\\\\n",
    "        0 & 0 & 0 & 0 & 0 & 0 \\\\\n",
    "        -\\cos^2\\theta_1 & -\\cos\\theta_1\\sin\\theta_1 & 0 & 0 & \\cos^2\\theta_1 & \\cos\\theta_1\\sin\\theta_1 \\\\\n",
    "        -\\cos\\theta_1\\sin\\theta_1 & -\\sin^2\\theta_1 & 0 & 0 & \\cos\\theta_1\\sin\\theta_1 & \\sin^2\\theta_1 \\\\\n",
    "        \\end{array}\\right]$\n",
    "\n",
    "$\\mathbf{K}_{2}=\\frac{EA}{l}\\left[\\begin{array}{cccc}\n",
    "        \\cos^2\\theta_2 & \\cos\\theta_2\\sin\\theta_2 & -\\cos^2\\theta_2 & -\\cos\\theta_2\\sin\\theta_2 & 0 & 0\\\\\n",
    "        \\cos\\theta_2\\sin\\theta_2 & \\sin^2\\theta_2 & -\\cos\\theta_2\\sin\\theta_2 & -\\sin^2\\theta_2 & 0 & 0\\\\\n",
    "        -\\cos^2\\theta_2 & -\\cos\\theta_2\\sin\\theta_2 & \\cos^2\\theta_2 & \\cos\\theta_2\\sin\\theta_2 & 0 & 0\\\\\n",
    "        -\\cos\\theta_2\\sin\\theta_2 & -\\sin^2\\theta_2 & \\cos\\theta_2\\sin\\theta_2 & \\sin^2\\theta_2  & 0 & 0\\\\\n",
    "        0 & 0 & 0 & 0 & 0 & 0 \\\\\n",
    "        0 & 0 & 0 & 0 & 0 & 0 \n",
    "        \\end{array}\\right]$\n",
    "\n",
    "$\\mathbf{K}_{3}=\\frac{EA}{l}\\left[\\begin{array}{cccc}\n",
    "        0 & 0 & 0 & 0 & 0 & 0 \\\\\n",
    "        0 & 0 & 0 & 0 & 0 & 0 \\\\\n",
    "        0 & 0 &\\cos^2\\theta_3 & \\cos\\theta_3\\sin\\theta_3 & -\\cos^2\\theta_3 & -\\cos\\theta_3\\sin\\theta_3 \\\\\n",
    "        0 & 0 &\\cos\\theta_3\\sin\\theta_3 & \\sin^2\\theta_3 & -\\cos\\theta_3\\sin\\theta_3 & -\\sin^2\\theta_3 \\\\\n",
    "        0 & 0 &-\\cos^2\\theta_3 & -\\cos\\theta_3\\sin\\theta_3 & \\cos^2\\theta_3 & \\cos\\theta_3\\sin\\theta_3 \\\\\n",
    "        0 & 0 &-\\cos\\theta_3\\sin\\theta_3 & -\\sin^2\\theta_3 & \\cos\\theta_3\\sin\\theta_3 & \\sin^2\\theta_3 \\\\\n",
    "        \\end{array}\\right]$"
   ]
  },
  {
   "cell_type": "code",
   "execution_count": 5,
   "id": "cb56397a",
   "metadata": {},
   "outputs": [
    {
     "name": "stdout",
     "output_type": "stream",
     "text": [
      "[[ 1.  0.  0.  0. -1. -0.]\n",
      " [ 0.  0.  0.  0. -0. -0.]\n",
      " [ 0.  0.  0.  0.  0.  0.]\n",
      " [ 0.  0.  0.  0.  0.  0.]\n",
      " [-1. -0.  0.  0.  1.  0.]\n",
      " [-0. -0.  0.  0.  0.  0.]]\n"
     ]
    }
   ],
   "source": [
    "Ke1 = lambda a: np.array([[np.cos(a)**2,np.cos(a)*np.sin(a)],[np.cos(a)*np.sin(a),np.sin(a)**2]])\n",
    "Ke2 = lambda a: np.array([[-np.cos(a)**2,-np.cos(a)*np.sin(a)],[-np.cos(a)*np.sin(a),-np.sin(a)**2]])\n",
    "\n",
    "K1 = np.zeros((6,6))\n",
    "K2 = np.zeros((6,6))\n",
    "K3 = np.zeros((6,6))\n",
    "\n",
    "K1[0:2,0:2]=Ke1(0)\n",
    "K1[4:6,4:6]=Ke1(0)\n",
    "K1[0:2,4:6]=Ke2(0)\n",
    "K1[4:6,0:2]=Ke2(0)\n",
    "K2[0:4,0:4]=np.block([[Ke1(np.pi/3),Ke2(np.pi/3)],[Ke2(np.pi/3),Ke1(np.pi/3)]])\n",
    "K3[2:6,2:6]=np.block([[Ke1(2*np.pi/3),Ke2(2*np.pi/3)],[Ke2(2*np.pi/3),Ke1(2*np.pi/3)]])\n",
    "print(K1)"
   ]
  },
  {
   "cell_type": "code",
   "execution_count": 6,
   "id": "bc5b9bf7",
   "metadata": {},
   "outputs": [
    {
     "name": "stdout",
     "output_type": "stream",
     "text": [
      "[ 87.5         30.31088913 -17.5        -30.31088913 -70.\n",
      "   0.        ]\n",
      "[ 30.31088913  52.5        -30.31088913 -52.5          0.\n",
      "   0.        ]\n",
      "[-1.75000000e+01 -3.03108891e+01  3.50000000e+01  1.55431223e-14\n",
      " -1.75000000e+01  3.03108891e+01]\n",
      "[-3.03108891e+01 -5.25000000e+01  1.55431223e-14  1.05000000e+02\n",
      "  3.03108891e+01 -5.25000000e+01]\n",
      "[-70.           0.         -17.5         30.31088913  87.5\n",
      " -30.31088913]\n",
      "[  0.           0.          30.31088913 -52.5        -30.31088913\n",
      "  52.5       ]\n"
     ]
    }
   ],
   "source": [
    "E=70e3\n",
    "A=1\n",
    "l=1e3\n",
    "K = E*A/l*(K1+K2+K3)\n",
    "for k in K:\n",
    "    print(k)"
   ]
  },
  {
   "cell_type": "code",
   "execution_count": 7,
   "id": "35002cd3",
   "metadata": {},
   "outputs": [],
   "source": [
    "ufree=np.linalg.solve(K[2:5,2:5],np.ones(3)*70)"
   ]
  },
  {
   "cell_type": "code",
   "execution_count": 8,
   "id": "bb022305",
   "metadata": {},
   "outputs": [
    {
     "data": {
      "text/plain": [
       "4.529210992451761"
      ]
     },
     "execution_count": 8,
     "metadata": {},
     "output_type": "execute_result"
    }
   ],
   "source": [
    "np.linalg.cond(K[2:5,2:5])"
   ]
  },
  {
   "cell_type": "code",
   "execution_count": 9,
   "id": "80eba3a6",
   "metadata": {},
   "outputs": [
    {
     "data": {
      "image/png": "[encoded data removed]",
      "text/plain": [
       "<Figure size 432x288 with 1 Axes>"
      ]
     },
     "metadata": {
      "filenames": {
       "image/png": "/home/runner/work/computational-mechanics/computational-mechanics/_build/jupyter_execute/projects/extra-FEA_material_14_0.png"
      },
      "needs_background": "light"
     },
     "output_type": "display_data"
    }
   ],
   "source": [
    "scale = 10\n",
    "r0=np.array([0,0,0.5,3**0.5/2,1,0])*1000\n",
    "u=np.zeros((6))\n",
    "u[2:5]=ufree\n",
    "ix=range(-2,6,2)\n",
    "iy=range(-1,6,2)\n",
    "F=K@u\n",
    "r=r0+u*scale\n",
    "\n",
    "plt.figure()\n",
    "plt.plot(r0[ix],r0[iy],'s-',label='orignal')\n",
    "plt.quiver(r0[ix],r0[iy],u[ix],u[iy],color=(0,1,1,1),label='displacements')\n",
    "plt.plot(r[ix],r[iy],'o-',label='deformed')\n",
    "plt.quiver(r0[ix],r0[iy],F[ix],F[iy],color=(1,0,0,1),label='applied forces')\n",
    "plt.axis([-100,1200,-100,1000])\n",
    "plt.legend(loc='center left', bbox_to_anchor=(1,0.5));\n",
    "plt.title('original and deformed structure\\nscale = {}x'.format(scale));"
   ]
  },
  {
   "cell_type": "markdown",
   "id": "0fd3e678",
   "metadata": {},
   "source": [
    "## Project Matrix creation\n",
    "\n",
    "In the project, we have 7 joints _(nodes)_ and 11 bars _(elements)_. That means we have 7 locations where $\\sum\\mathbf{F} = \\mathbf{0}$ and 11 stiffness matrices $(\\mathbf{K_1}...\\mathbf{K_{11}})$. The result is 14 equations with 14 unknowns, but we have some constraints on the system. $u_{1x}=u_{1y}=0$ and $u_{7y}=0.$ Which leaves us with 11 unknowns. There are 14 applied forces $(F_{ix},~F_{iy})$ that make up the vector $\\mathbf{F}.$\n",
    "\n",
    "$\\mathbf{u}=\\left[\\begin{array}{c}\n",
    "        u_{1x}\\\\\n",
    "        u_{1y}\\\\\n",
    "        u_{2x}\\\\\n",
    "        u_{2y}\\\\\n",
    "        u_{3x}\\\\\n",
    "        u_{3y}\\\\\n",
    "        u_{4x}\\\\\n",
    "        u_{4y}\\\\\n",
    "        u_{5x}\\\\\n",
    "        u_{5y}\\\\\n",
    "        u_{6x}\\\\\n",
    "        u_{6y}\\\\\n",
    "        u_{7x}\\\\\n",
    "        u_{7y}\\\\\\end{array}\\right]=\n",
    "        \\left[\\begin{array}{c}\n",
    "        0\\\\\n",
    "        0\\\\\n",
    "        u_{2x}\\\\\n",
    "        u_{2y}\\\\\n",
    "        u_{3x}\\\\\n",
    "        u_{3y}\\\\\n",
    "        u_{4x}\\\\\n",
    "        u_{4y}\\\\\n",
    "        u_{5x}\\\\\n",
    "        u_{5y}\\\\\n",
    "        u_{6x}\\\\\n",
    "        u_{6y}\\\\\n",
    "        u_{7x}\\\\\n",
    "        0\\\\\\end{array}\\right]$, and $\\mathbf{F} = \\mathbf{K_1 u}+...+\\mathbf{K_{11} u}$"
   ]
  },
  {
   "cell_type": "markdown",
   "id": "cff148b4",
   "metadata": {},
   "source": [
    "## Node and element arrays\n",
    "\n",
    "In FEA, we typically store the node locations and their connections in two arrays called the node array: `nodes` and the element array: `elems`. The array `nodes` stores the node number and its x-y location. The array `elems` stores the node numbers that define each element. Our `nodes` and `elems` are printed below."
   ]
  },
  {
   "cell_type": "code",
   "execution_count": 10,
   "id": "fbf9bafa",
   "metadata": {},
   "outputs": [
    {
     "name": "stdout",
     "output_type": "stream",
     "text": [
      "node array\n",
      "---------------\n",
      "[[  1.           0.           0.        ]\n",
      " [  2.         150.         259.80762114]\n",
      " [  3.         300.           0.        ]\n",
      " [  4.         450.         259.80762114]\n",
      " [  5.         600.           0.        ]\n",
      " [  6.         750.         259.80762114]\n",
      " [  7.         900.           0.        ]]\n",
      "element array\n",
      "---------------\n",
      "[[ 1  1  2]\n",
      " [ 2  2  3]\n",
      " [ 3  1  3]\n",
      " [ 4  2  4]\n",
      " [ 5  3  4]\n",
      " [ 6  3  5]\n",
      " [ 7  4  5]\n",
      " [ 8  4  6]\n",
      " [ 9  5  6]\n",
      " [10  5  7]\n",
      " [11  6  7]]\n"
     ]
    }
   ],
   "source": [
    "l=300 # mm\n",
    "nodes = np.array([[1,0,0],[2,0.5,3**0.5/2],[3,1,0],[4,1.5,3**0.5/2],[5,2,0],[6,2.5,3**0.5/2],[7,3,0]])\n",
    "nodes[:,1:3]*=l\n",
    "elems = np.array([[1,1,2],[2,2,3],[3,1,3],[4,2,4],[5,3,4],[6,3,5],[7,4,5],[8,4,6],[9,5,6],[10,5,7],[11,6,7]])\n",
    "print('node array\\n---------------')\n",
    "print(nodes)\n",
    "print('element array\\n---------------')\n",
    "print(elems)"
   ]
  },
  {
   "cell_type": "markdown",
   "id": "710e5519",
   "metadata": {},
   "source": [
    "We can plot the mesh in different ways, here I have chosen to loop through each triangle in the mesh, $node~1\\rightarrow node~2\\rightarrow node~3 \\rightarrow node~1 \\rightarrow node~2 \\rightarrow node~3 \\rightarrow ...$\n",
    "\n",
    "I create an array where each column is a loop around each triangle in the support structure for the x- and y-coords, `ix` and `iy`, respectively. \n",
    "\n",
    "The vector `r` is the coordinates for the structure, so $\\mathbf{r} = \\mathbf{r}_0+\\mathbf{u}$, where $\\mathbf{r}_0$ is the location of each node without forces applied and $\\mathbf{u}$ is the distance each node moves after a force is applied."
   ]
  },
  {
   "cell_type": "code",
   "execution_count": 11,
   "id": "e8f4be65",
   "metadata": {},
   "outputs": [
    {
     "data": {
      "text/plain": [
       "array([  0.        ,   0.        , 150.        , 259.80762114,\n",
       "       300.        ,   0.        , 450.        , 259.80762114,\n",
       "       600.        ,   0.        , 750.        , 259.80762114,\n",
       "       900.        ,   0.        ])"
      ]
     },
     "execution_count": 11,
     "metadata": {},
     "output_type": "execute_result"
    }
   ],
   "source": [
    "ix = 2*np.block([[np.arange(0,5)],[np.arange(1,6)],[np.arange(2,7)],[np.arange(0,5)]])\n",
    "iy = ix+1\n",
    "\n",
    "r = np.block([n[1:3] for n in nodes])\n",
    "r"
   ]
  },
  {
   "cell_type": "code",
   "execution_count": 12,
   "id": "3295cd27",
   "metadata": {},
   "outputs": [
    {
     "data": {
      "image/png": "[encoded data removed]",
      "text/plain": [
       "<Figure size 432x288 with 1 Axes>"
      ]
     },
     "metadata": {
      "filenames": {
       "image/png": "/home/runner/work/computational-mechanics/computational-mechanics/_build/jupyter_execute/projects/extra-FEA_material_20_0.png"
      },
      "needs_background": "light"
     },
     "output_type": "display_data"
    }
   ],
   "source": [
    "plt.plot(r[ix],r[iy],'-',color='k')\n",
    "plt.plot(r[ix],r[iy],'o',color='b')\n",
    "plt.plot(r[0],r[1],'^',color='r',markersize=20)\n",
    "plt.plot(r[0],r[1],'>',color='k',markersize=20)\n",
    "plt.plot(r[-2],r[-1],'^',color='r',markersize=20)\n",
    "# label the nodes\n",
    "for n in nodes:\n",
    "    if n[2]>0.8*l: offset=0.1\n",
    "    else: offset=-l/5\n",
    "    plt.text(n[1]-l/3,n[2]+offset,'n {}'.format(int(n[0])),color='b')\n",
    "# label the elements\n",
    "for e in elems:\n",
    "    n1=nodes[e[1]-1]\n",
    "    n2=nodes[e[2]-1]\n",
    "    x=np.mean([n2[1],n1[1]])\n",
    "    y=np.mean([n2[2],n1[2]])\n",
    "    # ----------------->need elem labels<-----------------\n",
    "    plt.text(x-l/5,y-l/10,'el {}'.format(int(e[0])),color='r')\n",
    "plt.title('Our truss structure\\neach element is 2 nodes and length L\\ntriangle markers are constraints')\n",
    "plt.xlabel('x (mm)')\n",
    "plt.ylabel('y (mm)')\n",
    "plt.axis(l*np.array([-0.5,3.5,-1,1.5]));"
   ]
  },
  {
   "cell_type": "markdown",
   "id": "e34e1e98",
   "metadata": {},
   "source": [
    "## Assemble the stiffness matrix\n",
    "\n",
    "Creating the matrix to represent $\\mathbf{K} = \\mathbf{K}_1+...\\mathbf{K}_{11}$ is called __assembling the stiffness matrix__. We loop through each element and add the individual stiffness matrices, the same way we did for the 3-element truss above. First, we define our $\\mathbf{K_{el}}$ function, `Kel(node1,node2)`. The nodes define the initial length and the angle of the beam element. We can multipy the stiffness matrix by $EA$ to get the actual N/m stiffness term. In our case, each beam is the same material and cross section, so we can factor out $EA$."
   ]
  },
  {
   "cell_type": "code",
   "execution_count": 13,
   "id": "2d65ae09",
   "metadata": {},
   "outputs": [],
   "source": [
    "def Kel(node1,node2):\n",
    "    '''Kel(node1,node2) returns the diagonal and off-diagonal element stiffness matrices based upon\n",
    "    initial angle of a beam element and its length the full element stiffness is\n",
    "    K_el = np.block([[Ke1,Ke2],[Ke2,Ke1]])\n",
    "    \n",
    "    Out: [Ke1 Ke2]\n",
    "         [Ke2 Ke1]   \n",
    "    arguments:\n",
    "    ----------\n",
    "    node1: is the 1st node number and coordinates from the nodes array\n",
    "    node2: is the 2nd node number and coordinates from the nodes array\n",
    "    outputs:\n",
    "    --------\n",
    "    Ke1 : the diagonal matrix of the element stiffness\n",
    "    Ke2 : the off-diagonal matrix of the element stiffness\n",
    "    '''\n",
    "    a = np.arctan2(node2[2]-node1[2],node2[1]-node1[1])\n",
    "    l = np.sqrt((node2[2]-node1[2])**2+(node2[1]-node1[1])**2)\n",
    "    Ke1 = 1/l*np.array([[np.cos(a)**2,np.cos(a)*np.sin(a)],[np.cos(a)*np.sin(a),np.sin(a)**2]])\n",
    "    Ke2 = 1/l*np.array([[-np.cos(a)**2,-np.cos(a)*np.sin(a)],[-np.cos(a)*np.sin(a),-np.sin(a)**2]])\n",
    "    return Ke1,Ke2"
   ]
  },
  {
   "cell_type": "markdown",
   "id": "222bac24",
   "metadata": {},
   "source": [
    "Next, we loop through each element (1-11) and add each element stiffness term to the _global_ stiffness matrix, $\\mathbf{K}$. The result is a $14\\times 14$ array that satisfies our $\\sum \\mathbf{F} = \\mathbf{0}$ at all 7 nodes. \n",
    "\n",
    "$\\mathbf{F} = \\mathbf{Ku}$"
   ]
  },
  {
   "cell_type": "code",
   "execution_count": 14,
   "id": "2ca4b9c9",
   "metadata": {},
   "outputs": [],
   "source": [
    "K=np.zeros((len(nodes)*2,len(nodes)*2))\n",
    "for e in elems:\n",
    "    ni = nodes[e[1]-1]\n",
    "    nj = nodes[e[2]-1]\n",
    "    \n",
    "    Ke1,Ke2 = Kel(ni,nj)\n",
    "    #--> assemble K <--\n",
    "    i1=int(ni[0])*2-2\n",
    "    i2=int(ni[0])*2\n",
    "    j1=int(nj[0])*2-2\n",
    "    j2=int(nj[0])*2\n",
    "    \n",
    "    K[i1:i2,i1:i2]+=Ke1\n",
    "    K[j1:j2,j1:j2]+=Ke1\n",
    "    K[i1:i2,j1:j2]+=Ke2\n",
    "    K[j1:j2,i1:i2]+=Ke2"
   ]
  },
  {
   "cell_type": "code",
   "execution_count": 15,
   "id": "1fecbccd",
   "metadata": {},
   "outputs": [
    {
     "name": "stdout",
     "output_type": "stream",
     "text": [
      "[[ 4.16666667  1.44337567 -0.83333333 -1.44337567 -3.33333333  0.\n",
      "   0.          0.          0.          0.          0.          0.\n",
      "   0.          0.        ]\n",
      " [ 1.44337567  2.5        -1.44337567 -2.5         0.          0.\n",
      "   0.          0.          0.          0.          0.          0.\n",
      "   0.          0.        ]\n",
      " [-0.83333333 -1.44337567  5.          0.         -0.83333333  1.44337567\n",
      "  -3.33333333  0.          0.          0.          0.          0.\n",
      "   0.          0.        ]\n",
      " [-1.44337567 -2.5         0.          5.          1.44337567 -2.5\n",
      "   0.          0.          0.          0.          0.          0.\n",
      "   0.          0.        ]\n",
      " [-3.33333333  0.         -0.83333333  1.44337567  8.33333333  0.\n",
      "  -0.83333333 -1.44337567 -3.33333333  0.          0.          0.\n",
      "   0.          0.        ]\n",
      " [ 0.          0.          1.44337567 -2.5         0.          5.\n",
      "  -1.44337567 -2.5         0.          0.          0.          0.\n",
      "   0.          0.        ]\n",
      " [ 0.          0.         -3.33333333  0.         -0.83333333 -1.44337567\n",
      "   8.33333333  0.         -0.83333333  1.44337567 -3.33333333  0.\n",
      "   0.          0.        ]\n",
      " [ 0.          0.          0.          0.         -1.44337567 -2.5\n",
      "   0.          5.          1.44337567 -2.5         0.          0.\n",
      "   0.          0.        ]\n",
      " [ 0.          0.          0.          0.         -3.33333333  0.\n",
      "  -0.83333333  1.44337567  8.33333333  0.         -0.83333333 -1.44337567\n",
      "  -3.33333333  0.        ]\n",
      " [ 0.          0.          0.          0.          0.          0.\n",
      "   1.44337567 -2.5         0.          5.         -1.44337567 -2.5\n",
      "   0.          0.        ]\n",
      " [ 0.          0.          0.          0.          0.          0.\n",
      "  -3.33333333  0.         -0.83333333 -1.44337567  5.          0.\n",
      "  -0.83333333  1.44337567]\n",
      " [ 0.          0.          0.          0.          0.          0.\n",
      "   0.          0.         -1.44337567 -2.5         0.          5.\n",
      "   1.44337567 -2.5       ]\n",
      " [ 0.          0.          0.          0.          0.          0.\n",
      "   0.          0.         -3.33333333  0.         -0.83333333  1.44337567\n",
      "   4.16666667 -1.44337567]\n",
      " [ 0.          0.          0.          0.          0.          0.\n",
      "   0.          0.          0.          0.          1.44337567 -2.5\n",
      "  -1.44337567  2.5       ]]\n"
     ]
    }
   ],
   "source": [
    "print(K*1000)"
   ]
  },
  {
   "cell_type": "markdown",
   "id": "8d7b4fc1",
   "metadata": {},
   "source": [
    "## Save the inputs for the project\n",
    "\n",
    "Here, we save the arrays needed to work on the project as a Linear Algebra problem. We need the `nodes`, `elems`, and `K` arrays. So, we save them in the file `fea_arrays.npz`."
   ]
  },
  {
   "cell_type": "code",
   "execution_count": 16,
   "id": "d59ee96f",
   "metadata": {},
   "outputs": [],
   "source": [
    "np.savez('fea_arrays',nodes=nodes,elems=elems,K=K)"
   ]
  },
  {
   "cell_type": "markdown",
   "id": "c45ab2f1",
   "metadata": {},
   "source": [
    "## Solution for our FEA problem\n",
    "\n",
    "In FEA, you have applied forces, in $\\mathbf{F}$, and displacement in $\\mathbf{u}.$ Typically, you have a mix of known and unknown forces and displacements. In our example, we have 14 degrees of freedom - 3 constraints for our displacements. So, we solve the problem in two steps\n",
    "\n",
    "1. solve for the free nodes `uf` $\\rightarrow \\mathbf{K}[2:13,2:13] \\mathbf{u}[2:13] = \\mathbf{F} [2:13]$\n",
    "\n",
    "2. plug in `u` to solve for `F` at constrained degrees of freedom $\\rightarrow \\mathbf{F}=\\mathbf{K}\\mathbf{u}$"
   ]
  },
  {
   "cell_type": "code",
   "execution_count": 17,
   "id": "229801ca",
   "metadata": {},
   "outputs": [
    {
     "name": "stdout",
     "output_type": "stream",
     "text": [
      "[   0.    0.    0.    0.    0. -100.    0.    0.    0.    0.    0.]\n",
      "[ 0.00000000e+00 -5.32907052e-15  0.00000000e+00  2.84217094e-14\n",
      "  2.14661921e-14 -1.00000000e+02  0.00000000e+00 -1.42108547e-14\n",
      "  0.00000000e+00 -2.84217094e-14  2.84217094e-14]\n"
     ]
    }
   ],
   "source": [
    "E=200e3\n",
    "A=0.1\n",
    "Ff=np.zeros(2*len(nodes)-3)\n",
    "Ff[5]=-100\n",
    "print(Ff)\n",
    "# step 1 solve for uf (the joints without constraints)\n",
    "uf = np.linalg.solve(E*A*K[2:13,2:13],Ff)\n",
    "u=np.zeros(2*len(nodes))\n",
    "u[2:13]=uf\n",
    "\n",
    "# step 2 solve for F (the solution should include reactions and applied forces)\n",
    "F=E*A*K@u\n",
    "print(F[2:13])"
   ]
  },
  {
   "cell_type": "code",
   "execution_count": 18,
   "id": "408ade15",
   "metadata": {},
   "outputs": [
    {
     "name": "stdout",
     "output_type": "stream",
     "text": [
      "displacements:\n",
      "----------------\n",
      "u_1x:0.00 mm\n",
      "u_1y:0.00 mm\n",
      "u_2x:1.95 mm\n",
      "u_2y:-2.12 mm\n",
      "u_3x:0.43 mm\n",
      "u_3y:-4.00 mm\n",
      "u_4x:1.08 mm\n",
      "u_4y:-5.37 mm\n",
      "u_5x:1.73 mm\n",
      "u_5y:-4.00 mm\n",
      "u_6x:0.22 mm\n",
      "u_6y:-2.12 mm\n",
      "u_7x:2.17 mm\n",
      "u_7y:0.00 mm\n",
      "\n",
      "forces:\n",
      "----------------\n",
      "F_1x:-0.00 N\n",
      "F_1y:50.00 N\n",
      "F_2x:0.00 N\n",
      "F_2y:-0.00 N\n",
      "F_3x:0.00 N\n",
      "F_3y:0.00 N\n",
      "F_4x:0.00 N\n",
      "F_4y:-100.00 N\n",
      "F_5x:0.00 N\n",
      "F_5y:-0.00 N\n",
      "F_6x:0.00 N\n",
      "F_6y:-0.00 N\n",
      "F_7x:0.00 N\n",
      "F_7y:50.00 N\n"
     ]
    }
   ],
   "source": [
    "xy={0:'x',1:'y'}\n",
    "print('displacements:\\n----------------')\n",
    "for i in range(len(u)):\n",
    "    print('u_{}{}:{:.2f} mm'.format(int(i/2)+1,xy[i%2],u[i]))\n",
    "print('\\nforces:\\n----------------')\n",
    "for i in range(len(F)):\n",
    "    print('F_{}{}:{:.2f} N'.format(int(i/2)+1,xy[i%2],F[i]))"
   ]
  },
  {
   "cell_type": "markdown",
   "id": "6da13d65",
   "metadata": {},
   "source": [
    "## Postprocess FEA results\n",
    "\n",
    "The last step in FEA (and any applied linear algebra problem), is to\n",
    "post-process the results. I have chosen to show the deflections of each\n",
    "joint and the applied forces at each node. I imported the `interact`\n",
    "widget to animate the deformation of the structure. What you should see\n",
    "is that the sum of external forces $\\sum F_x=0$ and $\\sum F_y=0$. This\n",
    "is what we see, since our the sum of the reaction forces is equal to the\n",
    "applied force.\n",
    "\n",
    "> __Note__: Run this in Jupyter to interact with the scale of\n",
    "> deformation."
   ]
  },
  {
   "cell_type": "code",
   "execution_count": 19,
   "id": "b775f20b",
   "metadata": {},
   "outputs": [
    {
     "data": {
      "application/vnd.jupyter.widget-view+json": {
       "model_id": "68028b26773043bfb882ec80c527e4a5",
       "version_major": 2,
       "version_minor": 0
      },
      "text/plain": [
       "interactive(children=(IntSlider(value=5, description='s', max=10), Output()), _dom_classes=('widget-interact',…"
      ]
     },
     "metadata": {},
     "output_type": "display_data"
    }
   ],
   "source": [
    "from __future__ import print_function\n",
    "from ipywidgets import interact, interactive, fixed, interact_manual\n",
    "import ipywidgets as widgets\n",
    "\n",
    "def f(s):\n",
    "    plt.plot(r[ix],r[iy],'-',color=(0,0,0,1))\n",
    "    plt.plot(r[ix]+u[ix]*s,r[iy]+u[iy]*s,'-',color=(1,0,0,1))\n",
    "    #plt.quiver(r[ix],r[iy],u[ix],u[iy],color=(0,0,1,1),label='displacements')\n",
    "    plt.quiver(r[ix],r[iy],F[ix],F[iy],color=(1,0,0,1),label='applied forces')\n",
    "    plt.quiver(r[ix],r[iy],u[ix],u[iy],color=(0,0,1,1),label='displacements')\n",
    "    plt.axis(l*np.array([-0.5,3.5,-0.5,2]))\n",
    "    plt.xlabel('x (mm)')\n",
    "    plt.ylabel('y (mm)')\n",
    "    plt.title('Deformation scale = {:.1f}x'.format(s))\n",
    "    plt.legend(bbox_to_anchor=(1,0.5))\n",
    "interact(f,s=(0,10,1));"
   ]
  }
 ],
 "metadata": {
  "jupytext": {
   "formats": "notebooks//ipynb,md:myst",
   "text_representation": {
    "extension": ".md",
    "format_name": "myst",
    "format_version": 0.13,
    "jupytext_version": "1.10.3"
   }
  },
  "kernelspec": {
   "display_name": "Python 3",
   "language": "python",
   "name": "python3"
  },
  "language_info": {
   "codemirror_mode": {
    "name": "ipython",
    "version": 3
   },
   "file_extension": ".py",
   "mimetype": "text/x-python",
   "name": "python",
   "nbconvert_exporter": "python",
   "pygments_lexer": "ipython3",
   "version": "3.9.9"
  },
  "source_map": [
   13,
   46,
   65,
   74,
   79,
   82,
   86,
   98,
   106,
   155,
   190,
   207,
   216,
   220,
   224,
   242,
   279,
   285,
   294,
   302,
   310,
   333,
   339,
   361,
   367,
   386,
   388,
   394,
   396,
   406,
   422,
   430,
   445
  ],
  "widgets": {
   "application/vnd.jupyter.widget-state+json": {
    "state": {
     "147d58a84b5241b3b89b64336401e8d7": {
      "model_module": "@jupyter-widgets/controls",
      "model_module_version": "1.5.0",
      "model_name": "IntSliderModel",
      "state": {
       "_dom_classes": [],
       "_model_module": "@jupyter-widgets/controls",
       "_model_module_version": "1.5.0",
       "_model_name": "IntSliderModel",
       "_view_count": null,
       "_view_module": "@jupyter-widgets/controls",
       "_view_module_version": "1.5.0",
       "_view_name": "IntSliderView",
       "continuous_update": true,
       "description": "s",
       "description_tooltip": null,
       "disabled": false,
       "layout": "IPY_MODEL_782ac29d223c469b9f537539144dbc9b",
       "max": 10,
       "min": 0,
       "orientation": "horizontal",
       "readout": true,
       "readout_format": "d",
       "step": 1,
       "style": "IPY_MODEL_d2c70ef3a9e940419e27014d0f4cf919",
       "value": 5
      }
     },
     "3d20f0d817ed481a905330ebdd4dea37": {
      "model_module": "@jupyter-widgets/base",
      "model_module_version": "1.2.0",
      "model_name": "LayoutModel",
      "state": {
       "_model_module": "@jupyter-widgets/base",
       "_model_module_version": "1.2.0",
       "_model_name": "LayoutModel",
       "_view_count": null,
       "_view_module": "@jupyter-widgets/base",
       "_view_module_version": "1.2.0",
       "_view_name": "LayoutView",
       "align_content": null,
       "align_items": null,
       "align_self": null,
       "border": null,
       "bottom": null,
       "display": null,
       "flex": null,
       "flex_flow": null,
       "grid_area": null,
       "grid_auto_columns": null,
       "grid_auto_flow": null,
       "grid_auto_rows": null,
       "grid_column": null,
       "grid_gap": null,
       "grid_row": null,
       "grid_template_areas": null,
       "grid_template_columns": null,
       "grid_template_rows": null,
       "height": null,
       "justify_content": null,
       "justify_items": null,
       "left": null,
       "margin": null,
       "max_height": null,
       "max_width": null,
       "min_height": null,
       "min_width": null,
       "object_fit": null,
       "object_position": null,
       "order": null,
       "overflow": null,
       "overflow_x": null,
       "overflow_y": null,
       "padding": null,
       "right": null,
       "top": null,
       "visibility": null,
       "width": null
      }
     },
     "615faddb94724f1b92f463e36bc44451": {
      "model_module": "@jupyter-widgets/output",
      "model_module_version": "1.0.0",
      "model_name": "OutputModel",
      "state": {
       "_dom_classes": [],
       "_model_module": "@jupyter-widgets/output",
       "_model_module_version": "1.0.0",
       "_model_name": "OutputModel",
       "_view_count": null,
       "_view_module": "@jupyter-widgets/output",
       "_view_module_version": "1.0.0",
       "_view_name": "OutputView",
       "layout": "IPY_MODEL_3d20f0d817ed481a905330ebdd4dea37",
       "msg_id": "",
       "outputs": [
        {
         "data": {
          "image/png": "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\n",
          "text/plain": "<Figure size 432x288 with 1 Axes>"
         },
         "metadata": {
          "needs_background": "light"
         },
         "output_type": "display_data"
        }
       ]
      }
     },
     "68028b26773043bfb882ec80c527e4a5": {
      "model_module": "@jupyter-widgets/controls",
      "model_module_version": "1.5.0",
      "model_name": "VBoxModel",
      "state": {
       "_dom_classes": [
        "widget-interact"
       ],
       "_model_module": "@jupyter-widgets/controls",
       "_model_module_version": "1.5.0",
       "_model_name": "VBoxModel",
       "_view_count": null,
       "_view_module": "@jupyter-widgets/controls",
       "_view_module_version": "1.5.0",
       "_view_name": "VBoxView",
       "box_style": "",
       "children": [
        "IPY_MODEL_147d58a84b5241b3b89b64336401e8d7",
        "IPY_MODEL_615faddb94724f1b92f463e36bc44451"
       ],
       "layout": "IPY_MODEL_f223269758534e74a76c22a957328f09"
      }
     },
     "782ac29d223c469b9f537539144dbc9b": {
      "model_module": "@jupyter-widgets/base",
      "model_module_version": "1.2.0",
      "model_name": "LayoutModel",
      "state": {
       "_model_module": "@jupyter-widgets/base",
       "_model_module_version": "1.2.0",
       "_model_name": "LayoutModel",
       "_view_count": null,
       "_view_module": "@jupyter-widgets/base",
       "_view_module_version": "1.2.0",
       "_view_name": "LayoutView",
       "align_content": null,
       "align_items": null,
       "align_self": null,
       "border": null,
       "bottom": null,
       "display": null,
       "flex": null,
       "flex_flow": null,
       "grid_area": null,
       "grid_auto_columns": null,
       "grid_auto_flow": null,
       "grid_auto_rows": null,
       "grid_column": null,
       "grid_gap": null,
       "grid_row": null,
       "grid_template_areas": null,
       "grid_template_columns": null,
       "grid_template_rows": null,
       "height": null,
       "justify_content": null,
       "justify_items": null,
       "left": null,
       "margin": null,
       "max_height": null,
       "max_width": null,
       "min_height": null,
       "min_width": null,
       "object_fit": null,
       "object_position": null,
       "order": null,
       "overflow": null,
       "overflow_x": null,
       "overflow_y": null,
       "padding": null,
       "right": null,
       "top": null,
       "visibility": null,
       "width": null
      }
     },
     "d2c70ef3a9e940419e27014d0f4cf919": {
      "model_module": "@jupyter-widgets/controls",
      "model_module_version": "1.5.0",
      "model_name": "SliderStyleModel",
      "state": {
       "_model_module": "@jupyter-widgets/controls",
       "_model_module_version": "1.5.0",
       "_model_name": "SliderStyleModel",
       "_view_count": null,
       "_view_module": "@jupyter-widgets/base",
       "_view_module_version": "1.2.0",
       "_view_name": "StyleView",
       "description_width": "",
       "handle_color": null
      }
     },
     "f223269758534e74a76c22a957328f09": {
      "model_module": "@jupyter-widgets/base",
      "model_module_version": "1.2.0",
      "model_name": "LayoutModel",
      "state": {
       "_model_module": "@jupyter-widgets/base",
       "_model_module_version": "1.2.0",
       "_model_name": "LayoutModel",
       "_view_count": null,
       "_view_module": "@jupyter-widgets/base",
       "_view_module_version": "1.2.0",
       "_view_name": "LayoutView",
       "align_content": null,
       "align_items": null,
       "align_self": null,
       "border": null,
       "bottom": null,
       "display": null,
       "flex": null,
       "flex_flow": null,
       "grid_area": null,
       "grid_auto_columns": null,
       "grid_auto_flow": null,
       "grid_auto_rows": null,
       "grid_column": null,
       "grid_gap": null,
       "grid_row": null,
       "grid_template_areas": null,
       "grid_template_columns": null,
       "grid_template_rows": null,
       "height": null,
       "justify_content": null,
       "justify_items": null,
       "left": null,
       "margin": null,
       "max_height": null,
       "max_width": null,
       "min_height": null,
       "min_width": null,
       "object_fit": null,
       "object_position": null,
       "order": null,
       "overflow": null,
       "overflow_x": null,
       "overflow_y": null,
       "padding": null,
       "right": null,
       "top": null,
       "visibility": null,
       "width": null
      }
     }
    },
    "version_major": 2,
    "version_minor": 0
   }
  }
 },
 "nbformat": 4,
 "nbformat_minor": 5
}